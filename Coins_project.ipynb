{
  "nbformat": 4,
  "nbformat_minor": 0,
  "metadata": {
    "colab": {
      "provenance": []
    },
    "kernelspec": {
      "name": "python3",
      "display_name": "Python 3"
    },
    "language_info": {
      "name": "python"
    }
  },
  "cells": [
    {
      "cell_type": "markdown",
      "source": [
        "# Импортируем необходимые библиотеки"
      ],
      "metadata": {
        "id": "6umN7lXrFDFn"
      }
    },
    {
      "cell_type": "code",
      "execution_count": null,
      "metadata": {
        "id": "SLFD7qndPmE6"
      },
      "outputs": [],
      "source": [
        "import pandas as pd\n",
        "import plotly.express as px\n",
        "\n",
        "#Библиотека для машшиного обучения\n",
        "#scikit-learn - https://scikit-learn.org\n",
        "\n",
        "import numpy as np\n",
        "from sklearn. model_selection import train_test_split\n",
        "from sklearn import metrics\n",
        "import seaborn as sns\n",
        "import matplotlib.pyplot as plt\n",
        "from sklearn.ensemble import GradientBoostingRegressor"
      ]
    },
    {
      "cell_type": "code",
      "source": [
        "# from google.colab import drive\n",
        "# drive.mount('/coins (1).xlsx')\n",
        "df = pd.read_excel('/coins (1).xlsx')\n",
        "df"
      ],
      "metadata": {
        "colab": {
          "base_uri": "https://localhost:8080/",
          "height": 424
        },
        "id": "oBGtXyg3PjSh",
        "outputId": "b90e0c89-b049-45f9-9da5-f601abb9a106"
      },
      "execution_count": null,
      "outputs": [
        {
          "output_type": "execute_result",
          "data": {
            "text/plain": [
              "            Name                 Platform       Market Cap       Price  \\\n",
              "0         Tether                 Ethereum  $80,248,730,516       $1.00   \n",
              "1       USD Coin                 Ethereum  $32,593,479,174     $0.9998   \n",
              "2    Binance USD  BNB Beacon Chain (BEP2)   $7,067,679,909     $0.9996   \n",
              "3      Shiba Inu                 Ethereum   $6,427,129,880  $0.0000109   \n",
              "4            Dai                 Ethereum   $5,269,630,139     $0.9997   \n",
              "..           ...                      ...              ...         ...   \n",
              "187       Pendle                 Ethereum      $91,702,433     $0.4583   \n",
              "188  USDX [Kava]  BNB Smart Chain (BEP20)      $91,614,675     $0.8212   \n",
              "189  Powerledger  BNB Smart Chain (BEP20)      $91,117,709     $0.1897   \n",
              "190  Locus Chain  BNB Smart Chain (BEP20)      $90,170,815    $0.04333   \n",
              "191          NYM                 Ethereum      $89,933,698     $0.2286   \n",
              "\n",
              "             Circulating Supply      Volume(24h)    % 1h   % 24h    % 7d  \n",
              "0         80 210 538 011 USDT *  $18 811 647 783  0.0000  0.0001  0.0004  \n",
              "1         32 600 464 084 USDC *   $2 404 657 769 -0.0001  0.0001  0.0003  \n",
              "2          7 070 499 351 BUSD *   $2 537 944 726 -0.0002  0.0002  0.0004  \n",
              "3    589 541 992 736 161 SHIB *     $126 530 418 -0.0033 -0.0050 -0.0031  \n",
              "4           5 271 311 800 DAI *      $82 831 239 -0.0003 -0.0001  0.0001  \n",
              "..                          ...              ...     ...     ...     ...  \n",
              "187        200 107 450 PENDLE *       $1 413 661  0.0119 -0.0870  0.2399  \n",
              "188          111 567 264 USDX *         $571 234 -0.0044 -0.0078 -0.0207  \n",
              "189          480 237 763 POWR *       $3 368 311  0.0000 -0.0299  0.0099  \n",
              "190       2 081 062 787 LOCUS *         $454 580 -0.0015  0.0060 -0.1615  \n",
              "191           393 350 569 NYM *       $1 004 180  0.0094  0.0004 -0.0012  \n",
              "\n",
              "[192 rows x 9 columns]"
            ],
            "text/html": [
              "\n",
              "  <div id=\"df-1c5a2200-856d-4c98-a246-d31eef2ef4e5\">\n",
              "    <div class=\"colab-df-container\">\n",
              "      <div>\n",
              "<style scoped>\n",
              "    .dataframe tbody tr th:only-of-type {\n",
              "        vertical-align: middle;\n",
              "    }\n",
              "\n",
              "    .dataframe tbody tr th {\n",
              "        vertical-align: top;\n",
              "    }\n",
              "\n",
              "    .dataframe thead th {\n",
              "        text-align: right;\n",
              "    }\n",
              "</style>\n",
              "<table border=\"1\" class=\"dataframe\">\n",
              "  <thead>\n",
              "    <tr style=\"text-align: right;\">\n",
              "      <th></th>\n",
              "      <th>Name</th>\n",
              "      <th>Platform</th>\n",
              "      <th>Market Cap</th>\n",
              "      <th>Price</th>\n",
              "      <th>Circulating Supply</th>\n",
              "      <th>Volume(24h)</th>\n",
              "      <th>% 1h</th>\n",
              "      <th>% 24h</th>\n",
              "      <th>% 7d</th>\n",
              "    </tr>\n",
              "  </thead>\n",
              "  <tbody>\n",
              "    <tr>\n",
              "      <th>0</th>\n",
              "      <td>Tether</td>\n",
              "      <td>Ethereum</td>\n",
              "      <td>$80,248,730,516</td>\n",
              "      <td>$1.00</td>\n",
              "      <td>80 210 538 011 USDT *</td>\n",
              "      <td>$18 811 647 783</td>\n",
              "      <td>0.0000</td>\n",
              "      <td>0.0001</td>\n",
              "      <td>0.0004</td>\n",
              "    </tr>\n",
              "    <tr>\n",
              "      <th>1</th>\n",
              "      <td>USD Coin</td>\n",
              "      <td>Ethereum</td>\n",
              "      <td>$32,593,479,174</td>\n",
              "      <td>$0.9998</td>\n",
              "      <td>32 600 464 084 USDC *</td>\n",
              "      <td>$2 404 657 769</td>\n",
              "      <td>-0.0001</td>\n",
              "      <td>0.0001</td>\n",
              "      <td>0.0003</td>\n",
              "    </tr>\n",
              "    <tr>\n",
              "      <th>2</th>\n",
              "      <td>Binance USD</td>\n",
              "      <td>BNB Beacon Chain (BEP2)</td>\n",
              "      <td>$7,067,679,909</td>\n",
              "      <td>$0.9996</td>\n",
              "      <td>7 070 499 351 BUSD *</td>\n",
              "      <td>$2 537 944 726</td>\n",
              "      <td>-0.0002</td>\n",
              "      <td>0.0002</td>\n",
              "      <td>0.0004</td>\n",
              "    </tr>\n",
              "    <tr>\n",
              "      <th>3</th>\n",
              "      <td>Shiba Inu</td>\n",
              "      <td>Ethereum</td>\n",
              "      <td>$6,427,129,880</td>\n",
              "      <td>$0.0000109</td>\n",
              "      <td>589 541 992 736 161 SHIB *</td>\n",
              "      <td>$126 530 418</td>\n",
              "      <td>-0.0033</td>\n",
              "      <td>-0.0050</td>\n",
              "      <td>-0.0031</td>\n",
              "    </tr>\n",
              "    <tr>\n",
              "      <th>4</th>\n",
              "      <td>Dai</td>\n",
              "      <td>Ethereum</td>\n",
              "      <td>$5,269,630,139</td>\n",
              "      <td>$0.9997</td>\n",
              "      <td>5 271 311 800 DAI *</td>\n",
              "      <td>$82 831 239</td>\n",
              "      <td>-0.0003</td>\n",
              "      <td>-0.0001</td>\n",
              "      <td>0.0001</td>\n",
              "    </tr>\n",
              "    <tr>\n",
              "      <th>...</th>\n",
              "      <td>...</td>\n",
              "      <td>...</td>\n",
              "      <td>...</td>\n",
              "      <td>...</td>\n",
              "      <td>...</td>\n",
              "      <td>...</td>\n",
              "      <td>...</td>\n",
              "      <td>...</td>\n",
              "      <td>...</td>\n",
              "    </tr>\n",
              "    <tr>\n",
              "      <th>187</th>\n",
              "      <td>Pendle</td>\n",
              "      <td>Ethereum</td>\n",
              "      <td>$91,702,433</td>\n",
              "      <td>$0.4583</td>\n",
              "      <td>200 107 450 PENDLE *</td>\n",
              "      <td>$1 413 661</td>\n",
              "      <td>0.0119</td>\n",
              "      <td>-0.0870</td>\n",
              "      <td>0.2399</td>\n",
              "    </tr>\n",
              "    <tr>\n",
              "      <th>188</th>\n",
              "      <td>USDX [Kava]</td>\n",
              "      <td>BNB Smart Chain (BEP20)</td>\n",
              "      <td>$91,614,675</td>\n",
              "      <td>$0.8212</td>\n",
              "      <td>111 567 264 USDX *</td>\n",
              "      <td>$571 234</td>\n",
              "      <td>-0.0044</td>\n",
              "      <td>-0.0078</td>\n",
              "      <td>-0.0207</td>\n",
              "    </tr>\n",
              "    <tr>\n",
              "      <th>189</th>\n",
              "      <td>Powerledger</td>\n",
              "      <td>BNB Smart Chain (BEP20)</td>\n",
              "      <td>$91,117,709</td>\n",
              "      <td>$0.1897</td>\n",
              "      <td>480 237 763 POWR *</td>\n",
              "      <td>$3 368 311</td>\n",
              "      <td>0.0000</td>\n",
              "      <td>-0.0299</td>\n",
              "      <td>0.0099</td>\n",
              "    </tr>\n",
              "    <tr>\n",
              "      <th>190</th>\n",
              "      <td>Locus Chain</td>\n",
              "      <td>BNB Smart Chain (BEP20)</td>\n",
              "      <td>$90,170,815</td>\n",
              "      <td>$0.04333</td>\n",
              "      <td>2 081 062 787 LOCUS *</td>\n",
              "      <td>$454 580</td>\n",
              "      <td>-0.0015</td>\n",
              "      <td>0.0060</td>\n",
              "      <td>-0.1615</td>\n",
              "    </tr>\n",
              "    <tr>\n",
              "      <th>191</th>\n",
              "      <td>NYM</td>\n",
              "      <td>Ethereum</td>\n",
              "      <td>$89,933,698</td>\n",
              "      <td>$0.2286</td>\n",
              "      <td>393 350 569 NYM *</td>\n",
              "      <td>$1 004 180</td>\n",
              "      <td>0.0094</td>\n",
              "      <td>0.0004</td>\n",
              "      <td>-0.0012</td>\n",
              "    </tr>\n",
              "  </tbody>\n",
              "</table>\n",
              "<p>192 rows × 9 columns</p>\n",
              "</div>\n",
              "      <button class=\"colab-df-convert\" onclick=\"convertToInteractive('df-1c5a2200-856d-4c98-a246-d31eef2ef4e5')\"\n",
              "              title=\"Convert this dataframe to an interactive table.\"\n",
              "              style=\"display:none;\">\n",
              "        \n",
              "  <svg xmlns=\"http://www.w3.org/2000/svg\" height=\"24px\"viewBox=\"0 0 24 24\"\n",
              "       width=\"24px\">\n",
              "    <path d=\"M0 0h24v24H0V0z\" fill=\"none\"/>\n",
              "    <path d=\"M18.56 5.44l.94 2.06.94-2.06 2.06-.94-2.06-.94-.94-2.06-.94 2.06-2.06.94zm-11 1L8.5 8.5l.94-2.06 2.06-.94-2.06-.94L8.5 2.5l-.94 2.06-2.06.94zm10 10l.94 2.06.94-2.06 2.06-.94-2.06-.94-.94-2.06-.94 2.06-2.06.94z\"/><path d=\"M17.41 7.96l-1.37-1.37c-.4-.4-.92-.59-1.43-.59-.52 0-1.04.2-1.43.59L10.3 9.45l-7.72 7.72c-.78.78-.78 2.05 0 2.83L4 21.41c.39.39.9.59 1.41.59.51 0 1.02-.2 1.41-.59l7.78-7.78 2.81-2.81c.8-.78.8-2.07 0-2.86zM5.41 20L4 18.59l7.72-7.72 1.47 1.35L5.41 20z\"/>\n",
              "  </svg>\n",
              "      </button>\n",
              "      \n",
              "  <style>\n",
              "    .colab-df-container {\n",
              "      display:flex;\n",
              "      flex-wrap:wrap;\n",
              "      gap: 12px;\n",
              "    }\n",
              "\n",
              "    .colab-df-convert {\n",
              "      background-color: #E8F0FE;\n",
              "      border: none;\n",
              "      border-radius: 50%;\n",
              "      cursor: pointer;\n",
              "      display: none;\n",
              "      fill: #1967D2;\n",
              "      height: 32px;\n",
              "      padding: 0 0 0 0;\n",
              "      width: 32px;\n",
              "    }\n",
              "\n",
              "    .colab-df-convert:hover {\n",
              "      background-color: #E2EBFA;\n",
              "      box-shadow: 0px 1px 2px rgba(60, 64, 67, 0.3), 0px 1px 3px 1px rgba(60, 64, 67, 0.15);\n",
              "      fill: #174EA6;\n",
              "    }\n",
              "\n",
              "    [theme=dark] .colab-df-convert {\n",
              "      background-color: #3B4455;\n",
              "      fill: #D2E3FC;\n",
              "    }\n",
              "\n",
              "    [theme=dark] .colab-df-convert:hover {\n",
              "      background-color: #434B5C;\n",
              "      box-shadow: 0px 1px 3px 1px rgba(0, 0, 0, 0.15);\n",
              "      filter: drop-shadow(0px 1px 2px rgba(0, 0, 0, 0.3));\n",
              "      fill: #FFFFFF;\n",
              "    }\n",
              "  </style>\n",
              "\n",
              "      <script>\n",
              "        const buttonEl =\n",
              "          document.querySelector('#df-1c5a2200-856d-4c98-a246-d31eef2ef4e5 button.colab-df-convert');\n",
              "        buttonEl.style.display =\n",
              "          google.colab.kernel.accessAllowed ? 'block' : 'none';\n",
              "\n",
              "        async function convertToInteractive(key) {\n",
              "          const element = document.querySelector('#df-1c5a2200-856d-4c98-a246-d31eef2ef4e5');\n",
              "          const dataTable =\n",
              "            await google.colab.kernel.invokeFunction('convertToInteractive',\n",
              "                                                     [key], {});\n",
              "          if (!dataTable) return;\n",
              "\n",
              "          const docLinkHtml = 'Like what you see? Visit the ' +\n",
              "            '<a target=\"_blank\" href=https://colab.research.google.com/notebooks/data_table.ipynb>data table notebook</a>'\n",
              "            + ' to learn more about interactive tables.';\n",
              "          element.innerHTML = '';\n",
              "          dataTable['output_type'] = 'display_data';\n",
              "          await google.colab.output.renderOutput(dataTable, element);\n",
              "          const docLink = document.createElement('div');\n",
              "          docLink.innerHTML = docLinkHtml;\n",
              "          element.appendChild(docLink);\n",
              "        }\n",
              "      </script>\n",
              "    </div>\n",
              "  </div>\n",
              "  "
            ]
          },
          "metadata": {},
          "execution_count": 26
        }
      ]
    },
    {
      "cell_type": "markdown",
      "source": [
        "# Загрузим файл с данными по коинам и посмотрим содержимое"
      ],
      "metadata": {
        "id": "SG2TK3AZFGzA"
      }
    },
    {
      "cell_type": "code",
      "source": [
        "df = pd.read_excel('/coins (1).xlsx')"
      ],
      "metadata": {
        "id": "8Mr0w2C-P01f"
      },
      "execution_count": null,
      "outputs": []
    },
    {
      "cell_type": "code",
      "source": [
        "df.head(10)"
      ],
      "metadata": {
        "colab": {
          "base_uri": "https://localhost:8080/",
          "height": 363
        },
        "id": "NXUmKzd-QvJe",
        "outputId": "d5240558-d727-4c2b-f519-dec4670ac13e"
      },
      "execution_count": null,
      "outputs": [
        {
          "output_type": "execute_result",
          "data": {
            "text/plain": [
              "              Name                 Platform       Market Cap       Price  \\\n",
              "0           Tether                 Ethereum  $80,248,730,516       $1.00   \n",
              "1         USD Coin                 Ethereum  $32,593,479,174     $0.9998   \n",
              "2      Binance USD  BNB Beacon Chain (BEP2)   $7,067,679,909     $0.9996   \n",
              "3        Shiba Inu                 Ethereum   $6,427,129,880  $0.0000109   \n",
              "4              Dai                 Ethereum   $5,269,630,139     $0.9997   \n",
              "5  Wrapped Bitcoin  BNB Beacon Chain (BEP2)   $4,217,893,187  $27,923.71   \n",
              "6        Chainlink  BNB Beacon Chain (BEP2)   $3,675,066,211       $7.11   \n",
              "7          Uniswap  BNB Beacon Chain (BEP2)   $3,375,997,064       $5.85   \n",
              "8     UNUS SED LEO  BNB Beacon Chain (BEP2)   $3,239,111,209       $3.40   \n",
              "9              OKB                   Klaytn   $2,469,599,030      $41.16   \n",
              "\n",
              "           Circulating Supply      Volume(24h)    % 1h   % 24h    % 7d  \n",
              "0       80 210 538 011 USDT *  $18 811 647 783  0.0000  0.0001  0.0004  \n",
              "1       32 600 464 084 USDC *   $2 404 657 769 -0.0001  0.0001  0.0003  \n",
              "2        7 070 499 351 BUSD *   $2 537 944 726 -0.0002  0.0002  0.0004  \n",
              "3  589 541 992 736 161 SHIB *     $126 530 418 -0.0033 -0.0050 -0.0031  \n",
              "4         5 271 311 800 DAI *      $82 831 239 -0.0003 -0.0001  0.0001  \n",
              "5              151 051 WBTC *      $72 546 032 -0.0002 -0.0045 -0.0086  \n",
              "6          517 099 970 LINK *     $115 763 187 -0.0006 -0.0146 -0.0289  \n",
              "7           577 486 703 UNI *      $73 041 059 -0.0009 -0.0229 -0.0195  \n",
              "8           953 954 130 LEO *         $422 800  0.0053  0.0087  0.0011  \n",
              "9            60 000 000 OKB *       $6 454 305  0.0010 -0.0069 -0.0020  "
            ],
            "text/html": [
              "\n",
              "  <div id=\"df-4d2315dd-1d71-4322-bdf0-f46c5fdcf160\">\n",
              "    <div class=\"colab-df-container\">\n",
              "      <div>\n",
              "<style scoped>\n",
              "    .dataframe tbody tr th:only-of-type {\n",
              "        vertical-align: middle;\n",
              "    }\n",
              "\n",
              "    .dataframe tbody tr th {\n",
              "        vertical-align: top;\n",
              "    }\n",
              "\n",
              "    .dataframe thead th {\n",
              "        text-align: right;\n",
              "    }\n",
              "</style>\n",
              "<table border=\"1\" class=\"dataframe\">\n",
              "  <thead>\n",
              "    <tr style=\"text-align: right;\">\n",
              "      <th></th>\n",
              "      <th>Name</th>\n",
              "      <th>Platform</th>\n",
              "      <th>Market Cap</th>\n",
              "      <th>Price</th>\n",
              "      <th>Circulating Supply</th>\n",
              "      <th>Volume(24h)</th>\n",
              "      <th>% 1h</th>\n",
              "      <th>% 24h</th>\n",
              "      <th>% 7d</th>\n",
              "    </tr>\n",
              "  </thead>\n",
              "  <tbody>\n",
              "    <tr>\n",
              "      <th>0</th>\n",
              "      <td>Tether</td>\n",
              "      <td>Ethereum</td>\n",
              "      <td>$80,248,730,516</td>\n",
              "      <td>$1.00</td>\n",
              "      <td>80 210 538 011 USDT *</td>\n",
              "      <td>$18 811 647 783</td>\n",
              "      <td>0.0000</td>\n",
              "      <td>0.0001</td>\n",
              "      <td>0.0004</td>\n",
              "    </tr>\n",
              "    <tr>\n",
              "      <th>1</th>\n",
              "      <td>USD Coin</td>\n",
              "      <td>Ethereum</td>\n",
              "      <td>$32,593,479,174</td>\n",
              "      <td>$0.9998</td>\n",
              "      <td>32 600 464 084 USDC *</td>\n",
              "      <td>$2 404 657 769</td>\n",
              "      <td>-0.0001</td>\n",
              "      <td>0.0001</td>\n",
              "      <td>0.0003</td>\n",
              "    </tr>\n",
              "    <tr>\n",
              "      <th>2</th>\n",
              "      <td>Binance USD</td>\n",
              "      <td>BNB Beacon Chain (BEP2)</td>\n",
              "      <td>$7,067,679,909</td>\n",
              "      <td>$0.9996</td>\n",
              "      <td>7 070 499 351 BUSD *</td>\n",
              "      <td>$2 537 944 726</td>\n",
              "      <td>-0.0002</td>\n",
              "      <td>0.0002</td>\n",
              "      <td>0.0004</td>\n",
              "    </tr>\n",
              "    <tr>\n",
              "      <th>3</th>\n",
              "      <td>Shiba Inu</td>\n",
              "      <td>Ethereum</td>\n",
              "      <td>$6,427,129,880</td>\n",
              "      <td>$0.0000109</td>\n",
              "      <td>589 541 992 736 161 SHIB *</td>\n",
              "      <td>$126 530 418</td>\n",
              "      <td>-0.0033</td>\n",
              "      <td>-0.0050</td>\n",
              "      <td>-0.0031</td>\n",
              "    </tr>\n",
              "    <tr>\n",
              "      <th>4</th>\n",
              "      <td>Dai</td>\n",
              "      <td>Ethereum</td>\n",
              "      <td>$5,269,630,139</td>\n",
              "      <td>$0.9997</td>\n",
              "      <td>5 271 311 800 DAI *</td>\n",
              "      <td>$82 831 239</td>\n",
              "      <td>-0.0003</td>\n",
              "      <td>-0.0001</td>\n",
              "      <td>0.0001</td>\n",
              "    </tr>\n",
              "    <tr>\n",
              "      <th>5</th>\n",
              "      <td>Wrapped Bitcoin</td>\n",
              "      <td>BNB Beacon Chain (BEP2)</td>\n",
              "      <td>$4,217,893,187</td>\n",
              "      <td>$27,923.71</td>\n",
              "      <td>151 051 WBTC *</td>\n",
              "      <td>$72 546 032</td>\n",
              "      <td>-0.0002</td>\n",
              "      <td>-0.0045</td>\n",
              "      <td>-0.0086</td>\n",
              "    </tr>\n",
              "    <tr>\n",
              "      <th>6</th>\n",
              "      <td>Chainlink</td>\n",
              "      <td>BNB Beacon Chain (BEP2)</td>\n",
              "      <td>$3,675,066,211</td>\n",
              "      <td>$7.11</td>\n",
              "      <td>517 099 970 LINK *</td>\n",
              "      <td>$115 763 187</td>\n",
              "      <td>-0.0006</td>\n",
              "      <td>-0.0146</td>\n",
              "      <td>-0.0289</td>\n",
              "    </tr>\n",
              "    <tr>\n",
              "      <th>7</th>\n",
              "      <td>Uniswap</td>\n",
              "      <td>BNB Beacon Chain (BEP2)</td>\n",
              "      <td>$3,375,997,064</td>\n",
              "      <td>$5.85</td>\n",
              "      <td>577 486 703 UNI *</td>\n",
              "      <td>$73 041 059</td>\n",
              "      <td>-0.0009</td>\n",
              "      <td>-0.0229</td>\n",
              "      <td>-0.0195</td>\n",
              "    </tr>\n",
              "    <tr>\n",
              "      <th>8</th>\n",
              "      <td>UNUS SED LEO</td>\n",
              "      <td>BNB Beacon Chain (BEP2)</td>\n",
              "      <td>$3,239,111,209</td>\n",
              "      <td>$3.40</td>\n",
              "      <td>953 954 130 LEO *</td>\n",
              "      <td>$422 800</td>\n",
              "      <td>0.0053</td>\n",
              "      <td>0.0087</td>\n",
              "      <td>0.0011</td>\n",
              "    </tr>\n",
              "    <tr>\n",
              "      <th>9</th>\n",
              "      <td>OKB</td>\n",
              "      <td>Klaytn</td>\n",
              "      <td>$2,469,599,030</td>\n",
              "      <td>$41.16</td>\n",
              "      <td>60 000 000 OKB *</td>\n",
              "      <td>$6 454 305</td>\n",
              "      <td>0.0010</td>\n",
              "      <td>-0.0069</td>\n",
              "      <td>-0.0020</td>\n",
              "    </tr>\n",
              "  </tbody>\n",
              "</table>\n",
              "</div>\n",
              "      <button class=\"colab-df-convert\" onclick=\"convertToInteractive('df-4d2315dd-1d71-4322-bdf0-f46c5fdcf160')\"\n",
              "              title=\"Convert this dataframe to an interactive table.\"\n",
              "              style=\"display:none;\">\n",
              "        \n",
              "  <svg xmlns=\"http://www.w3.org/2000/svg\" height=\"24px\"viewBox=\"0 0 24 24\"\n",
              "       width=\"24px\">\n",
              "    <path d=\"M0 0h24v24H0V0z\" fill=\"none\"/>\n",
              "    <path d=\"M18.56 5.44l.94 2.06.94-2.06 2.06-.94-2.06-.94-.94-2.06-.94 2.06-2.06.94zm-11 1L8.5 8.5l.94-2.06 2.06-.94-2.06-.94L8.5 2.5l-.94 2.06-2.06.94zm10 10l.94 2.06.94-2.06 2.06-.94-2.06-.94-.94-2.06-.94 2.06-2.06.94z\"/><path d=\"M17.41 7.96l-1.37-1.37c-.4-.4-.92-.59-1.43-.59-.52 0-1.04.2-1.43.59L10.3 9.45l-7.72 7.72c-.78.78-.78 2.05 0 2.83L4 21.41c.39.39.9.59 1.41.59.51 0 1.02-.2 1.41-.59l7.78-7.78 2.81-2.81c.8-.78.8-2.07 0-2.86zM5.41 20L4 18.59l7.72-7.72 1.47 1.35L5.41 20z\"/>\n",
              "  </svg>\n",
              "      </button>\n",
              "      \n",
              "  <style>\n",
              "    .colab-df-container {\n",
              "      display:flex;\n",
              "      flex-wrap:wrap;\n",
              "      gap: 12px;\n",
              "    }\n",
              "\n",
              "    .colab-df-convert {\n",
              "      background-color: #E8F0FE;\n",
              "      border: none;\n",
              "      border-radius: 50%;\n",
              "      cursor: pointer;\n",
              "      display: none;\n",
              "      fill: #1967D2;\n",
              "      height: 32px;\n",
              "      padding: 0 0 0 0;\n",
              "      width: 32px;\n",
              "    }\n",
              "\n",
              "    .colab-df-convert:hover {\n",
              "      background-color: #E2EBFA;\n",
              "      box-shadow: 0px 1px 2px rgba(60, 64, 67, 0.3), 0px 1px 3px 1px rgba(60, 64, 67, 0.15);\n",
              "      fill: #174EA6;\n",
              "    }\n",
              "\n",
              "    [theme=dark] .colab-df-convert {\n",
              "      background-color: #3B4455;\n",
              "      fill: #D2E3FC;\n",
              "    }\n",
              "\n",
              "    [theme=dark] .colab-df-convert:hover {\n",
              "      background-color: #434B5C;\n",
              "      box-shadow: 0px 1px 3px 1px rgba(0, 0, 0, 0.15);\n",
              "      filter: drop-shadow(0px 1px 2px rgba(0, 0, 0, 0.3));\n",
              "      fill: #FFFFFF;\n",
              "    }\n",
              "  </style>\n",
              "\n",
              "      <script>\n",
              "        const buttonEl =\n",
              "          document.querySelector('#df-4d2315dd-1d71-4322-bdf0-f46c5fdcf160 button.colab-df-convert');\n",
              "        buttonEl.style.display =\n",
              "          google.colab.kernel.accessAllowed ? 'block' : 'none';\n",
              "\n",
              "        async function convertToInteractive(key) {\n",
              "          const element = document.querySelector('#df-4d2315dd-1d71-4322-bdf0-f46c5fdcf160');\n",
              "          const dataTable =\n",
              "            await google.colab.kernel.invokeFunction('convertToInteractive',\n",
              "                                                     [key], {});\n",
              "          if (!dataTable) return;\n",
              "\n",
              "          const docLinkHtml = 'Like what you see? Visit the ' +\n",
              "            '<a target=\"_blank\" href=https://colab.research.google.com/notebooks/data_table.ipynb>data table notebook</a>'\n",
              "            + ' to learn more about interactive tables.';\n",
              "          element.innerHTML = '';\n",
              "          dataTable['output_type'] = 'display_data';\n",
              "          await google.colab.output.renderOutput(dataTable, element);\n",
              "          const docLink = document.createElement('div');\n",
              "          docLink.innerHTML = docLinkHtml;\n",
              "          element.appendChild(docLink);\n",
              "        }\n",
              "      </script>\n",
              "    </div>\n",
              "  </div>\n",
              "  "
            ]
          },
          "metadata": {},
          "execution_count": 29
        }
      ]
    },
    {
      "cell_type": "markdown",
      "source": [
        "**В нашем датасете представлена следующая информация:**\n",
        "- **Name** - тикер коина\n",
        "- **Platform** - имя платформы\n",
        "- **Market Cap** - рыночная капитализация\n",
        "- **Price** - стоимость монеты\n",
        "- **Circulating Supply** - наиболее точное количество монет, находящихся в обращении на рынке и в руках пользователей\n",
        "- **Volume(24h)** - объем за сутки в $\n",
        "- **% 1h,\t% 24h,\t% 7d** - процентное изменение катировок платформы по каждому коину за 1 час, 1 день и 1 неделю соответственно\n"
      ],
      "metadata": {
        "id": "CEBbKwyVat54"
      }
    },
    {
      "cell_type": "markdown",
      "source": [
        "Посмотрим информацию о данных"
      ],
      "metadata": {
        "id": "Oh_k5jXGGTef"
      }
    },
    {
      "cell_type": "code",
      "source": [
        "df.info()"
      ],
      "metadata": {
        "colab": {
          "base_uri": "https://localhost:8080/"
        },
        "id": "ehBkXPasGWOO",
        "outputId": "fba3bfbf-d0e8-429d-d25f-73bcd46523e0"
      },
      "execution_count": null,
      "outputs": [
        {
          "output_type": "stream",
          "name": "stdout",
          "text": [
            "<class 'pandas.core.frame.DataFrame'>\n",
            "RangeIndex: 192 entries, 0 to 191\n",
            "Data columns (total 9 columns):\n",
            " #   Column              Non-Null Count  Dtype  \n",
            "---  ------              --------------  -----  \n",
            " 0   Name                192 non-null    object \n",
            " 1   Platform            191 non-null    object \n",
            " 2   Market Cap          192 non-null    object \n",
            " 3   Price               192 non-null    object \n",
            " 4   Circulating Supply  192 non-null    object \n",
            " 5   Volume(24h)         192 non-null    object \n",
            " 6   % 1h                192 non-null    float64\n",
            " 7   % 24h               192 non-null    float64\n",
            " 8   % 7d                192 non-null    float64\n",
            "dtypes: float64(3), object(6)\n",
            "memory usage: 13.6+ KB\n"
          ]
        }
      ]
    },
    {
      "cell_type": "markdown",
      "source": [
        "Заметим, что данные в таблице представлены в неудобном для анализа виде, например, наличие $ и запятых мешает обработке данных. Также стоит перевести данные столбца *market cap* в миллиарды рублей.\n",
        "Преобразуем стобцы, содержащие рыночную капитализацию (*market cap*) и стоимость актива (*Price*) и округлим до 2-х знаков."
      ],
      "metadata": {
        "id": "kJt30nyDFXeD"
      }
    },
    {
      "cell_type": "code",
      "source": [
        "df['Market Cap'] = df['Market Cap'].apply(lambda x: round(int(str(x).replace(',','').replace('$',''))/1000000000,2))"
      ],
      "metadata": {
        "id": "AutTE2-JRynp"
      },
      "execution_count": null,
      "outputs": []
    },
    {
      "cell_type": "code",
      "source": [
        "df['Price'] = df['Price'].apply(lambda x: round(float(str(x).replace(',','').replace('$','')),2))"
      ],
      "metadata": {
        "id": "d-ZixGymU0x8"
      },
      "execution_count": null,
      "outputs": []
    },
    {
      "cell_type": "markdown",
      "source": [
        "Снова посомтрим информацию о данных"
      ],
      "metadata": {
        "id": "UAUtu_iVGaTp"
      }
    },
    {
      "cell_type": "code",
      "source": [
        "df.info()"
      ],
      "metadata": {
        "colab": {
          "base_uri": "https://localhost:8080/"
        },
        "id": "ZYFVfEIOVOF0",
        "outputId": "ca3e80e1-f5ff-4af0-ea94-23cfc0b9c2ef"
      },
      "execution_count": null,
      "outputs": [
        {
          "output_type": "stream",
          "name": "stdout",
          "text": [
            "<class 'pandas.core.frame.DataFrame'>\n",
            "RangeIndex: 192 entries, 0 to 191\n",
            "Data columns (total 9 columns):\n",
            " #   Column              Non-Null Count  Dtype  \n",
            "---  ------              --------------  -----  \n",
            " 0   Name                192 non-null    object \n",
            " 1   Platform            191 non-null    object \n",
            " 2   Market Cap          192 non-null    float64\n",
            " 3   Price               192 non-null    float64\n",
            " 4   Circulating Supply  192 non-null    object \n",
            " 5   Volume(24h)         192 non-null    object \n",
            " 6   % 1h                192 non-null    float64\n",
            " 7   % 24h               192 non-null    float64\n",
            " 8   % 7d                192 non-null    float64\n",
            "dtypes: float64(5), object(4)\n",
            "memory usage: 13.6+ KB\n"
          ]
        }
      ]
    },
    {
      "cell_type": "markdown",
      "source": [
        "Заметим, что теперь столбцы Market Cap и Price стали числовыми, а значит с ними можно работать"
      ],
      "metadata": {
        "id": "x6U5am6mGfl_"
      }
    },
    {
      "cell_type": "markdown",
      "source": [
        "Нас интересует надежность и прибыльность платформы, поэтому сгруппируем данные по платформам и оставим только нужные столбцы"
      ],
      "metadata": {
        "id": "1Oel_313G08B"
      }
    },
    {
      "cell_type": "code",
      "source": [
        "df.groupby(['Platform']).agg({'Market Cap':'mean','Price':'mean','% 7d':'sum'}).sort_values(by = ['Market Cap','% 7d'],ascending = False)"
      ],
      "metadata": {
        "colab": {
          "base_uri": "https://localhost:8080/",
          "height": 520
        },
        "id": "YQWc2hk-RR_B",
        "outputId": "b6d7b322-621e-4d8b-cd56-33946817b4b2"
      },
      "execution_count": null,
      "outputs": [
        {
          "output_type": "execute_result",
          "data": {
            "text/plain": [
              "                         Market Cap        Price    % 7d\n",
              "Platform                                                \n",
              "Ethereum                   2.928462   818.461731  0.9490\n",
              "BNB Beacon Chain (BEP2)    2.302727  5077.435455  0.0060\n",
              "Klaytn                     1.092727     9.428182  0.3112\n",
              "Arbitrum                   0.803333    26.203333 -0.0789\n",
              "Aptos                      0.802857     8.027143  0.0580\n",
              "Tron10                     0.750000     0.000000  0.2147\n",
              "Optimism                   0.700000     2.230000  0.0055\n",
              "Stellar                    0.429773     2.537045 -0.3095\n",
              "BNB Smart Chain (BEP20)    0.415714    16.031905  1.4288\n",
              "Tron20                     0.301379  1137.445172  0.1569\n",
              "Polygon                    0.200000     6.710000 -0.0528\n",
              "Avalanche C-Chain          0.200000     0.580000 -0.0679\n",
              "RSK RBTC                   0.120000     0.130000 -0.0816\n",
              "Everscale                  0.110000     0.060000 -0.1745"
            ],
            "text/html": [
              "\n",
              "  <div id=\"df-8bc3d651-07c0-472f-b423-ec46081dcc9a\">\n",
              "    <div class=\"colab-df-container\">\n",
              "      <div>\n",
              "<style scoped>\n",
              "    .dataframe tbody tr th:only-of-type {\n",
              "        vertical-align: middle;\n",
              "    }\n",
              "\n",
              "    .dataframe tbody tr th {\n",
              "        vertical-align: top;\n",
              "    }\n",
              "\n",
              "    .dataframe thead th {\n",
              "        text-align: right;\n",
              "    }\n",
              "</style>\n",
              "<table border=\"1\" class=\"dataframe\">\n",
              "  <thead>\n",
              "    <tr style=\"text-align: right;\">\n",
              "      <th></th>\n",
              "      <th>Market Cap</th>\n",
              "      <th>Price</th>\n",
              "      <th>% 7d</th>\n",
              "    </tr>\n",
              "    <tr>\n",
              "      <th>Platform</th>\n",
              "      <th></th>\n",
              "      <th></th>\n",
              "      <th></th>\n",
              "    </tr>\n",
              "  </thead>\n",
              "  <tbody>\n",
              "    <tr>\n",
              "      <th>Ethereum</th>\n",
              "      <td>2.928462</td>\n",
              "      <td>818.461731</td>\n",
              "      <td>0.9490</td>\n",
              "    </tr>\n",
              "    <tr>\n",
              "      <th>BNB Beacon Chain (BEP2)</th>\n",
              "      <td>2.302727</td>\n",
              "      <td>5077.435455</td>\n",
              "      <td>0.0060</td>\n",
              "    </tr>\n",
              "    <tr>\n",
              "      <th>Klaytn</th>\n",
              "      <td>1.092727</td>\n",
              "      <td>9.428182</td>\n",
              "      <td>0.3112</td>\n",
              "    </tr>\n",
              "    <tr>\n",
              "      <th>Arbitrum</th>\n",
              "      <td>0.803333</td>\n",
              "      <td>26.203333</td>\n",
              "      <td>-0.0789</td>\n",
              "    </tr>\n",
              "    <tr>\n",
              "      <th>Aptos</th>\n",
              "      <td>0.802857</td>\n",
              "      <td>8.027143</td>\n",
              "      <td>0.0580</td>\n",
              "    </tr>\n",
              "    <tr>\n",
              "      <th>Tron10</th>\n",
              "      <td>0.750000</td>\n",
              "      <td>0.000000</td>\n",
              "      <td>0.2147</td>\n",
              "    </tr>\n",
              "    <tr>\n",
              "      <th>Optimism</th>\n",
              "      <td>0.700000</td>\n",
              "      <td>2.230000</td>\n",
              "      <td>0.0055</td>\n",
              "    </tr>\n",
              "    <tr>\n",
              "      <th>Stellar</th>\n",
              "      <td>0.429773</td>\n",
              "      <td>2.537045</td>\n",
              "      <td>-0.3095</td>\n",
              "    </tr>\n",
              "    <tr>\n",
              "      <th>BNB Smart Chain (BEP20)</th>\n",
              "      <td>0.415714</td>\n",
              "      <td>16.031905</td>\n",
              "      <td>1.4288</td>\n",
              "    </tr>\n",
              "    <tr>\n",
              "      <th>Tron20</th>\n",
              "      <td>0.301379</td>\n",
              "      <td>1137.445172</td>\n",
              "      <td>0.1569</td>\n",
              "    </tr>\n",
              "    <tr>\n",
              "      <th>Polygon</th>\n",
              "      <td>0.200000</td>\n",
              "      <td>6.710000</td>\n",
              "      <td>-0.0528</td>\n",
              "    </tr>\n",
              "    <tr>\n",
              "      <th>Avalanche C-Chain</th>\n",
              "      <td>0.200000</td>\n",
              "      <td>0.580000</td>\n",
              "      <td>-0.0679</td>\n",
              "    </tr>\n",
              "    <tr>\n",
              "      <th>RSK RBTC</th>\n",
              "      <td>0.120000</td>\n",
              "      <td>0.130000</td>\n",
              "      <td>-0.0816</td>\n",
              "    </tr>\n",
              "    <tr>\n",
              "      <th>Everscale</th>\n",
              "      <td>0.110000</td>\n",
              "      <td>0.060000</td>\n",
              "      <td>-0.1745</td>\n",
              "    </tr>\n",
              "  </tbody>\n",
              "</table>\n",
              "</div>\n",
              "      <button class=\"colab-df-convert\" onclick=\"convertToInteractive('df-8bc3d651-07c0-472f-b423-ec46081dcc9a')\"\n",
              "              title=\"Convert this dataframe to an interactive table.\"\n",
              "              style=\"display:none;\">\n",
              "        \n",
              "  <svg xmlns=\"http://www.w3.org/2000/svg\" height=\"24px\"viewBox=\"0 0 24 24\"\n",
              "       width=\"24px\">\n",
              "    <path d=\"M0 0h24v24H0V0z\" fill=\"none\"/>\n",
              "    <path d=\"M18.56 5.44l.94 2.06.94-2.06 2.06-.94-2.06-.94-.94-2.06-.94 2.06-2.06.94zm-11 1L8.5 8.5l.94-2.06 2.06-.94-2.06-.94L8.5 2.5l-.94 2.06-2.06.94zm10 10l.94 2.06.94-2.06 2.06-.94-2.06-.94-.94-2.06-.94 2.06-2.06.94z\"/><path d=\"M17.41 7.96l-1.37-1.37c-.4-.4-.92-.59-1.43-.59-.52 0-1.04.2-1.43.59L10.3 9.45l-7.72 7.72c-.78.78-.78 2.05 0 2.83L4 21.41c.39.39.9.59 1.41.59.51 0 1.02-.2 1.41-.59l7.78-7.78 2.81-2.81c.8-.78.8-2.07 0-2.86zM5.41 20L4 18.59l7.72-7.72 1.47 1.35L5.41 20z\"/>\n",
              "  </svg>\n",
              "      </button>\n",
              "      \n",
              "  <style>\n",
              "    .colab-df-container {\n",
              "      display:flex;\n",
              "      flex-wrap:wrap;\n",
              "      gap: 12px;\n",
              "    }\n",
              "\n",
              "    .colab-df-convert {\n",
              "      background-color: #E8F0FE;\n",
              "      border: none;\n",
              "      border-radius: 50%;\n",
              "      cursor: pointer;\n",
              "      display: none;\n",
              "      fill: #1967D2;\n",
              "      height: 32px;\n",
              "      padding: 0 0 0 0;\n",
              "      width: 32px;\n",
              "    }\n",
              "\n",
              "    .colab-df-convert:hover {\n",
              "      background-color: #E2EBFA;\n",
              "      box-shadow: 0px 1px 2px rgba(60, 64, 67, 0.3), 0px 1px 3px 1px rgba(60, 64, 67, 0.15);\n",
              "      fill: #174EA6;\n",
              "    }\n",
              "\n",
              "    [theme=dark] .colab-df-convert {\n",
              "      background-color: #3B4455;\n",
              "      fill: #D2E3FC;\n",
              "    }\n",
              "\n",
              "    [theme=dark] .colab-df-convert:hover {\n",
              "      background-color: #434B5C;\n",
              "      box-shadow: 0px 1px 3px 1px rgba(0, 0, 0, 0.15);\n",
              "      filter: drop-shadow(0px 1px 2px rgba(0, 0, 0, 0.3));\n",
              "      fill: #FFFFFF;\n",
              "    }\n",
              "  </style>\n",
              "\n",
              "      <script>\n",
              "        const buttonEl =\n",
              "          document.querySelector('#df-8bc3d651-07c0-472f-b423-ec46081dcc9a button.colab-df-convert');\n",
              "        buttonEl.style.display =\n",
              "          google.colab.kernel.accessAllowed ? 'block' : 'none';\n",
              "\n",
              "        async function convertToInteractive(key) {\n",
              "          const element = document.querySelector('#df-8bc3d651-07c0-472f-b423-ec46081dcc9a');\n",
              "          const dataTable =\n",
              "            await google.colab.kernel.invokeFunction('convertToInteractive',\n",
              "                                                     [key], {});\n",
              "          if (!dataTable) return;\n",
              "\n",
              "          const docLinkHtml = 'Like what you see? Visit the ' +\n",
              "            '<a target=\"_blank\" href=https://colab.research.google.com/notebooks/data_table.ipynb>data table notebook</a>'\n",
              "            + ' to learn more about interactive tables.';\n",
              "          element.innerHTML = '';\n",
              "          dataTable['output_type'] = 'display_data';\n",
              "          await google.colab.output.renderOutput(dataTable, element);\n",
              "          const docLink = document.createElement('div');\n",
              "          docLink.innerHTML = docLinkHtml;\n",
              "          element.appendChild(docLink);\n",
              "        }\n",
              "      </script>\n",
              "    </div>\n",
              "  </div>\n",
              "  "
            ]
          },
          "metadata": {},
          "execution_count": 34
        }
      ]
    },
    {
      "cell_type": "markdown",
      "source": [
        "  Заметим, что макисмальную рыночную капитализации можно наблюдать у двух платформ: Ethereum и BNB Beacon Chain (BEP2). Причем по истечении 7-ми дней изменение их катировок омталось положительным, что подтверждает их надежность, при этом платформа Arbitrum с довольно большой капитализацией и ценой актива по прошествии 7-ми дней опустилась на 0.08 %"
      ],
      "metadata": {
        "id": "V68-TqgAHFIA"
      }
    },
    {
      "cell_type": "markdown",
      "source": [
        "# Рассмотрим применение методов машинного  обучения на примере платформы Ethereum"
      ],
      "metadata": {
        "id": "GNQbywWIVA_9"
      }
    },
    {
      "cell_type": "markdown",
      "source": [
        "У нас есть непрерывный набор числовых данных, поэтому будем использовать модель линейной регрессии"
      ],
      "metadata": {
        "id": "rpEGZt7lVbax"
      }
    },
    {
      "cell_type": "markdown",
      "source": [
        "Создадим логический формат файла для более удобного применения методов машинного обучения, выделив платформу Ethereum"
      ],
      "metadata": {
        "id": "VnSNhVVDo71S"
      }
    },
    {
      "cell_type": "code",
      "source": [
        "df_ml = df.query('Platform == \"Ethereum\"').reset_index()\n",
        "df_ml.head(10)"
      ],
      "metadata": {
        "colab": {
          "base_uri": "https://localhost:8080/",
          "height": 363
        },
        "id": "l_ThoLgNcByQ",
        "outputId": "445b8e33-8aac-43dc-acab-22887ce1bde1"
      },
      "execution_count": null,
      "outputs": [
        {
          "output_type": "execute_result",
          "data": {
            "text/plain": [
              "   index           Name  Platform  Market Cap   Price  \\\n",
              "0      0         Tether  Ethereum       80.25    1.00   \n",
              "1      1       USD Coin  Ethereum       32.59    1.00   \n",
              "2      3      Shiba Inu  Ethereum        6.43    0.00   \n",
              "3      4            Dai  Ethereum        5.27    1.00   \n",
              "4     13         Cronos  Ethereum        1.71    0.07   \n",
              "5     14        ApeCoin  Ethereum        1.54    4.19   \n",
              "6     17          Quant  Ethereum        1.45  119.85   \n",
              "7     36     Frax Share  Ethereum        0.62    8.67   \n",
              "8     37  Gemini Dollar  Ethereum        0.61    1.00   \n",
              "9     39    Huobi Token  Ethereum        0.58    3.58   \n",
              "\n",
              "           Circulating Supply      Volume(24h)    % 1h   % 24h    % 7d  \n",
              "0       80 210 538 011 USDT *  $18 811 647 783  0.0000  0.0001  0.0004  \n",
              "1       32 600 464 084 USDC *   $2 404 657 769 -0.0001  0.0001  0.0003  \n",
              "2  589 541 992 736 161 SHIB *     $126 530 418 -0.0033 -0.0050 -0.0031  \n",
              "3         5 271 311 800 DAI *      $82 831 239 -0.0003 -0.0001  0.0001  \n",
              "4        25 263 013 692 CRO *      $11 641 887 -0.0030 -0.0181 -0.0109  \n",
              "5           368 593 750 APE *      $52 173 016  0.0020 -0.0047 -0.0137  \n",
              "6            12 072 738 QNT *      $12 729 413  0.0025 -0.0033 -0.0536  \n",
              "7            71 262 834 FXS *      $29 006 073 -0.0021 -0.0782 -0.0265  \n",
              "8          607 049 883 GUSD *         $387 010 -0.0010 -0.0016  0.0088  \n",
              "9            162 233 844 HT *      $10 821 413 -0.0009 -0.0035 -0.0203  "
            ],
            "text/html": [
              "\n",
              "  <div id=\"df-d9f641e5-3991-4421-bac5-2f2d1ba882bc\">\n",
              "    <div class=\"colab-df-container\">\n",
              "      <div>\n",
              "<style scoped>\n",
              "    .dataframe tbody tr th:only-of-type {\n",
              "        vertical-align: middle;\n",
              "    }\n",
              "\n",
              "    .dataframe tbody tr th {\n",
              "        vertical-align: top;\n",
              "    }\n",
              "\n",
              "    .dataframe thead th {\n",
              "        text-align: right;\n",
              "    }\n",
              "</style>\n",
              "<table border=\"1\" class=\"dataframe\">\n",
              "  <thead>\n",
              "    <tr style=\"text-align: right;\">\n",
              "      <th></th>\n",
              "      <th>index</th>\n",
              "      <th>Name</th>\n",
              "      <th>Platform</th>\n",
              "      <th>Market Cap</th>\n",
              "      <th>Price</th>\n",
              "      <th>Circulating Supply</th>\n",
              "      <th>Volume(24h)</th>\n",
              "      <th>% 1h</th>\n",
              "      <th>% 24h</th>\n",
              "      <th>% 7d</th>\n",
              "    </tr>\n",
              "  </thead>\n",
              "  <tbody>\n",
              "    <tr>\n",
              "      <th>0</th>\n",
              "      <td>0</td>\n",
              "      <td>Tether</td>\n",
              "      <td>Ethereum</td>\n",
              "      <td>80.25</td>\n",
              "      <td>1.00</td>\n",
              "      <td>80 210 538 011 USDT *</td>\n",
              "      <td>$18 811 647 783</td>\n",
              "      <td>0.0000</td>\n",
              "      <td>0.0001</td>\n",
              "      <td>0.0004</td>\n",
              "    </tr>\n",
              "    <tr>\n",
              "      <th>1</th>\n",
              "      <td>1</td>\n",
              "      <td>USD Coin</td>\n",
              "      <td>Ethereum</td>\n",
              "      <td>32.59</td>\n",
              "      <td>1.00</td>\n",
              "      <td>32 600 464 084 USDC *</td>\n",
              "      <td>$2 404 657 769</td>\n",
              "      <td>-0.0001</td>\n",
              "      <td>0.0001</td>\n",
              "      <td>0.0003</td>\n",
              "    </tr>\n",
              "    <tr>\n",
              "      <th>2</th>\n",
              "      <td>3</td>\n",
              "      <td>Shiba Inu</td>\n",
              "      <td>Ethereum</td>\n",
              "      <td>6.43</td>\n",
              "      <td>0.00</td>\n",
              "      <td>589 541 992 736 161 SHIB *</td>\n",
              "      <td>$126 530 418</td>\n",
              "      <td>-0.0033</td>\n",
              "      <td>-0.0050</td>\n",
              "      <td>-0.0031</td>\n",
              "    </tr>\n",
              "    <tr>\n",
              "      <th>3</th>\n",
              "      <td>4</td>\n",
              "      <td>Dai</td>\n",
              "      <td>Ethereum</td>\n",
              "      <td>5.27</td>\n",
              "      <td>1.00</td>\n",
              "      <td>5 271 311 800 DAI *</td>\n",
              "      <td>$82 831 239</td>\n",
              "      <td>-0.0003</td>\n",
              "      <td>-0.0001</td>\n",
              "      <td>0.0001</td>\n",
              "    </tr>\n",
              "    <tr>\n",
              "      <th>4</th>\n",
              "      <td>13</td>\n",
              "      <td>Cronos</td>\n",
              "      <td>Ethereum</td>\n",
              "      <td>1.71</td>\n",
              "      <td>0.07</td>\n",
              "      <td>25 263 013 692 CRO *</td>\n",
              "      <td>$11 641 887</td>\n",
              "      <td>-0.0030</td>\n",
              "      <td>-0.0181</td>\n",
              "      <td>-0.0109</td>\n",
              "    </tr>\n",
              "    <tr>\n",
              "      <th>5</th>\n",
              "      <td>14</td>\n",
              "      <td>ApeCoin</td>\n",
              "      <td>Ethereum</td>\n",
              "      <td>1.54</td>\n",
              "      <td>4.19</td>\n",
              "      <td>368 593 750 APE *</td>\n",
              "      <td>$52 173 016</td>\n",
              "      <td>0.0020</td>\n",
              "      <td>-0.0047</td>\n",
              "      <td>-0.0137</td>\n",
              "    </tr>\n",
              "    <tr>\n",
              "      <th>6</th>\n",
              "      <td>17</td>\n",
              "      <td>Quant</td>\n",
              "      <td>Ethereum</td>\n",
              "      <td>1.45</td>\n",
              "      <td>119.85</td>\n",
              "      <td>12 072 738 QNT *</td>\n",
              "      <td>$12 729 413</td>\n",
              "      <td>0.0025</td>\n",
              "      <td>-0.0033</td>\n",
              "      <td>-0.0536</td>\n",
              "    </tr>\n",
              "    <tr>\n",
              "      <th>7</th>\n",
              "      <td>36</td>\n",
              "      <td>Frax Share</td>\n",
              "      <td>Ethereum</td>\n",
              "      <td>0.62</td>\n",
              "      <td>8.67</td>\n",
              "      <td>71 262 834 FXS *</td>\n",
              "      <td>$29 006 073</td>\n",
              "      <td>-0.0021</td>\n",
              "      <td>-0.0782</td>\n",
              "      <td>-0.0265</td>\n",
              "    </tr>\n",
              "    <tr>\n",
              "      <th>8</th>\n",
              "      <td>37</td>\n",
              "      <td>Gemini Dollar</td>\n",
              "      <td>Ethereum</td>\n",
              "      <td>0.61</td>\n",
              "      <td>1.00</td>\n",
              "      <td>607 049 883 GUSD *</td>\n",
              "      <td>$387 010</td>\n",
              "      <td>-0.0010</td>\n",
              "      <td>-0.0016</td>\n",
              "      <td>0.0088</td>\n",
              "    </tr>\n",
              "    <tr>\n",
              "      <th>9</th>\n",
              "      <td>39</td>\n",
              "      <td>Huobi Token</td>\n",
              "      <td>Ethereum</td>\n",
              "      <td>0.58</td>\n",
              "      <td>3.58</td>\n",
              "      <td>162 233 844 HT *</td>\n",
              "      <td>$10 821 413</td>\n",
              "      <td>-0.0009</td>\n",
              "      <td>-0.0035</td>\n",
              "      <td>-0.0203</td>\n",
              "    </tr>\n",
              "  </tbody>\n",
              "</table>\n",
              "</div>\n",
              "      <button class=\"colab-df-convert\" onclick=\"convertToInteractive('df-d9f641e5-3991-4421-bac5-2f2d1ba882bc')\"\n",
              "              title=\"Convert this dataframe to an interactive table.\"\n",
              "              style=\"display:none;\">\n",
              "        \n",
              "  <svg xmlns=\"http://www.w3.org/2000/svg\" height=\"24px\"viewBox=\"0 0 24 24\"\n",
              "       width=\"24px\">\n",
              "    <path d=\"M0 0h24v24H0V0z\" fill=\"none\"/>\n",
              "    <path d=\"M18.56 5.44l.94 2.06.94-2.06 2.06-.94-2.06-.94-.94-2.06-.94 2.06-2.06.94zm-11 1L8.5 8.5l.94-2.06 2.06-.94-2.06-.94L8.5 2.5l-.94 2.06-2.06.94zm10 10l.94 2.06.94-2.06 2.06-.94-2.06-.94-.94-2.06-.94 2.06-2.06.94z\"/><path d=\"M17.41 7.96l-1.37-1.37c-.4-.4-.92-.59-1.43-.59-.52 0-1.04.2-1.43.59L10.3 9.45l-7.72 7.72c-.78.78-.78 2.05 0 2.83L4 21.41c.39.39.9.59 1.41.59.51 0 1.02-.2 1.41-.59l7.78-7.78 2.81-2.81c.8-.78.8-2.07 0-2.86zM5.41 20L4 18.59l7.72-7.72 1.47 1.35L5.41 20z\"/>\n",
              "  </svg>\n",
              "      </button>\n",
              "      \n",
              "  <style>\n",
              "    .colab-df-container {\n",
              "      display:flex;\n",
              "      flex-wrap:wrap;\n",
              "      gap: 12px;\n",
              "    }\n",
              "\n",
              "    .colab-df-convert {\n",
              "      background-color: #E8F0FE;\n",
              "      border: none;\n",
              "      border-radius: 50%;\n",
              "      cursor: pointer;\n",
              "      display: none;\n",
              "      fill: #1967D2;\n",
              "      height: 32px;\n",
              "      padding: 0 0 0 0;\n",
              "      width: 32px;\n",
              "    }\n",
              "\n",
              "    .colab-df-convert:hover {\n",
              "      background-color: #E2EBFA;\n",
              "      box-shadow: 0px 1px 2px rgba(60, 64, 67, 0.3), 0px 1px 3px 1px rgba(60, 64, 67, 0.15);\n",
              "      fill: #174EA6;\n",
              "    }\n",
              "\n",
              "    [theme=dark] .colab-df-convert {\n",
              "      background-color: #3B4455;\n",
              "      fill: #D2E3FC;\n",
              "    }\n",
              "\n",
              "    [theme=dark] .colab-df-convert:hover {\n",
              "      background-color: #434B5C;\n",
              "      box-shadow: 0px 1px 3px 1px rgba(0, 0, 0, 0.15);\n",
              "      filter: drop-shadow(0px 1px 2px rgba(0, 0, 0, 0.3));\n",
              "      fill: #FFFFFF;\n",
              "    }\n",
              "  </style>\n",
              "\n",
              "      <script>\n",
              "        const buttonEl =\n",
              "          document.querySelector('#df-d9f641e5-3991-4421-bac5-2f2d1ba882bc button.colab-df-convert');\n",
              "        buttonEl.style.display =\n",
              "          google.colab.kernel.accessAllowed ? 'block' : 'none';\n",
              "\n",
              "        async function convertToInteractive(key) {\n",
              "          const element = document.querySelector('#df-d9f641e5-3991-4421-bac5-2f2d1ba882bc');\n",
              "          const dataTable =\n",
              "            await google.colab.kernel.invokeFunction('convertToInteractive',\n",
              "                                                     [key], {});\n",
              "          if (!dataTable) return;\n",
              "\n",
              "          const docLinkHtml = 'Like what you see? Visit the ' +\n",
              "            '<a target=\"_blank\" href=https://colab.research.google.com/notebooks/data_table.ipynb>data table notebook</a>'\n",
              "            + ' to learn more about interactive tables.';\n",
              "          element.innerHTML = '';\n",
              "          dataTable['output_type'] = 'display_data';\n",
              "          await google.colab.output.renderOutput(dataTable, element);\n",
              "          const docLink = document.createElement('div');\n",
              "          docLink.innerHTML = docLinkHtml;\n",
              "          element.appendChild(docLink);\n",
              "        }\n",
              "      </script>\n",
              "    </div>\n",
              "  </div>\n",
              "  "
            ]
          },
          "metadata": {},
          "execution_count": 35
        }
      ]
    },
    {
      "cell_type": "markdown",
      "source": [
        "Удалим лишние для анализа столбцы"
      ],
      "metadata": {
        "id": "jVdijVONVM9l"
      }
    },
    {
      "cell_type": "code",
      "source": [
        "df_ml = df_ml.drop(columns = ['index','Name','Platform','Circulating Supply','Volume(24h)'])\n",
        "df_ml.head(10)"
      ],
      "metadata": {
        "colab": {
          "base_uri": "https://localhost:8080/",
          "height": 363
        },
        "id": "hJ4Ysw3tjK0X",
        "outputId": "17933214-b66f-4fa5-8cd0-2ea823979e1e"
      },
      "execution_count": null,
      "outputs": [
        {
          "output_type": "execute_result",
          "data": {
            "text/plain": [
              "   Market Cap   Price    % 1h   % 24h    % 7d\n",
              "0       80.25    1.00  0.0000  0.0001  0.0004\n",
              "1       32.59    1.00 -0.0001  0.0001  0.0003\n",
              "2        6.43    0.00 -0.0033 -0.0050 -0.0031\n",
              "3        5.27    1.00 -0.0003 -0.0001  0.0001\n",
              "4        1.71    0.07 -0.0030 -0.0181 -0.0109\n",
              "5        1.54    4.19  0.0020 -0.0047 -0.0137\n",
              "6        1.45  119.85  0.0025 -0.0033 -0.0536\n",
              "7        0.62    8.67 -0.0021 -0.0782 -0.0265\n",
              "8        0.61    1.00 -0.0010 -0.0016  0.0088\n",
              "9        0.58    3.58 -0.0009 -0.0035 -0.0203"
            ],
            "text/html": [
              "\n",
              "  <div id=\"df-cfd1fefe-02db-44a2-9be5-0ef2fc74dfc2\">\n",
              "    <div class=\"colab-df-container\">\n",
              "      <div>\n",
              "<style scoped>\n",
              "    .dataframe tbody tr th:only-of-type {\n",
              "        vertical-align: middle;\n",
              "    }\n",
              "\n",
              "    .dataframe tbody tr th {\n",
              "        vertical-align: top;\n",
              "    }\n",
              "\n",
              "    .dataframe thead th {\n",
              "        text-align: right;\n",
              "    }\n",
              "</style>\n",
              "<table border=\"1\" class=\"dataframe\">\n",
              "  <thead>\n",
              "    <tr style=\"text-align: right;\">\n",
              "      <th></th>\n",
              "      <th>Market Cap</th>\n",
              "      <th>Price</th>\n",
              "      <th>% 1h</th>\n",
              "      <th>% 24h</th>\n",
              "      <th>% 7d</th>\n",
              "    </tr>\n",
              "  </thead>\n",
              "  <tbody>\n",
              "    <tr>\n",
              "      <th>0</th>\n",
              "      <td>80.25</td>\n",
              "      <td>1.00</td>\n",
              "      <td>0.0000</td>\n",
              "      <td>0.0001</td>\n",
              "      <td>0.0004</td>\n",
              "    </tr>\n",
              "    <tr>\n",
              "      <th>1</th>\n",
              "      <td>32.59</td>\n",
              "      <td>1.00</td>\n",
              "      <td>-0.0001</td>\n",
              "      <td>0.0001</td>\n",
              "      <td>0.0003</td>\n",
              "    </tr>\n",
              "    <tr>\n",
              "      <th>2</th>\n",
              "      <td>6.43</td>\n",
              "      <td>0.00</td>\n",
              "      <td>-0.0033</td>\n",
              "      <td>-0.0050</td>\n",
              "      <td>-0.0031</td>\n",
              "    </tr>\n",
              "    <tr>\n",
              "      <th>3</th>\n",
              "      <td>5.27</td>\n",
              "      <td>1.00</td>\n",
              "      <td>-0.0003</td>\n",
              "      <td>-0.0001</td>\n",
              "      <td>0.0001</td>\n",
              "    </tr>\n",
              "    <tr>\n",
              "      <th>4</th>\n",
              "      <td>1.71</td>\n",
              "      <td>0.07</td>\n",
              "      <td>-0.0030</td>\n",
              "      <td>-0.0181</td>\n",
              "      <td>-0.0109</td>\n",
              "    </tr>\n",
              "    <tr>\n",
              "      <th>5</th>\n",
              "      <td>1.54</td>\n",
              "      <td>4.19</td>\n",
              "      <td>0.0020</td>\n",
              "      <td>-0.0047</td>\n",
              "      <td>-0.0137</td>\n",
              "    </tr>\n",
              "    <tr>\n",
              "      <th>6</th>\n",
              "      <td>1.45</td>\n",
              "      <td>119.85</td>\n",
              "      <td>0.0025</td>\n",
              "      <td>-0.0033</td>\n",
              "      <td>-0.0536</td>\n",
              "    </tr>\n",
              "    <tr>\n",
              "      <th>7</th>\n",
              "      <td>0.62</td>\n",
              "      <td>8.67</td>\n",
              "      <td>-0.0021</td>\n",
              "      <td>-0.0782</td>\n",
              "      <td>-0.0265</td>\n",
              "    </tr>\n",
              "    <tr>\n",
              "      <th>8</th>\n",
              "      <td>0.61</td>\n",
              "      <td>1.00</td>\n",
              "      <td>-0.0010</td>\n",
              "      <td>-0.0016</td>\n",
              "      <td>0.0088</td>\n",
              "    </tr>\n",
              "    <tr>\n",
              "      <th>9</th>\n",
              "      <td>0.58</td>\n",
              "      <td>3.58</td>\n",
              "      <td>-0.0009</td>\n",
              "      <td>-0.0035</td>\n",
              "      <td>-0.0203</td>\n",
              "    </tr>\n",
              "  </tbody>\n",
              "</table>\n",
              "</div>\n",
              "      <button class=\"colab-df-convert\" onclick=\"convertToInteractive('df-cfd1fefe-02db-44a2-9be5-0ef2fc74dfc2')\"\n",
              "              title=\"Convert this dataframe to an interactive table.\"\n",
              "              style=\"display:none;\">\n",
              "        \n",
              "  <svg xmlns=\"http://www.w3.org/2000/svg\" height=\"24px\"viewBox=\"0 0 24 24\"\n",
              "       width=\"24px\">\n",
              "    <path d=\"M0 0h24v24H0V0z\" fill=\"none\"/>\n",
              "    <path d=\"M18.56 5.44l.94 2.06.94-2.06 2.06-.94-2.06-.94-.94-2.06-.94 2.06-2.06.94zm-11 1L8.5 8.5l.94-2.06 2.06-.94-2.06-.94L8.5 2.5l-.94 2.06-2.06.94zm10 10l.94 2.06.94-2.06 2.06-.94-2.06-.94-.94-2.06-.94 2.06-2.06.94z\"/><path d=\"M17.41 7.96l-1.37-1.37c-.4-.4-.92-.59-1.43-.59-.52 0-1.04.2-1.43.59L10.3 9.45l-7.72 7.72c-.78.78-.78 2.05 0 2.83L4 21.41c.39.39.9.59 1.41.59.51 0 1.02-.2 1.41-.59l7.78-7.78 2.81-2.81c.8-.78.8-2.07 0-2.86zM5.41 20L4 18.59l7.72-7.72 1.47 1.35L5.41 20z\"/>\n",
              "  </svg>\n",
              "      </button>\n",
              "      \n",
              "  <style>\n",
              "    .colab-df-container {\n",
              "      display:flex;\n",
              "      flex-wrap:wrap;\n",
              "      gap: 12px;\n",
              "    }\n",
              "\n",
              "    .colab-df-convert {\n",
              "      background-color: #E8F0FE;\n",
              "      border: none;\n",
              "      border-radius: 50%;\n",
              "      cursor: pointer;\n",
              "      display: none;\n",
              "      fill: #1967D2;\n",
              "      height: 32px;\n",
              "      padding: 0 0 0 0;\n",
              "      width: 32px;\n",
              "    }\n",
              "\n",
              "    .colab-df-convert:hover {\n",
              "      background-color: #E2EBFA;\n",
              "      box-shadow: 0px 1px 2px rgba(60, 64, 67, 0.3), 0px 1px 3px 1px rgba(60, 64, 67, 0.15);\n",
              "      fill: #174EA6;\n",
              "    }\n",
              "\n",
              "    [theme=dark] .colab-df-convert {\n",
              "      background-color: #3B4455;\n",
              "      fill: #D2E3FC;\n",
              "    }\n",
              "\n",
              "    [theme=dark] .colab-df-convert:hover {\n",
              "      background-color: #434B5C;\n",
              "      box-shadow: 0px 1px 3px 1px rgba(0, 0, 0, 0.15);\n",
              "      filter: drop-shadow(0px 1px 2px rgba(0, 0, 0, 0.3));\n",
              "      fill: #FFFFFF;\n",
              "    }\n",
              "  </style>\n",
              "\n",
              "      <script>\n",
              "        const buttonEl =\n",
              "          document.querySelector('#df-cfd1fefe-02db-44a2-9be5-0ef2fc74dfc2 button.colab-df-convert');\n",
              "        buttonEl.style.display =\n",
              "          google.colab.kernel.accessAllowed ? 'block' : 'none';\n",
              "\n",
              "        async function convertToInteractive(key) {\n",
              "          const element = document.querySelector('#df-cfd1fefe-02db-44a2-9be5-0ef2fc74dfc2');\n",
              "          const dataTable =\n",
              "            await google.colab.kernel.invokeFunction('convertToInteractive',\n",
              "                                                     [key], {});\n",
              "          if (!dataTable) return;\n",
              "\n",
              "          const docLinkHtml = 'Like what you see? Visit the ' +\n",
              "            '<a target=\"_blank\" href=https://colab.research.google.com/notebooks/data_table.ipynb>data table notebook</a>'\n",
              "            + ' to learn more about interactive tables.';\n",
              "          element.innerHTML = '';\n",
              "          dataTable['output_type'] = 'display_data';\n",
              "          await google.colab.output.renderOutput(dataTable, element);\n",
              "          const docLink = document.createElement('div');\n",
              "          docLink.innerHTML = docLinkHtml;\n",
              "          element.appendChild(docLink);\n",
              "        }\n",
              "      </script>\n",
              "    </div>\n",
              "  </div>\n",
              "  "
            ]
          },
          "metadata": {},
          "execution_count": 36
        }
      ]
    },
    {
      "cell_type": "markdown",
      "source": [
        "Сохраним данный файл в формате csv"
      ],
      "metadata": {
        "id": "zXZsMI1FpE5d"
      }
    },
    {
      "cell_type": "code",
      "source": [
        "df_ml.to_csv('df_ml.csv')"
      ],
      "metadata": {
        "id": "YG7HV79zoSC2"
      },
      "execution_count": null,
      "outputs": []
    },
    {
      "cell_type": "markdown",
      "source": [
        "Логический файл успешно сохранен\n",
        "![image.png](data:image/png;base64,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)"
      ],
      "metadata": {
        "id": "R2wNtQVfpJ2m"
      }
    },
    {
      "cell_type": "code",
      "source": [
        "df_ml = pd.read_csv('/content/df_ml.csv')"
      ],
      "metadata": {
        "id": "hWk10PQ8oyEq"
      },
      "execution_count": null,
      "outputs": []
    },
    {
      "cell_type": "markdown",
      "source": [
        "Построим графики для визуализации наших показателй"
      ],
      "metadata": {
        "id": "ezOvhBOKtOrM"
      }
    },
    {
      "cell_type": "code",
      "source": [
        "fig = px.line(df_ml, y= '% 1h',title='Изменение показателей процентных пунктов за час')\n",
        "fig.show()"
      ],
      "metadata": {
        "colab": {
          "base_uri": "https://localhost:8080/",
          "height": 542
        },
        "id": "jaAL42BZtOYg",
        "outputId": "d66c8106-259c-4a22-dd6e-ab476f7cd283"
      },
      "execution_count": null,
      "outputs": [
        {
          "output_type": "display_data",
          "data": {
            "text/html": [
              "<html>\n",
              "<head><meta charset=\"utf-8\" /></head>\n",
              "<body>\n",
              "    <div>            <script src=\"https://cdnjs.cloudflare.com/ajax/libs/mathjax/2.7.5/MathJax.js?config=TeX-AMS-MML_SVG\"></script><script type=\"text/javascript\">if (window.MathJax && window.MathJax.Hub && window.MathJax.Hub.Config) {window.MathJax.Hub.Config({SVG: {font: \"STIX-Web\"}});}</script>                <script type=\"text/javascript\">window.PlotlyConfig = {MathJaxConfig: 'local'};</script>\n",
              "        <script src=\"https://cdn.plot.ly/plotly-2.18.2.min.js\"></script>                <div id=\"cde6cf91-12fe-4a2e-b300-206464c0fafe\" class=\"plotly-graph-div\" style=\"height:525px; width:100%;\"></div>            <script type=\"text/javascript\">                                    window.PLOTLYENV=window.PLOTLYENV || {};                                    if (document.getElementById(\"cde6cf91-12fe-4a2e-b300-206464c0fafe\")) {                    Plotly.newPlot(                        \"cde6cf91-12fe-4a2e-b300-206464c0fafe\",                        [{\"hovertemplate\":\"index=%{x}<br>% 1h=%{y}<extra></extra>\",\"legendgroup\":\"\",\"line\":{\"color\":\"#636efa\",\"dash\":\"solid\"},\"marker\":{\"symbol\":\"circle\"},\"mode\":\"lines\",\"name\":\"\",\"orientation\":\"v\",\"showlegend\":false,\"x\":[0,1,2,3,4,5,6,7,8,9,10,11,12,13,14,15,16,17,18,19,20,21,22,23,24,25,26,27,28,29,30,31,32,33,34,35,36,37,38,39,40,41,42,43,44,45,46,47,48,49,50,51],\"xaxis\":\"x\",\"y\":[0.0,-0.0001,-0.0033,-0.0003,-0.003,0.002,0.0025,-0.0021,-0.001,-0.0009,0.0001,-0.0005,-0.001,-0.0013,0.0015,-0.0075,-0.0028,-0.0048,0.0014,-0.0009,-0.0094,-0.0013,0.005,-0.0025,-0.0034,-0.0009,-0.0042,0.0,0.0017,-0.0052,-0.0029,0.0008,-0.001,-0.0014,0.0016,0.0012,-0.0005,0.0163,-0.0004,-0.0046,-0.0007,-0.0025,-0.0001,0.0007,0.0031,-0.0011,-0.0057,-0.0001,0.0026,-0.0105,0.0119,0.0094],\"yaxis\":\"y\",\"type\":\"scatter\"}],                        {\"template\":{\"data\":{\"histogram2dcontour\":[{\"type\":\"histogram2dcontour\",\"colorbar\":{\"outlinewidth\":0,\"ticks\":\"\"},\"colorscale\":[[0.0,\"#0d0887\"],[0.1111111111111111,\"#46039f\"],[0.2222222222222222,\"#7201a8\"],[0.3333333333333333,\"#9c179e\"],[0.4444444444444444,\"#bd3786\"],[0.5555555555555556,\"#d8576b\"],[0.6666666666666666,\"#ed7953\"],[0.7777777777777778,\"#fb9f3a\"],[0.8888888888888888,\"#fdca26\"],[1.0,\"#f0f921\"]]}],\"choropleth\":[{\"type\":\"choropleth\",\"colorbar\":{\"outlinewidth\":0,\"ticks\":\"\"}}],\"histogram2d\":[{\"type\":\"histogram2d\",\"colorbar\":{\"outlinewidth\":0,\"ticks\":\"\"},\"colorscale\":[[0.0,\"#0d0887\"],[0.1111111111111111,\"#46039f\"],[0.2222222222222222,\"#7201a8\"],[0.3333333333333333,\"#9c179e\"],[0.4444444444444444,\"#bd3786\"],[0.5555555555555556,\"#d8576b\"],[0.6666666666666666,\"#ed7953\"],[0.7777777777777778,\"#fb9f3a\"],[0.8888888888888888,\"#fdca26\"],[1.0,\"#f0f921\"]]}],\"heatmap\":[{\"type\":\"heatmap\",\"colorbar\":{\"outlinewidth\":0,\"ticks\":\"\"},\"colorscale\":[[0.0,\"#0d0887\"],[0.1111111111111111,\"#46039f\"],[0.2222222222222222,\"#7201a8\"],[0.3333333333333333,\"#9c179e\"],[0.4444444444444444,\"#bd3786\"],[0.5555555555555556,\"#d8576b\"],[0.6666666666666666,\"#ed7953\"],[0.7777777777777778,\"#fb9f3a\"],[0.8888888888888888,\"#fdca26\"],[1.0,\"#f0f921\"]]}],\"heatmapgl\":[{\"type\":\"heatmapgl\",\"colorbar\":{\"outlinewidth\":0,\"ticks\":\"\"},\"colorscale\":[[0.0,\"#0d0887\"],[0.1111111111111111,\"#46039f\"],[0.2222222222222222,\"#7201a8\"],[0.3333333333333333,\"#9c179e\"],[0.4444444444444444,\"#bd3786\"],[0.5555555555555556,\"#d8576b\"],[0.6666666666666666,\"#ed7953\"],[0.7777777777777778,\"#fb9f3a\"],[0.8888888888888888,\"#fdca26\"],[1.0,\"#f0f921\"]]}],\"contourcarpet\":[{\"type\":\"contourcarpet\",\"colorbar\":{\"outlinewidth\":0,\"ticks\":\"\"}}],\"contour\":[{\"type\":\"contour\",\"colorbar\":{\"outlinewidth\":0,\"ticks\":\"\"},\"colorscale\":[[0.0,\"#0d0887\"],[0.1111111111111111,\"#46039f\"],[0.2222222222222222,\"#7201a8\"],[0.3333333333333333,\"#9c179e\"],[0.4444444444444444,\"#bd3786\"],[0.5555555555555556,\"#d8576b\"],[0.6666666666666666,\"#ed7953\"],[0.7777777777777778,\"#fb9f3a\"],[0.8888888888888888,\"#fdca26\"],[1.0,\"#f0f921\"]]}],\"surface\":[{\"type\":\"surface\",\"colorbar\":{\"outlinewidth\":0,\"ticks\":\"\"},\"colorscale\":[[0.0,\"#0d0887\"],[0.1111111111111111,\"#46039f\"],[0.2222222222222222,\"#7201a8\"],[0.3333333333333333,\"#9c179e\"],[0.4444444444444444,\"#bd3786\"],[0.5555555555555556,\"#d8576b\"],[0.6666666666666666,\"#ed7953\"],[0.7777777777777778,\"#fb9f3a\"],[0.8888888888888888,\"#fdca26\"],[1.0,\"#f0f921\"]]}],\"mesh3d\":[{\"type\":\"mesh3d\",\"colorbar\":{\"outlinewidth\":0,\"ticks\":\"\"}}],\"scatter\":[{\"fillpattern\":{\"fillmode\":\"overlay\",\"size\":10,\"solidity\":0.2},\"type\":\"scatter\"}],\"parcoords\":[{\"type\":\"parcoords\",\"line\":{\"colorbar\":{\"outlinewidth\":0,\"ticks\":\"\"}}}],\"scatterpolargl\":[{\"type\":\"scatterpolargl\",\"marker\":{\"colorbar\":{\"outlinewidth\":0,\"ticks\":\"\"}}}],\"bar\":[{\"error_x\":{\"color\":\"#2a3f5f\"},\"error_y\":{\"color\":\"#2a3f5f\"},\"marker\":{\"line\":{\"color\":\"#E5ECF6\",\"width\":0.5},\"pattern\":{\"fillmode\":\"overlay\",\"size\":10,\"solidity\":0.2}},\"type\":\"bar\"}],\"scattergeo\":[{\"type\":\"scattergeo\",\"marker\":{\"colorbar\":{\"outlinewidth\":0,\"ticks\":\"\"}}}],\"scatterpolar\":[{\"type\":\"scatterpolar\",\"marker\":{\"colorbar\":{\"outlinewidth\":0,\"ticks\":\"\"}}}],\"histogram\":[{\"marker\":{\"pattern\":{\"fillmode\":\"overlay\",\"size\":10,\"solidity\":0.2}},\"type\":\"histogram\"}],\"scattergl\":[{\"type\":\"scattergl\",\"marker\":{\"colorbar\":{\"outlinewidth\":0,\"ticks\":\"\"}}}],\"scatter3d\":[{\"type\":\"scatter3d\",\"line\":{\"colorbar\":{\"outlinewidth\":0,\"ticks\":\"\"}},\"marker\":{\"colorbar\":{\"outlinewidth\":0,\"ticks\":\"\"}}}],\"scattermapbox\":[{\"type\":\"scattermapbox\",\"marker\":{\"colorbar\":{\"outlinewidth\":0,\"ticks\":\"\"}}}],\"scatterternary\":[{\"type\":\"scatterternary\",\"marker\":{\"colorbar\":{\"outlinewidth\":0,\"ticks\":\"\"}}}],\"scattercarpet\":[{\"type\":\"scattercarpet\",\"marker\":{\"colorbar\":{\"outlinewidth\":0,\"ticks\":\"\"}}}],\"carpet\":[{\"aaxis\":{\"endlinecolor\":\"#2a3f5f\",\"gridcolor\":\"white\",\"linecolor\":\"white\",\"minorgridcolor\":\"white\",\"startlinecolor\":\"#2a3f5f\"},\"baxis\":{\"endlinecolor\":\"#2a3f5f\",\"gridcolor\":\"white\",\"linecolor\":\"white\",\"minorgridcolor\":\"white\",\"startlinecolor\":\"#2a3f5f\"},\"type\":\"carpet\"}],\"table\":[{\"cells\":{\"fill\":{\"color\":\"#EBF0F8\"},\"line\":{\"color\":\"white\"}},\"header\":{\"fill\":{\"color\":\"#C8D4E3\"},\"line\":{\"color\":\"white\"}},\"type\":\"table\"}],\"barpolar\":[{\"marker\":{\"line\":{\"color\":\"#E5ECF6\",\"width\":0.5},\"pattern\":{\"fillmode\":\"overlay\",\"size\":10,\"solidity\":0.2}},\"type\":\"barpolar\"}],\"pie\":[{\"automargin\":true,\"type\":\"pie\"}]},\"layout\":{\"autotypenumbers\":\"strict\",\"colorway\":[\"#636efa\",\"#EF553B\",\"#00cc96\",\"#ab63fa\",\"#FFA15A\",\"#19d3f3\",\"#FF6692\",\"#B6E880\",\"#FF97FF\",\"#FECB52\"],\"font\":{\"color\":\"#2a3f5f\"},\"hovermode\":\"closest\",\"hoverlabel\":{\"align\":\"left\"},\"paper_bgcolor\":\"white\",\"plot_bgcolor\":\"#E5ECF6\",\"polar\":{\"bgcolor\":\"#E5ECF6\",\"angularaxis\":{\"gridcolor\":\"white\",\"linecolor\":\"white\",\"ticks\":\"\"},\"radialaxis\":{\"gridcolor\":\"white\",\"linecolor\":\"white\",\"ticks\":\"\"}},\"ternary\":{\"bgcolor\":\"#E5ECF6\",\"aaxis\":{\"gridcolor\":\"white\",\"linecolor\":\"white\",\"ticks\":\"\"},\"baxis\":{\"gridcolor\":\"white\",\"linecolor\":\"white\",\"ticks\":\"\"},\"caxis\":{\"gridcolor\":\"white\",\"linecolor\":\"white\",\"ticks\":\"\"}},\"coloraxis\":{\"colorbar\":{\"outlinewidth\":0,\"ticks\":\"\"}},\"colorscale\":{\"sequential\":[[0.0,\"#0d0887\"],[0.1111111111111111,\"#46039f\"],[0.2222222222222222,\"#7201a8\"],[0.3333333333333333,\"#9c179e\"],[0.4444444444444444,\"#bd3786\"],[0.5555555555555556,\"#d8576b\"],[0.6666666666666666,\"#ed7953\"],[0.7777777777777778,\"#fb9f3a\"],[0.8888888888888888,\"#fdca26\"],[1.0,\"#f0f921\"]],\"sequentialminus\":[[0.0,\"#0d0887\"],[0.1111111111111111,\"#46039f\"],[0.2222222222222222,\"#7201a8\"],[0.3333333333333333,\"#9c179e\"],[0.4444444444444444,\"#bd3786\"],[0.5555555555555556,\"#d8576b\"],[0.6666666666666666,\"#ed7953\"],[0.7777777777777778,\"#fb9f3a\"],[0.8888888888888888,\"#fdca26\"],[1.0,\"#f0f921\"]],\"diverging\":[[0,\"#8e0152\"],[0.1,\"#c51b7d\"],[0.2,\"#de77ae\"],[0.3,\"#f1b6da\"],[0.4,\"#fde0ef\"],[0.5,\"#f7f7f7\"],[0.6,\"#e6f5d0\"],[0.7,\"#b8e186\"],[0.8,\"#7fbc41\"],[0.9,\"#4d9221\"],[1,\"#276419\"]]},\"xaxis\":{\"gridcolor\":\"white\",\"linecolor\":\"white\",\"ticks\":\"\",\"title\":{\"standoff\":15},\"zerolinecolor\":\"white\",\"automargin\":true,\"zerolinewidth\":2},\"yaxis\":{\"gridcolor\":\"white\",\"linecolor\":\"white\",\"ticks\":\"\",\"title\":{\"standoff\":15},\"zerolinecolor\":\"white\",\"automargin\":true,\"zerolinewidth\":2},\"scene\":{\"xaxis\":{\"backgroundcolor\":\"#E5ECF6\",\"gridcolor\":\"white\",\"linecolor\":\"white\",\"showbackground\":true,\"ticks\":\"\",\"zerolinecolor\":\"white\",\"gridwidth\":2},\"yaxis\":{\"backgroundcolor\":\"#E5ECF6\",\"gridcolor\":\"white\",\"linecolor\":\"white\",\"showbackground\":true,\"ticks\":\"\",\"zerolinecolor\":\"white\",\"gridwidth\":2},\"zaxis\":{\"backgroundcolor\":\"#E5ECF6\",\"gridcolor\":\"white\",\"linecolor\":\"white\",\"showbackground\":true,\"ticks\":\"\",\"zerolinecolor\":\"white\",\"gridwidth\":2}},\"shapedefaults\":{\"line\":{\"color\":\"#2a3f5f\"}},\"annotationdefaults\":{\"arrowcolor\":\"#2a3f5f\",\"arrowhead\":0,\"arrowwidth\":1},\"geo\":{\"bgcolor\":\"white\",\"landcolor\":\"#E5ECF6\",\"subunitcolor\":\"white\",\"showland\":true,\"showlakes\":true,\"lakecolor\":\"white\"},\"title\":{\"x\":0.05},\"mapbox\":{\"style\":\"light\"}}},\"xaxis\":{\"anchor\":\"y\",\"domain\":[0.0,1.0],\"title\":{\"text\":\"index\"}},\"yaxis\":{\"anchor\":\"x\",\"domain\":[0.0,1.0],\"title\":{\"text\":\"% 1h\"}},\"legend\":{\"tracegroupgap\":0},\"title\":{\"text\":\"\\u0418\\u0437\\u043c\\u0435\\u043d\\u0435\\u043d\\u0438\\u0435 \\u043f\\u043e\\u043a\\u0430\\u0437\\u0430\\u0442\\u0435\\u043b\\u0435\\u0439 \\u043f\\u0440\\u043e\\u0446\\u0435\\u043d\\u0442\\u043d\\u044b\\u0445 \\u043f\\u0443\\u043d\\u043a\\u0442\\u043e\\u0432 \\u0437\\u0430 \\u0447\\u0430\\u0441\"}},                        {\"responsive\": true}                    ).then(function(){\n",
              "                            \n",
              "var gd = document.getElementById('cde6cf91-12fe-4a2e-b300-206464c0fafe');\n",
              "var x = new MutationObserver(function (mutations, observer) {{\n",
              "        var display = window.getComputedStyle(gd).display;\n",
              "        if (!display || display === 'none') {{\n",
              "            console.log([gd, 'removed!']);\n",
              "            Plotly.purge(gd);\n",
              "            observer.disconnect();\n",
              "        }}\n",
              "}});\n",
              "\n",
              "// Listen for the removal of the full notebook cells\n",
              "var notebookContainer = gd.closest('#notebook-container');\n",
              "if (notebookContainer) {{\n",
              "    x.observe(notebookContainer, {childList: true});\n",
              "}}\n",
              "\n",
              "// Listen for the clearing of the current output cell\n",
              "var outputEl = gd.closest('.output');\n",
              "if (outputEl) {{\n",
              "    x.observe(outputEl, {childList: true});\n",
              "}}\n",
              "\n",
              "                        })                };                            </script>        </div>\n",
              "</body>\n",
              "</html>"
            ]
          },
          "metadata": {}
        }
      ]
    },
    {
      "cell_type": "code",
      "source": [
        "fig = px.line(df_ml, y= '% 24h',title='Изменение показателей процентных пунктов за день')\n",
        "fig.show()"
      ],
      "metadata": {
        "colab": {
          "base_uri": "https://localhost:8080/",
          "height": 542
        },
        "id": "Xm1LN9o9tORp",
        "outputId": "4696a0d0-5436-4234-89b1-8807dff9e3ea"
      },
      "execution_count": null,
      "outputs": [
        {
          "output_type": "display_data",
          "data": {
            "text/html": [
              "<html>\n",
              "<head><meta charset=\"utf-8\" /></head>\n",
              "<body>\n",
              "    <div>            <script src=\"https://cdnjs.cloudflare.com/ajax/libs/mathjax/2.7.5/MathJax.js?config=TeX-AMS-MML_SVG\"></script><script type=\"text/javascript\">if (window.MathJax && window.MathJax.Hub && window.MathJax.Hub.Config) {window.MathJax.Hub.Config({SVG: {font: \"STIX-Web\"}});}</script>                <script type=\"text/javascript\">window.PlotlyConfig = {MathJaxConfig: 'local'};</script>\n",
              "        <script src=\"https://cdn.plot.ly/plotly-2.18.2.min.js\"></script>                <div id=\"3f19c0ea-3f79-4f5e-ad4a-921bffa96a38\" class=\"plotly-graph-div\" style=\"height:525px; width:100%;\"></div>            <script type=\"text/javascript\">                                    window.PLOTLYENV=window.PLOTLYENV || {};                                    if (document.getElementById(\"3f19c0ea-3f79-4f5e-ad4a-921bffa96a38\")) {                    Plotly.newPlot(                        \"3f19c0ea-3f79-4f5e-ad4a-921bffa96a38\",                        [{\"hovertemplate\":\"index=%{x}<br>% 24h=%{y}<extra></extra>\",\"legendgroup\":\"\",\"line\":{\"color\":\"#636efa\",\"dash\":\"solid\"},\"marker\":{\"symbol\":\"circle\"},\"mode\":\"lines\",\"name\":\"\",\"orientation\":\"v\",\"showlegend\":false,\"x\":[0,1,2,3,4,5,6,7,8,9,10,11,12,13,14,15,16,17,18,19,20,21,22,23,24,25,26,27,28,29,30,31,32,33,34,35,36,37,38,39,40,41,42,43,44,45,46,47,48,49,50,51],\"xaxis\":\"x\",\"y\":[0.0001,0.0001,-0.005,-0.0001,-0.0181,-0.0047,-0.0033,-0.0782,-0.0016,-0.0035,-0.0119,-0.0007,-0.0168,-0.0109,-0.0111,0.0594,-0.0236,-0.0046,-0.0331,-0.0373,0.0035,-0.0293,-0.0152,0.0089,-0.0458,-0.0267,-0.0167,-0.0102,0.0102,-0.0144,-0.0253,-0.0276,-0.0064,-0.0377,-0.0169,-0.0161,-0.0008,0.0446,0.0008,-0.0142,0.0007,0.0268,-0.0146,-0.0004,-0.0523,-0.0671,-0.042,0.0034,-0.0435,0.0362,-0.087,0.0004],\"yaxis\":\"y\",\"type\":\"scatter\"}],                        {\"template\":{\"data\":{\"histogram2dcontour\":[{\"type\":\"histogram2dcontour\",\"colorbar\":{\"outlinewidth\":0,\"ticks\":\"\"},\"colorscale\":[[0.0,\"#0d0887\"],[0.1111111111111111,\"#46039f\"],[0.2222222222222222,\"#7201a8\"],[0.3333333333333333,\"#9c179e\"],[0.4444444444444444,\"#bd3786\"],[0.5555555555555556,\"#d8576b\"],[0.6666666666666666,\"#ed7953\"],[0.7777777777777778,\"#fb9f3a\"],[0.8888888888888888,\"#fdca26\"],[1.0,\"#f0f921\"]]}],\"choropleth\":[{\"type\":\"choropleth\",\"colorbar\":{\"outlinewidth\":0,\"ticks\":\"\"}}],\"histogram2d\":[{\"type\":\"histogram2d\",\"colorbar\":{\"outlinewidth\":0,\"ticks\":\"\"},\"colorscale\":[[0.0,\"#0d0887\"],[0.1111111111111111,\"#46039f\"],[0.2222222222222222,\"#7201a8\"],[0.3333333333333333,\"#9c179e\"],[0.4444444444444444,\"#bd3786\"],[0.5555555555555556,\"#d8576b\"],[0.6666666666666666,\"#ed7953\"],[0.7777777777777778,\"#fb9f3a\"],[0.8888888888888888,\"#fdca26\"],[1.0,\"#f0f921\"]]}],\"heatmap\":[{\"type\":\"heatmap\",\"colorbar\":{\"outlinewidth\":0,\"ticks\":\"\"},\"colorscale\":[[0.0,\"#0d0887\"],[0.1111111111111111,\"#46039f\"],[0.2222222222222222,\"#7201a8\"],[0.3333333333333333,\"#9c179e\"],[0.4444444444444444,\"#bd3786\"],[0.5555555555555556,\"#d8576b\"],[0.6666666666666666,\"#ed7953\"],[0.7777777777777778,\"#fb9f3a\"],[0.8888888888888888,\"#fdca26\"],[1.0,\"#f0f921\"]]}],\"heatmapgl\":[{\"type\":\"heatmapgl\",\"colorbar\":{\"outlinewidth\":0,\"ticks\":\"\"},\"colorscale\":[[0.0,\"#0d0887\"],[0.1111111111111111,\"#46039f\"],[0.2222222222222222,\"#7201a8\"],[0.3333333333333333,\"#9c179e\"],[0.4444444444444444,\"#bd3786\"],[0.5555555555555556,\"#d8576b\"],[0.6666666666666666,\"#ed7953\"],[0.7777777777777778,\"#fb9f3a\"],[0.8888888888888888,\"#fdca26\"],[1.0,\"#f0f921\"]]}],\"contourcarpet\":[{\"type\":\"contourcarpet\",\"colorbar\":{\"outlinewidth\":0,\"ticks\":\"\"}}],\"contour\":[{\"type\":\"contour\",\"colorbar\":{\"outlinewidth\":0,\"ticks\":\"\"},\"colorscale\":[[0.0,\"#0d0887\"],[0.1111111111111111,\"#46039f\"],[0.2222222222222222,\"#7201a8\"],[0.3333333333333333,\"#9c179e\"],[0.4444444444444444,\"#bd3786\"],[0.5555555555555556,\"#d8576b\"],[0.6666666666666666,\"#ed7953\"],[0.7777777777777778,\"#fb9f3a\"],[0.8888888888888888,\"#fdca26\"],[1.0,\"#f0f921\"]]}],\"surface\":[{\"type\":\"surface\",\"colorbar\":{\"outlinewidth\":0,\"ticks\":\"\"},\"colorscale\":[[0.0,\"#0d0887\"],[0.1111111111111111,\"#46039f\"],[0.2222222222222222,\"#7201a8\"],[0.3333333333333333,\"#9c179e\"],[0.4444444444444444,\"#bd3786\"],[0.5555555555555556,\"#d8576b\"],[0.6666666666666666,\"#ed7953\"],[0.7777777777777778,\"#fb9f3a\"],[0.8888888888888888,\"#fdca26\"],[1.0,\"#f0f921\"]]}],\"mesh3d\":[{\"type\":\"mesh3d\",\"colorbar\":{\"outlinewidth\":0,\"ticks\":\"\"}}],\"scatter\":[{\"fillpattern\":{\"fillmode\":\"overlay\",\"size\":10,\"solidity\":0.2},\"type\":\"scatter\"}],\"parcoords\":[{\"type\":\"parcoords\",\"line\":{\"colorbar\":{\"outlinewidth\":0,\"ticks\":\"\"}}}],\"scatterpolargl\":[{\"type\":\"scatterpolargl\",\"marker\":{\"colorbar\":{\"outlinewidth\":0,\"ticks\":\"\"}}}],\"bar\":[{\"error_x\":{\"color\":\"#2a3f5f\"},\"error_y\":{\"color\":\"#2a3f5f\"},\"marker\":{\"line\":{\"color\":\"#E5ECF6\",\"width\":0.5},\"pattern\":{\"fillmode\":\"overlay\",\"size\":10,\"solidity\":0.2}},\"type\":\"bar\"}],\"scattergeo\":[{\"type\":\"scattergeo\",\"marker\":{\"colorbar\":{\"outlinewidth\":0,\"ticks\":\"\"}}}],\"scatterpolar\":[{\"type\":\"scatterpolar\",\"marker\":{\"colorbar\":{\"outlinewidth\":0,\"ticks\":\"\"}}}],\"histogram\":[{\"marker\":{\"pattern\":{\"fillmode\":\"overlay\",\"size\":10,\"solidity\":0.2}},\"type\":\"histogram\"}],\"scattergl\":[{\"type\":\"scattergl\",\"marker\":{\"colorbar\":{\"outlinewidth\":0,\"ticks\":\"\"}}}],\"scatter3d\":[{\"type\":\"scatter3d\",\"line\":{\"colorbar\":{\"outlinewidth\":0,\"ticks\":\"\"}},\"marker\":{\"colorbar\":{\"outlinewidth\":0,\"ticks\":\"\"}}}],\"scattermapbox\":[{\"type\":\"scattermapbox\",\"marker\":{\"colorbar\":{\"outlinewidth\":0,\"ticks\":\"\"}}}],\"scatterternary\":[{\"type\":\"scatterternary\",\"marker\":{\"colorbar\":{\"outlinewidth\":0,\"ticks\":\"\"}}}],\"scattercarpet\":[{\"type\":\"scattercarpet\",\"marker\":{\"colorbar\":{\"outlinewidth\":0,\"ticks\":\"\"}}}],\"carpet\":[{\"aaxis\":{\"endlinecolor\":\"#2a3f5f\",\"gridcolor\":\"white\",\"linecolor\":\"white\",\"minorgridcolor\":\"white\",\"startlinecolor\":\"#2a3f5f\"},\"baxis\":{\"endlinecolor\":\"#2a3f5f\",\"gridcolor\":\"white\",\"linecolor\":\"white\",\"minorgridcolor\":\"white\",\"startlinecolor\":\"#2a3f5f\"},\"type\":\"carpet\"}],\"table\":[{\"cells\":{\"fill\":{\"color\":\"#EBF0F8\"},\"line\":{\"color\":\"white\"}},\"header\":{\"fill\":{\"color\":\"#C8D4E3\"},\"line\":{\"color\":\"white\"}},\"type\":\"table\"}],\"barpolar\":[{\"marker\":{\"line\":{\"color\":\"#E5ECF6\",\"width\":0.5},\"pattern\":{\"fillmode\":\"overlay\",\"size\":10,\"solidity\":0.2}},\"type\":\"barpolar\"}],\"pie\":[{\"automargin\":true,\"type\":\"pie\"}]},\"layout\":{\"autotypenumbers\":\"strict\",\"colorway\":[\"#636efa\",\"#EF553B\",\"#00cc96\",\"#ab63fa\",\"#FFA15A\",\"#19d3f3\",\"#FF6692\",\"#B6E880\",\"#FF97FF\",\"#FECB52\"],\"font\":{\"color\":\"#2a3f5f\"},\"hovermode\":\"closest\",\"hoverlabel\":{\"align\":\"left\"},\"paper_bgcolor\":\"white\",\"plot_bgcolor\":\"#E5ECF6\",\"polar\":{\"bgcolor\":\"#E5ECF6\",\"angularaxis\":{\"gridcolor\":\"white\",\"linecolor\":\"white\",\"ticks\":\"\"},\"radialaxis\":{\"gridcolor\":\"white\",\"linecolor\":\"white\",\"ticks\":\"\"}},\"ternary\":{\"bgcolor\":\"#E5ECF6\",\"aaxis\":{\"gridcolor\":\"white\",\"linecolor\":\"white\",\"ticks\":\"\"},\"baxis\":{\"gridcolor\":\"white\",\"linecolor\":\"white\",\"ticks\":\"\"},\"caxis\":{\"gridcolor\":\"white\",\"linecolor\":\"white\",\"ticks\":\"\"}},\"coloraxis\":{\"colorbar\":{\"outlinewidth\":0,\"ticks\":\"\"}},\"colorscale\":{\"sequential\":[[0.0,\"#0d0887\"],[0.1111111111111111,\"#46039f\"],[0.2222222222222222,\"#7201a8\"],[0.3333333333333333,\"#9c179e\"],[0.4444444444444444,\"#bd3786\"],[0.5555555555555556,\"#d8576b\"],[0.6666666666666666,\"#ed7953\"],[0.7777777777777778,\"#fb9f3a\"],[0.8888888888888888,\"#fdca26\"],[1.0,\"#f0f921\"]],\"sequentialminus\":[[0.0,\"#0d0887\"],[0.1111111111111111,\"#46039f\"],[0.2222222222222222,\"#7201a8\"],[0.3333333333333333,\"#9c179e\"],[0.4444444444444444,\"#bd3786\"],[0.5555555555555556,\"#d8576b\"],[0.6666666666666666,\"#ed7953\"],[0.7777777777777778,\"#fb9f3a\"],[0.8888888888888888,\"#fdca26\"],[1.0,\"#f0f921\"]],\"diverging\":[[0,\"#8e0152\"],[0.1,\"#c51b7d\"],[0.2,\"#de77ae\"],[0.3,\"#f1b6da\"],[0.4,\"#fde0ef\"],[0.5,\"#f7f7f7\"],[0.6,\"#e6f5d0\"],[0.7,\"#b8e186\"],[0.8,\"#7fbc41\"],[0.9,\"#4d9221\"],[1,\"#276419\"]]},\"xaxis\":{\"gridcolor\":\"white\",\"linecolor\":\"white\",\"ticks\":\"\",\"title\":{\"standoff\":15},\"zerolinecolor\":\"white\",\"automargin\":true,\"zerolinewidth\":2},\"yaxis\":{\"gridcolor\":\"white\",\"linecolor\":\"white\",\"ticks\":\"\",\"title\":{\"standoff\":15},\"zerolinecolor\":\"white\",\"automargin\":true,\"zerolinewidth\":2},\"scene\":{\"xaxis\":{\"backgroundcolor\":\"#E5ECF6\",\"gridcolor\":\"white\",\"linecolor\":\"white\",\"showbackground\":true,\"ticks\":\"\",\"zerolinecolor\":\"white\",\"gridwidth\":2},\"yaxis\":{\"backgroundcolor\":\"#E5ECF6\",\"gridcolor\":\"white\",\"linecolor\":\"white\",\"showbackground\":true,\"ticks\":\"\",\"zerolinecolor\":\"white\",\"gridwidth\":2},\"zaxis\":{\"backgroundcolor\":\"#E5ECF6\",\"gridcolor\":\"white\",\"linecolor\":\"white\",\"showbackground\":true,\"ticks\":\"\",\"zerolinecolor\":\"white\",\"gridwidth\":2}},\"shapedefaults\":{\"line\":{\"color\":\"#2a3f5f\"}},\"annotationdefaults\":{\"arrowcolor\":\"#2a3f5f\",\"arrowhead\":0,\"arrowwidth\":1},\"geo\":{\"bgcolor\":\"white\",\"landcolor\":\"#E5ECF6\",\"subunitcolor\":\"white\",\"showland\":true,\"showlakes\":true,\"lakecolor\":\"white\"},\"title\":{\"x\":0.05},\"mapbox\":{\"style\":\"light\"}}},\"xaxis\":{\"anchor\":\"y\",\"domain\":[0.0,1.0],\"title\":{\"text\":\"index\"}},\"yaxis\":{\"anchor\":\"x\",\"domain\":[0.0,1.0],\"title\":{\"text\":\"% 24h\"}},\"legend\":{\"tracegroupgap\":0},\"title\":{\"text\":\"\\u0418\\u0437\\u043c\\u0435\\u043d\\u0435\\u043d\\u0438\\u0435 \\u043f\\u043e\\u043a\\u0430\\u0437\\u0430\\u0442\\u0435\\u043b\\u0435\\u0439 \\u043f\\u0440\\u043e\\u0446\\u0435\\u043d\\u0442\\u043d\\u044b\\u0445 \\u043f\\u0443\\u043d\\u043a\\u0442\\u043e\\u0432 \\u0437\\u0430 \\u0434\\u0435\\u043d\\u044c\"}},                        {\"responsive\": true}                    ).then(function(){\n",
              "                            \n",
              "var gd = document.getElementById('3f19c0ea-3f79-4f5e-ad4a-921bffa96a38');\n",
              "var x = new MutationObserver(function (mutations, observer) {{\n",
              "        var display = window.getComputedStyle(gd).display;\n",
              "        if (!display || display === 'none') {{\n",
              "            console.log([gd, 'removed!']);\n",
              "            Plotly.purge(gd);\n",
              "            observer.disconnect();\n",
              "        }}\n",
              "}});\n",
              "\n",
              "// Listen for the removal of the full notebook cells\n",
              "var notebookContainer = gd.closest('#notebook-container');\n",
              "if (notebookContainer) {{\n",
              "    x.observe(notebookContainer, {childList: true});\n",
              "}}\n",
              "\n",
              "// Listen for the clearing of the current output cell\n",
              "var outputEl = gd.closest('.output');\n",
              "if (outputEl) {{\n",
              "    x.observe(outputEl, {childList: true});\n",
              "}}\n",
              "\n",
              "                        })                };                            </script>        </div>\n",
              "</body>\n",
              "</html>"
            ]
          },
          "metadata": {}
        }
      ]
    },
    {
      "cell_type": "code",
      "source": [
        "fig = px.line(df_ml, y= '% 7d',title='Изменение показателей процентных пунктов за неделю')\n",
        "fig.show()"
      ],
      "metadata": {
        "colab": {
          "base_uri": "https://localhost:8080/",
          "height": 542
        },
        "id": "Gx3gb6iLtOPU",
        "outputId": "a2cd99e8-d0f6-4b44-adca-5df4386cdea5"
      },
      "execution_count": null,
      "outputs": [
        {
          "output_type": "display_data",
          "data": {
            "text/html": [
              "<html>\n",
              "<head><meta charset=\"utf-8\" /></head>\n",
              "<body>\n",
              "    <div>            <script src=\"https://cdnjs.cloudflare.com/ajax/libs/mathjax/2.7.5/MathJax.js?config=TeX-AMS-MML_SVG\"></script><script type=\"text/javascript\">if (window.MathJax && window.MathJax.Hub && window.MathJax.Hub.Config) {window.MathJax.Hub.Config({SVG: {font: \"STIX-Web\"}});}</script>                <script type=\"text/javascript\">window.PlotlyConfig = {MathJaxConfig: 'local'};</script>\n",
              "        <script src=\"https://cdn.plot.ly/plotly-2.18.2.min.js\"></script>                <div id=\"4e529904-9bc8-4ff0-af0f-f2599f67723c\" class=\"plotly-graph-div\" style=\"height:525px; width:100%;\"></div>            <script type=\"text/javascript\">                                    window.PLOTLYENV=window.PLOTLYENV || {};                                    if (document.getElementById(\"4e529904-9bc8-4ff0-af0f-f2599f67723c\")) {                    Plotly.newPlot(                        \"4e529904-9bc8-4ff0-af0f-f2599f67723c\",                        [{\"hovertemplate\":\"index=%{x}<br>% 7d=%{y}<extra></extra>\",\"legendgroup\":\"\",\"line\":{\"color\":\"#636efa\",\"dash\":\"solid\"},\"marker\":{\"symbol\":\"circle\"},\"mode\":\"lines\",\"name\":\"\",\"orientation\":\"v\",\"showlegend\":false,\"x\":[0,1,2,3,4,5,6,7,8,9,10,11,12,13,14,15,16,17,18,19,20,21,22,23,24,25,26,27,28,29,30,31,32,33,34,35,36,37,38,39,40,41,42,43,44,45,46,47,48,49,50,51],\"xaxis\":\"x\",\"y\":[0.0004,0.0003,-0.0031,0.0001,-0.0109,-0.0137,-0.0536,-0.0265,0.0088,-0.0203,0.0407,0.0235,-0.0231,-0.0165,-0.0228,0.1416,-0.0361,-0.0224,0.0258,0.0158,-0.0293,-0.0803,0.0116,0.1429,0.0091,-0.0151,-0.0019,0.0314,0.055,0.0291,-0.0272,-0.0095,-0.0006,-0.0604,-0.0064,0.0189,-0.0079,0.0806,0.0202,-0.0686,-0.0015,0.0267,-0.053,0.006,0.0472,0.0647,0.1945,-0.0016,-0.0231,0.3508,0.2399,-0.0012],\"yaxis\":\"y\",\"type\":\"scatter\"}],                        {\"template\":{\"data\":{\"histogram2dcontour\":[{\"type\":\"histogram2dcontour\",\"colorbar\":{\"outlinewidth\":0,\"ticks\":\"\"},\"colorscale\":[[0.0,\"#0d0887\"],[0.1111111111111111,\"#46039f\"],[0.2222222222222222,\"#7201a8\"],[0.3333333333333333,\"#9c179e\"],[0.4444444444444444,\"#bd3786\"],[0.5555555555555556,\"#d8576b\"],[0.6666666666666666,\"#ed7953\"],[0.7777777777777778,\"#fb9f3a\"],[0.8888888888888888,\"#fdca26\"],[1.0,\"#f0f921\"]]}],\"choropleth\":[{\"type\":\"choropleth\",\"colorbar\":{\"outlinewidth\":0,\"ticks\":\"\"}}],\"histogram2d\":[{\"type\":\"histogram2d\",\"colorbar\":{\"outlinewidth\":0,\"ticks\":\"\"},\"colorscale\":[[0.0,\"#0d0887\"],[0.1111111111111111,\"#46039f\"],[0.2222222222222222,\"#7201a8\"],[0.3333333333333333,\"#9c179e\"],[0.4444444444444444,\"#bd3786\"],[0.5555555555555556,\"#d8576b\"],[0.6666666666666666,\"#ed7953\"],[0.7777777777777778,\"#fb9f3a\"],[0.8888888888888888,\"#fdca26\"],[1.0,\"#f0f921\"]]}],\"heatmap\":[{\"type\":\"heatmap\",\"colorbar\":{\"outlinewidth\":0,\"ticks\":\"\"},\"colorscale\":[[0.0,\"#0d0887\"],[0.1111111111111111,\"#46039f\"],[0.2222222222222222,\"#7201a8\"],[0.3333333333333333,\"#9c179e\"],[0.4444444444444444,\"#bd3786\"],[0.5555555555555556,\"#d8576b\"],[0.6666666666666666,\"#ed7953\"],[0.7777777777777778,\"#fb9f3a\"],[0.8888888888888888,\"#fdca26\"],[1.0,\"#f0f921\"]]}],\"heatmapgl\":[{\"type\":\"heatmapgl\",\"colorbar\":{\"outlinewidth\":0,\"ticks\":\"\"},\"colorscale\":[[0.0,\"#0d0887\"],[0.1111111111111111,\"#46039f\"],[0.2222222222222222,\"#7201a8\"],[0.3333333333333333,\"#9c179e\"],[0.4444444444444444,\"#bd3786\"],[0.5555555555555556,\"#d8576b\"],[0.6666666666666666,\"#ed7953\"],[0.7777777777777778,\"#fb9f3a\"],[0.8888888888888888,\"#fdca26\"],[1.0,\"#f0f921\"]]}],\"contourcarpet\":[{\"type\":\"contourcarpet\",\"colorbar\":{\"outlinewidth\":0,\"ticks\":\"\"}}],\"contour\":[{\"type\":\"contour\",\"colorbar\":{\"outlinewidth\":0,\"ticks\":\"\"},\"colorscale\":[[0.0,\"#0d0887\"],[0.1111111111111111,\"#46039f\"],[0.2222222222222222,\"#7201a8\"],[0.3333333333333333,\"#9c179e\"],[0.4444444444444444,\"#bd3786\"],[0.5555555555555556,\"#d8576b\"],[0.6666666666666666,\"#ed7953\"],[0.7777777777777778,\"#fb9f3a\"],[0.8888888888888888,\"#fdca26\"],[1.0,\"#f0f921\"]]}],\"surface\":[{\"type\":\"surface\",\"colorbar\":{\"outlinewidth\":0,\"ticks\":\"\"},\"colorscale\":[[0.0,\"#0d0887\"],[0.1111111111111111,\"#46039f\"],[0.2222222222222222,\"#7201a8\"],[0.3333333333333333,\"#9c179e\"],[0.4444444444444444,\"#bd3786\"],[0.5555555555555556,\"#d8576b\"],[0.6666666666666666,\"#ed7953\"],[0.7777777777777778,\"#fb9f3a\"],[0.8888888888888888,\"#fdca26\"],[1.0,\"#f0f921\"]]}],\"mesh3d\":[{\"type\":\"mesh3d\",\"colorbar\":{\"outlinewidth\":0,\"ticks\":\"\"}}],\"scatter\":[{\"fillpattern\":{\"fillmode\":\"overlay\",\"size\":10,\"solidity\":0.2},\"type\":\"scatter\"}],\"parcoords\":[{\"type\":\"parcoords\",\"line\":{\"colorbar\":{\"outlinewidth\":0,\"ticks\":\"\"}}}],\"scatterpolargl\":[{\"type\":\"scatterpolargl\",\"marker\":{\"colorbar\":{\"outlinewidth\":0,\"ticks\":\"\"}}}],\"bar\":[{\"error_x\":{\"color\":\"#2a3f5f\"},\"error_y\":{\"color\":\"#2a3f5f\"},\"marker\":{\"line\":{\"color\":\"#E5ECF6\",\"width\":0.5},\"pattern\":{\"fillmode\":\"overlay\",\"size\":10,\"solidity\":0.2}},\"type\":\"bar\"}],\"scattergeo\":[{\"type\":\"scattergeo\",\"marker\":{\"colorbar\":{\"outlinewidth\":0,\"ticks\":\"\"}}}],\"scatterpolar\":[{\"type\":\"scatterpolar\",\"marker\":{\"colorbar\":{\"outlinewidth\":0,\"ticks\":\"\"}}}],\"histogram\":[{\"marker\":{\"pattern\":{\"fillmode\":\"overlay\",\"size\":10,\"solidity\":0.2}},\"type\":\"histogram\"}],\"scattergl\":[{\"type\":\"scattergl\",\"marker\":{\"colorbar\":{\"outlinewidth\":0,\"ticks\":\"\"}}}],\"scatter3d\":[{\"type\":\"scatter3d\",\"line\":{\"colorbar\":{\"outlinewidth\":0,\"ticks\":\"\"}},\"marker\":{\"colorbar\":{\"outlinewidth\":0,\"ticks\":\"\"}}}],\"scattermapbox\":[{\"type\":\"scattermapbox\",\"marker\":{\"colorbar\":{\"outlinewidth\":0,\"ticks\":\"\"}}}],\"scatterternary\":[{\"type\":\"scatterternary\",\"marker\":{\"colorbar\":{\"outlinewidth\":0,\"ticks\":\"\"}}}],\"scattercarpet\":[{\"type\":\"scattercarpet\",\"marker\":{\"colorbar\":{\"outlinewidth\":0,\"ticks\":\"\"}}}],\"carpet\":[{\"aaxis\":{\"endlinecolor\":\"#2a3f5f\",\"gridcolor\":\"white\",\"linecolor\":\"white\",\"minorgridcolor\":\"white\",\"startlinecolor\":\"#2a3f5f\"},\"baxis\":{\"endlinecolor\":\"#2a3f5f\",\"gridcolor\":\"white\",\"linecolor\":\"white\",\"minorgridcolor\":\"white\",\"startlinecolor\":\"#2a3f5f\"},\"type\":\"carpet\"}],\"table\":[{\"cells\":{\"fill\":{\"color\":\"#EBF0F8\"},\"line\":{\"color\":\"white\"}},\"header\":{\"fill\":{\"color\":\"#C8D4E3\"},\"line\":{\"color\":\"white\"}},\"type\":\"table\"}],\"barpolar\":[{\"marker\":{\"line\":{\"color\":\"#E5ECF6\",\"width\":0.5},\"pattern\":{\"fillmode\":\"overlay\",\"size\":10,\"solidity\":0.2}},\"type\":\"barpolar\"}],\"pie\":[{\"automargin\":true,\"type\":\"pie\"}]},\"layout\":{\"autotypenumbers\":\"strict\",\"colorway\":[\"#636efa\",\"#EF553B\",\"#00cc96\",\"#ab63fa\",\"#FFA15A\",\"#19d3f3\",\"#FF6692\",\"#B6E880\",\"#FF97FF\",\"#FECB52\"],\"font\":{\"color\":\"#2a3f5f\"},\"hovermode\":\"closest\",\"hoverlabel\":{\"align\":\"left\"},\"paper_bgcolor\":\"white\",\"plot_bgcolor\":\"#E5ECF6\",\"polar\":{\"bgcolor\":\"#E5ECF6\",\"angularaxis\":{\"gridcolor\":\"white\",\"linecolor\":\"white\",\"ticks\":\"\"},\"radialaxis\":{\"gridcolor\":\"white\",\"linecolor\":\"white\",\"ticks\":\"\"}},\"ternary\":{\"bgcolor\":\"#E5ECF6\",\"aaxis\":{\"gridcolor\":\"white\",\"linecolor\":\"white\",\"ticks\":\"\"},\"baxis\":{\"gridcolor\":\"white\",\"linecolor\":\"white\",\"ticks\":\"\"},\"caxis\":{\"gridcolor\":\"white\",\"linecolor\":\"white\",\"ticks\":\"\"}},\"coloraxis\":{\"colorbar\":{\"outlinewidth\":0,\"ticks\":\"\"}},\"colorscale\":{\"sequential\":[[0.0,\"#0d0887\"],[0.1111111111111111,\"#46039f\"],[0.2222222222222222,\"#7201a8\"],[0.3333333333333333,\"#9c179e\"],[0.4444444444444444,\"#bd3786\"],[0.5555555555555556,\"#d8576b\"],[0.6666666666666666,\"#ed7953\"],[0.7777777777777778,\"#fb9f3a\"],[0.8888888888888888,\"#fdca26\"],[1.0,\"#f0f921\"]],\"sequentialminus\":[[0.0,\"#0d0887\"],[0.1111111111111111,\"#46039f\"],[0.2222222222222222,\"#7201a8\"],[0.3333333333333333,\"#9c179e\"],[0.4444444444444444,\"#bd3786\"],[0.5555555555555556,\"#d8576b\"],[0.6666666666666666,\"#ed7953\"],[0.7777777777777778,\"#fb9f3a\"],[0.8888888888888888,\"#fdca26\"],[1.0,\"#f0f921\"]],\"diverging\":[[0,\"#8e0152\"],[0.1,\"#c51b7d\"],[0.2,\"#de77ae\"],[0.3,\"#f1b6da\"],[0.4,\"#fde0ef\"],[0.5,\"#f7f7f7\"],[0.6,\"#e6f5d0\"],[0.7,\"#b8e186\"],[0.8,\"#7fbc41\"],[0.9,\"#4d9221\"],[1,\"#276419\"]]},\"xaxis\":{\"gridcolor\":\"white\",\"linecolor\":\"white\",\"ticks\":\"\",\"title\":{\"standoff\":15},\"zerolinecolor\":\"white\",\"automargin\":true,\"zerolinewidth\":2},\"yaxis\":{\"gridcolor\":\"white\",\"linecolor\":\"white\",\"ticks\":\"\",\"title\":{\"standoff\":15},\"zerolinecolor\":\"white\",\"automargin\":true,\"zerolinewidth\":2},\"scene\":{\"xaxis\":{\"backgroundcolor\":\"#E5ECF6\",\"gridcolor\":\"white\",\"linecolor\":\"white\",\"showbackground\":true,\"ticks\":\"\",\"zerolinecolor\":\"white\",\"gridwidth\":2},\"yaxis\":{\"backgroundcolor\":\"#E5ECF6\",\"gridcolor\":\"white\",\"linecolor\":\"white\",\"showbackground\":true,\"ticks\":\"\",\"zerolinecolor\":\"white\",\"gridwidth\":2},\"zaxis\":{\"backgroundcolor\":\"#E5ECF6\",\"gridcolor\":\"white\",\"linecolor\":\"white\",\"showbackground\":true,\"ticks\":\"\",\"zerolinecolor\":\"white\",\"gridwidth\":2}},\"shapedefaults\":{\"line\":{\"color\":\"#2a3f5f\"}},\"annotationdefaults\":{\"arrowcolor\":\"#2a3f5f\",\"arrowhead\":0,\"arrowwidth\":1},\"geo\":{\"bgcolor\":\"white\",\"landcolor\":\"#E5ECF6\",\"subunitcolor\":\"white\",\"showland\":true,\"showlakes\":true,\"lakecolor\":\"white\"},\"title\":{\"x\":0.05},\"mapbox\":{\"style\":\"light\"}}},\"xaxis\":{\"anchor\":\"y\",\"domain\":[0.0,1.0],\"title\":{\"text\":\"index\"}},\"yaxis\":{\"anchor\":\"x\",\"domain\":[0.0,1.0],\"title\":{\"text\":\"% 7d\"}},\"legend\":{\"tracegroupgap\":0},\"title\":{\"text\":\"\\u0418\\u0437\\u043c\\u0435\\u043d\\u0435\\u043d\\u0438\\u0435 \\u043f\\u043e\\u043a\\u0430\\u0437\\u0430\\u0442\\u0435\\u043b\\u0435\\u0439 \\u043f\\u0440\\u043e\\u0446\\u0435\\u043d\\u0442\\u043d\\u044b\\u0445 \\u043f\\u0443\\u043d\\u043a\\u0442\\u043e\\u0432 \\u0437\\u0430 \\u043d\\u0435\\u0434\\u0435\\u043b\\u044e\"}},                        {\"responsive\": true}                    ).then(function(){\n",
              "                            \n",
              "var gd = document.getElementById('4e529904-9bc8-4ff0-af0f-f2599f67723c');\n",
              "var x = new MutationObserver(function (mutations, observer) {{\n",
              "        var display = window.getComputedStyle(gd).display;\n",
              "        if (!display || display === 'none') {{\n",
              "            console.log([gd, 'removed!']);\n",
              "            Plotly.purge(gd);\n",
              "            observer.disconnect();\n",
              "        }}\n",
              "}});\n",
              "\n",
              "// Listen for the removal of the full notebook cells\n",
              "var notebookContainer = gd.closest('#notebook-container');\n",
              "if (notebookContainer) {{\n",
              "    x.observe(notebookContainer, {childList: true});\n",
              "}}\n",
              "\n",
              "// Listen for the clearing of the current output cell\n",
              "var outputEl = gd.closest('.output');\n",
              "if (outputEl) {{\n",
              "    x.observe(outputEl, {childList: true});\n",
              "}}\n",
              "\n",
              "                        })                };                            </script>        </div>\n",
              "</body>\n",
              "</html>"
            ]
          },
          "metadata": {}
        }
      ]
    },
    {
      "cell_type": "code",
      "source": [
        "fig = px.line(df_ml, y= ['% 1h','% 24h','% 7d'],title='Изменение показателей процентных пунктов')\n",
        "fig.show()"
      ],
      "metadata": {
        "colab": {
          "base_uri": "https://localhost:8080/",
          "height": 542
        },
        "id": "qfGXwHkrtOMq",
        "outputId": "19a6120a-237a-445f-c3bb-e36939d0a7a2"
      },
      "execution_count": null,
      "outputs": [
        {
          "output_type": "display_data",
          "data": {
            "text/html": [
              "<html>\n",
              "<head><meta charset=\"utf-8\" /></head>\n",
              "<body>\n",
              "    <div>            <script src=\"https://cdnjs.cloudflare.com/ajax/libs/mathjax/2.7.5/MathJax.js?config=TeX-AMS-MML_SVG\"></script><script type=\"text/javascript\">if (window.MathJax && window.MathJax.Hub && window.MathJax.Hub.Config) {window.MathJax.Hub.Config({SVG: {font: \"STIX-Web\"}});}</script>                <script type=\"text/javascript\">window.PlotlyConfig = {MathJaxConfig: 'local'};</script>\n",
              "        <script src=\"https://cdn.plot.ly/plotly-2.18.2.min.js\"></script>                <div id=\"7c83eb9d-3498-4517-8429-6e62aa6356f3\" class=\"plotly-graph-div\" style=\"height:525px; width:100%;\"></div>            <script type=\"text/javascript\">                                    window.PLOTLYENV=window.PLOTLYENV || {};                                    if (document.getElementById(\"7c83eb9d-3498-4517-8429-6e62aa6356f3\")) {                    Plotly.newPlot(                        \"7c83eb9d-3498-4517-8429-6e62aa6356f3\",                        [{\"hovertemplate\":\"variable=% 1h<br>index=%{x}<br>value=%{y}<extra></extra>\",\"legendgroup\":\"% 1h\",\"line\":{\"color\":\"#636efa\",\"dash\":\"solid\"},\"marker\":{\"symbol\":\"circle\"},\"mode\":\"lines\",\"name\":\"% 1h\",\"orientation\":\"v\",\"showlegend\":true,\"x\":[0,1,2,3,4,5,6,7,8,9,10,11,12,13,14,15,16,17,18,19,20,21,22,23,24,25,26,27,28,29,30,31,32,33,34,35,36,37,38,39,40,41,42,43,44,45,46,47,48,49,50,51],\"xaxis\":\"x\",\"y\":[0.0,-0.0001,-0.0033,-0.0003,-0.003,0.002,0.0025,-0.0021,-0.001,-0.0009,0.0001,-0.0005,-0.001,-0.0013,0.0015,-0.0075,-0.0028,-0.0048,0.0014,-0.0009,-0.0094,-0.0013,0.005,-0.0025,-0.0034,-0.0009,-0.0042,0.0,0.0017,-0.0052,-0.0029,0.0008,-0.001,-0.0014,0.0016,0.0012,-0.0005,0.0163,-0.0004,-0.0046,-0.0007,-0.0025,-0.0001,0.0007,0.0031,-0.0011,-0.0057,-0.0001,0.0026,-0.0105,0.0119,0.0094],\"yaxis\":\"y\",\"type\":\"scatter\"},{\"hovertemplate\":\"variable=% 24h<br>index=%{x}<br>value=%{y}<extra></extra>\",\"legendgroup\":\"% 24h\",\"line\":{\"color\":\"#EF553B\",\"dash\":\"solid\"},\"marker\":{\"symbol\":\"circle\"},\"mode\":\"lines\",\"name\":\"% 24h\",\"orientation\":\"v\",\"showlegend\":true,\"x\":[0,1,2,3,4,5,6,7,8,9,10,11,12,13,14,15,16,17,18,19,20,21,22,23,24,25,26,27,28,29,30,31,32,33,34,35,36,37,38,39,40,41,42,43,44,45,46,47,48,49,50,51],\"xaxis\":\"x\",\"y\":[0.0001,0.0001,-0.005,-0.0001,-0.0181,-0.0047,-0.0033,-0.0782,-0.0016,-0.0035,-0.0119,-0.0007,-0.0168,-0.0109,-0.0111,0.0594,-0.0236,-0.0046,-0.0331,-0.0373,0.0035,-0.0293,-0.0152,0.0089,-0.0458,-0.0267,-0.0167,-0.0102,0.0102,-0.0144,-0.0253,-0.0276,-0.0064,-0.0377,-0.0169,-0.0161,-0.0008,0.0446,0.0008,-0.0142,0.0007,0.0268,-0.0146,-0.0004,-0.0523,-0.0671,-0.042,0.0034,-0.0435,0.0362,-0.087,0.0004],\"yaxis\":\"y\",\"type\":\"scatter\"},{\"hovertemplate\":\"variable=% 7d<br>index=%{x}<br>value=%{y}<extra></extra>\",\"legendgroup\":\"% 7d\",\"line\":{\"color\":\"#00cc96\",\"dash\":\"solid\"},\"marker\":{\"symbol\":\"circle\"},\"mode\":\"lines\",\"name\":\"% 7d\",\"orientation\":\"v\",\"showlegend\":true,\"x\":[0,1,2,3,4,5,6,7,8,9,10,11,12,13,14,15,16,17,18,19,20,21,22,23,24,25,26,27,28,29,30,31,32,33,34,35,36,37,38,39,40,41,42,43,44,45,46,47,48,49,50,51],\"xaxis\":\"x\",\"y\":[0.0004,0.0003,-0.0031,0.0001,-0.0109,-0.0137,-0.0536,-0.0265,0.0088,-0.0203,0.0407,0.0235,-0.0231,-0.0165,-0.0228,0.1416,-0.0361,-0.0224,0.0258,0.0158,-0.0293,-0.0803,0.0116,0.1429,0.0091,-0.0151,-0.0019,0.0314,0.055,0.0291,-0.0272,-0.0095,-0.0006,-0.0604,-0.0064,0.0189,-0.0079,0.0806,0.0202,-0.0686,-0.0015,0.0267,-0.053,0.006,0.0472,0.0647,0.1945,-0.0016,-0.0231,0.3508,0.2399,-0.0012],\"yaxis\":\"y\",\"type\":\"scatter\"}],                        {\"template\":{\"data\":{\"histogram2dcontour\":[{\"type\":\"histogram2dcontour\",\"colorbar\":{\"outlinewidth\":0,\"ticks\":\"\"},\"colorscale\":[[0.0,\"#0d0887\"],[0.1111111111111111,\"#46039f\"],[0.2222222222222222,\"#7201a8\"],[0.3333333333333333,\"#9c179e\"],[0.4444444444444444,\"#bd3786\"],[0.5555555555555556,\"#d8576b\"],[0.6666666666666666,\"#ed7953\"],[0.7777777777777778,\"#fb9f3a\"],[0.8888888888888888,\"#fdca26\"],[1.0,\"#f0f921\"]]}],\"choropleth\":[{\"type\":\"choropleth\",\"colorbar\":{\"outlinewidth\":0,\"ticks\":\"\"}}],\"histogram2d\":[{\"type\":\"histogram2d\",\"colorbar\":{\"outlinewidth\":0,\"ticks\":\"\"},\"colorscale\":[[0.0,\"#0d0887\"],[0.1111111111111111,\"#46039f\"],[0.2222222222222222,\"#7201a8\"],[0.3333333333333333,\"#9c179e\"],[0.4444444444444444,\"#bd3786\"],[0.5555555555555556,\"#d8576b\"],[0.6666666666666666,\"#ed7953\"],[0.7777777777777778,\"#fb9f3a\"],[0.8888888888888888,\"#fdca26\"],[1.0,\"#f0f921\"]]}],\"heatmap\":[{\"type\":\"heatmap\",\"colorbar\":{\"outlinewidth\":0,\"ticks\":\"\"},\"colorscale\":[[0.0,\"#0d0887\"],[0.1111111111111111,\"#46039f\"],[0.2222222222222222,\"#7201a8\"],[0.3333333333333333,\"#9c179e\"],[0.4444444444444444,\"#bd3786\"],[0.5555555555555556,\"#d8576b\"],[0.6666666666666666,\"#ed7953\"],[0.7777777777777778,\"#fb9f3a\"],[0.8888888888888888,\"#fdca26\"],[1.0,\"#f0f921\"]]}],\"heatmapgl\":[{\"type\":\"heatmapgl\",\"colorbar\":{\"outlinewidth\":0,\"ticks\":\"\"},\"colorscale\":[[0.0,\"#0d0887\"],[0.1111111111111111,\"#46039f\"],[0.2222222222222222,\"#7201a8\"],[0.3333333333333333,\"#9c179e\"],[0.4444444444444444,\"#bd3786\"],[0.5555555555555556,\"#d8576b\"],[0.6666666666666666,\"#ed7953\"],[0.7777777777777778,\"#fb9f3a\"],[0.8888888888888888,\"#fdca26\"],[1.0,\"#f0f921\"]]}],\"contourcarpet\":[{\"type\":\"contourcarpet\",\"colorbar\":{\"outlinewidth\":0,\"ticks\":\"\"}}],\"contour\":[{\"type\":\"contour\",\"colorbar\":{\"outlinewidth\":0,\"ticks\":\"\"},\"colorscale\":[[0.0,\"#0d0887\"],[0.1111111111111111,\"#46039f\"],[0.2222222222222222,\"#7201a8\"],[0.3333333333333333,\"#9c179e\"],[0.4444444444444444,\"#bd3786\"],[0.5555555555555556,\"#d8576b\"],[0.6666666666666666,\"#ed7953\"],[0.7777777777777778,\"#fb9f3a\"],[0.8888888888888888,\"#fdca26\"],[1.0,\"#f0f921\"]]}],\"surface\":[{\"type\":\"surface\",\"colorbar\":{\"outlinewidth\":0,\"ticks\":\"\"},\"colorscale\":[[0.0,\"#0d0887\"],[0.1111111111111111,\"#46039f\"],[0.2222222222222222,\"#7201a8\"],[0.3333333333333333,\"#9c179e\"],[0.4444444444444444,\"#bd3786\"],[0.5555555555555556,\"#d8576b\"],[0.6666666666666666,\"#ed7953\"],[0.7777777777777778,\"#fb9f3a\"],[0.8888888888888888,\"#fdca26\"],[1.0,\"#f0f921\"]]}],\"mesh3d\":[{\"type\":\"mesh3d\",\"colorbar\":{\"outlinewidth\":0,\"ticks\":\"\"}}],\"scatter\":[{\"fillpattern\":{\"fillmode\":\"overlay\",\"size\":10,\"solidity\":0.2},\"type\":\"scatter\"}],\"parcoords\":[{\"type\":\"parcoords\",\"line\":{\"colorbar\":{\"outlinewidth\":0,\"ticks\":\"\"}}}],\"scatterpolargl\":[{\"type\":\"scatterpolargl\",\"marker\":{\"colorbar\":{\"outlinewidth\":0,\"ticks\":\"\"}}}],\"bar\":[{\"error_x\":{\"color\":\"#2a3f5f\"},\"error_y\":{\"color\":\"#2a3f5f\"},\"marker\":{\"line\":{\"color\":\"#E5ECF6\",\"width\":0.5},\"pattern\":{\"fillmode\":\"overlay\",\"size\":10,\"solidity\":0.2}},\"type\":\"bar\"}],\"scattergeo\":[{\"type\":\"scattergeo\",\"marker\":{\"colorbar\":{\"outlinewidth\":0,\"ticks\":\"\"}}}],\"scatterpolar\":[{\"type\":\"scatterpolar\",\"marker\":{\"colorbar\":{\"outlinewidth\":0,\"ticks\":\"\"}}}],\"histogram\":[{\"marker\":{\"pattern\":{\"fillmode\":\"overlay\",\"size\":10,\"solidity\":0.2}},\"type\":\"histogram\"}],\"scattergl\":[{\"type\":\"scattergl\",\"marker\":{\"colorbar\":{\"outlinewidth\":0,\"ticks\":\"\"}}}],\"scatter3d\":[{\"type\":\"scatter3d\",\"line\":{\"colorbar\":{\"outlinewidth\":0,\"ticks\":\"\"}},\"marker\":{\"colorbar\":{\"outlinewidth\":0,\"ticks\":\"\"}}}],\"scattermapbox\":[{\"type\":\"scattermapbox\",\"marker\":{\"colorbar\":{\"outlinewidth\":0,\"ticks\":\"\"}}}],\"scatterternary\":[{\"type\":\"scatterternary\",\"marker\":{\"colorbar\":{\"outlinewidth\":0,\"ticks\":\"\"}}}],\"scattercarpet\":[{\"type\":\"scattercarpet\",\"marker\":{\"colorbar\":{\"outlinewidth\":0,\"ticks\":\"\"}}}],\"carpet\":[{\"aaxis\":{\"endlinecolor\":\"#2a3f5f\",\"gridcolor\":\"white\",\"linecolor\":\"white\",\"minorgridcolor\":\"white\",\"startlinecolor\":\"#2a3f5f\"},\"baxis\":{\"endlinecolor\":\"#2a3f5f\",\"gridcolor\":\"white\",\"linecolor\":\"white\",\"minorgridcolor\":\"white\",\"startlinecolor\":\"#2a3f5f\"},\"type\":\"carpet\"}],\"table\":[{\"cells\":{\"fill\":{\"color\":\"#EBF0F8\"},\"line\":{\"color\":\"white\"}},\"header\":{\"fill\":{\"color\":\"#C8D4E3\"},\"line\":{\"color\":\"white\"}},\"type\":\"table\"}],\"barpolar\":[{\"marker\":{\"line\":{\"color\":\"#E5ECF6\",\"width\":0.5},\"pattern\":{\"fillmode\":\"overlay\",\"size\":10,\"solidity\":0.2}},\"type\":\"barpolar\"}],\"pie\":[{\"automargin\":true,\"type\":\"pie\"}]},\"layout\":{\"autotypenumbers\":\"strict\",\"colorway\":[\"#636efa\",\"#EF553B\",\"#00cc96\",\"#ab63fa\",\"#FFA15A\",\"#19d3f3\",\"#FF6692\",\"#B6E880\",\"#FF97FF\",\"#FECB52\"],\"font\":{\"color\":\"#2a3f5f\"},\"hovermode\":\"closest\",\"hoverlabel\":{\"align\":\"left\"},\"paper_bgcolor\":\"white\",\"plot_bgcolor\":\"#E5ECF6\",\"polar\":{\"bgcolor\":\"#E5ECF6\",\"angularaxis\":{\"gridcolor\":\"white\",\"linecolor\":\"white\",\"ticks\":\"\"},\"radialaxis\":{\"gridcolor\":\"white\",\"linecolor\":\"white\",\"ticks\":\"\"}},\"ternary\":{\"bgcolor\":\"#E5ECF6\",\"aaxis\":{\"gridcolor\":\"white\",\"linecolor\":\"white\",\"ticks\":\"\"},\"baxis\":{\"gridcolor\":\"white\",\"linecolor\":\"white\",\"ticks\":\"\"},\"caxis\":{\"gridcolor\":\"white\",\"linecolor\":\"white\",\"ticks\":\"\"}},\"coloraxis\":{\"colorbar\":{\"outlinewidth\":0,\"ticks\":\"\"}},\"colorscale\":{\"sequential\":[[0.0,\"#0d0887\"],[0.1111111111111111,\"#46039f\"],[0.2222222222222222,\"#7201a8\"],[0.3333333333333333,\"#9c179e\"],[0.4444444444444444,\"#bd3786\"],[0.5555555555555556,\"#d8576b\"],[0.6666666666666666,\"#ed7953\"],[0.7777777777777778,\"#fb9f3a\"],[0.8888888888888888,\"#fdca26\"],[1.0,\"#f0f921\"]],\"sequentialminus\":[[0.0,\"#0d0887\"],[0.1111111111111111,\"#46039f\"],[0.2222222222222222,\"#7201a8\"],[0.3333333333333333,\"#9c179e\"],[0.4444444444444444,\"#bd3786\"],[0.5555555555555556,\"#d8576b\"],[0.6666666666666666,\"#ed7953\"],[0.7777777777777778,\"#fb9f3a\"],[0.8888888888888888,\"#fdca26\"],[1.0,\"#f0f921\"]],\"diverging\":[[0,\"#8e0152\"],[0.1,\"#c51b7d\"],[0.2,\"#de77ae\"],[0.3,\"#f1b6da\"],[0.4,\"#fde0ef\"],[0.5,\"#f7f7f7\"],[0.6,\"#e6f5d0\"],[0.7,\"#b8e186\"],[0.8,\"#7fbc41\"],[0.9,\"#4d9221\"],[1,\"#276419\"]]},\"xaxis\":{\"gridcolor\":\"white\",\"linecolor\":\"white\",\"ticks\":\"\",\"title\":{\"standoff\":15},\"zerolinecolor\":\"white\",\"automargin\":true,\"zerolinewidth\":2},\"yaxis\":{\"gridcolor\":\"white\",\"linecolor\":\"white\",\"ticks\":\"\",\"title\":{\"standoff\":15},\"zerolinecolor\":\"white\",\"automargin\":true,\"zerolinewidth\":2},\"scene\":{\"xaxis\":{\"backgroundcolor\":\"#E5ECF6\",\"gridcolor\":\"white\",\"linecolor\":\"white\",\"showbackground\":true,\"ticks\":\"\",\"zerolinecolor\":\"white\",\"gridwidth\":2},\"yaxis\":{\"backgroundcolor\":\"#E5ECF6\",\"gridcolor\":\"white\",\"linecolor\":\"white\",\"showbackground\":true,\"ticks\":\"\",\"zerolinecolor\":\"white\",\"gridwidth\":2},\"zaxis\":{\"backgroundcolor\":\"#E5ECF6\",\"gridcolor\":\"white\",\"linecolor\":\"white\",\"showbackground\":true,\"ticks\":\"\",\"zerolinecolor\":\"white\",\"gridwidth\":2}},\"shapedefaults\":{\"line\":{\"color\":\"#2a3f5f\"}},\"annotationdefaults\":{\"arrowcolor\":\"#2a3f5f\",\"arrowhead\":0,\"arrowwidth\":1},\"geo\":{\"bgcolor\":\"white\",\"landcolor\":\"#E5ECF6\",\"subunitcolor\":\"white\",\"showland\":true,\"showlakes\":true,\"lakecolor\":\"white\"},\"title\":{\"x\":0.05},\"mapbox\":{\"style\":\"light\"}}},\"xaxis\":{\"anchor\":\"y\",\"domain\":[0.0,1.0],\"title\":{\"text\":\"index\"}},\"yaxis\":{\"anchor\":\"x\",\"domain\":[0.0,1.0],\"title\":{\"text\":\"value\"}},\"legend\":{\"title\":{\"text\":\"variable\"},\"tracegroupgap\":0},\"title\":{\"text\":\"\\u0418\\u0437\\u043c\\u0435\\u043d\\u0435\\u043d\\u0438\\u0435 \\u043f\\u043e\\u043a\\u0430\\u0437\\u0430\\u0442\\u0435\\u043b\\u0435\\u0439 \\u043f\\u0440\\u043e\\u0446\\u0435\\u043d\\u0442\\u043d\\u044b\\u0445 \\u043f\\u0443\\u043d\\u043a\\u0442\\u043e\\u0432\"}},                        {\"responsive\": true}                    ).then(function(){\n",
              "                            \n",
              "var gd = document.getElementById('7c83eb9d-3498-4517-8429-6e62aa6356f3');\n",
              "var x = new MutationObserver(function (mutations, observer) {{\n",
              "        var display = window.getComputedStyle(gd).display;\n",
              "        if (!display || display === 'none') {{\n",
              "            console.log([gd, 'removed!']);\n",
              "            Plotly.purge(gd);\n",
              "            observer.disconnect();\n",
              "        }}\n",
              "}});\n",
              "\n",
              "// Listen for the removal of the full notebook cells\n",
              "var notebookContainer = gd.closest('#notebook-container');\n",
              "if (notebookContainer) {{\n",
              "    x.observe(notebookContainer, {childList: true});\n",
              "}}\n",
              "\n",
              "// Listen for the clearing of the current output cell\n",
              "var outputEl = gd.closest('.output');\n",
              "if (outputEl) {{\n",
              "    x.observe(outputEl, {childList: true});\n",
              "}}\n",
              "\n",
              "                        })                };                            </script>        </div>\n",
              "</body>\n",
              "</html>"
            ]
          },
          "metadata": {}
        }
      ]
    },
    {
      "cell_type": "code",
      "source": [],
      "metadata": {
        "id": "UdQFatLktOJ6"
      },
      "execution_count": null,
      "outputs": []
    },
    {
      "cell_type": "markdown",
      "source": [
        "Построим модель предсказания процентного изменения катировок платформы в течение одной недели **(target = '% 7d')**"
      ],
      "metadata": {
        "id": "ZuKjnCE_kCoj"
      }
    },
    {
      "cell_type": "markdown",
      "source": [
        "Проверим данные на null"
      ],
      "metadata": {
        "id": "FzNK-WisWlpx"
      }
    },
    {
      "cell_type": "code",
      "source": [
        "df_ml.isnull().sum()"
      ],
      "metadata": {
        "colab": {
          "base_uri": "https://localhost:8080/"
        },
        "id": "rLevEXCRWmub",
        "outputId": "fae0f71e-e8bf-49e5-f957-6a350aa411ee"
      },
      "execution_count": null,
      "outputs": [
        {
          "output_type": "execute_result",
          "data": {
            "text/plain": [
              "Unnamed: 0    0\n",
              "Market Cap    0\n",
              "Price         0\n",
              "% 1h          0\n",
              "% 24h         0\n",
              "% 7d          0\n",
              "dtype: int64"
            ]
          },
          "metadata": {},
          "execution_count": 43
        }
      ]
    },
    {
      "cell_type": "markdown",
      "source": [
        "Проверим данные на дублирующиеся записи"
      ],
      "metadata": {
        "id": "_O2vk85dWt-T"
      }
    },
    {
      "cell_type": "code",
      "source": [
        "df_ml.duplicated().sum()"
      ],
      "metadata": {
        "colab": {
          "base_uri": "https://localhost:8080/"
        },
        "id": "VtMSvhH2Wujv",
        "outputId": "6bd7d881-3748-4165-e71e-ea999907d25f"
      },
      "execution_count": null,
      "outputs": [
        {
          "output_type": "execute_result",
          "data": {
            "text/plain": [
              "0"
            ]
          },
          "metadata": {},
          "execution_count": 44
        }
      ]
    },
    {
      "cell_type": "markdown",
      "source": [
        "Проанализируем наши данные, узнаем их тип и некоторые численные значения"
      ],
      "metadata": {
        "id": "kXfRZ5fHW0It"
      }
    },
    {
      "cell_type": "code",
      "source": [
        "df_ml.dtypes"
      ],
      "metadata": {
        "colab": {
          "base_uri": "https://localhost:8080/"
        },
        "id": "0B_3l-L7W0uN",
        "outputId": "37cccf7d-60e7-499d-b4e9-9f35d5fa8d2e"
      },
      "execution_count": null,
      "outputs": [
        {
          "output_type": "execute_result",
          "data": {
            "text/plain": [
              "Unnamed: 0      int64\n",
              "Market Cap    float64\n",
              "Price         float64\n",
              "% 1h          float64\n",
              "% 24h         float64\n",
              "% 7d          float64\n",
              "dtype: object"
            ]
          },
          "metadata": {},
          "execution_count": 45
        }
      ]
    },
    {
      "cell_type": "code",
      "source": [
        "df_ml.describe()"
      ],
      "metadata": {
        "colab": {
          "base_uri": "https://localhost:8080/",
          "height": 300
        },
        "id": "WJpiaCWbW5xj",
        "outputId": "30dc0a30-ce29-4062-ae67-801c232b3fc8"
      },
      "execution_count": null,
      "outputs": [
        {
          "output_type": "execute_result",
          "data": {
            "text/plain": [
              "       Unnamed: 0  Market Cap         Price       % 1h      % 24h       % 7d\n",
              "count   52.000000   52.000000     52.000000  52.000000  52.000000  52.000000\n",
              "mean    25.500000    2.928462    818.461731  -0.000502  -0.013069   0.018250\n",
              "std     15.154757   11.927021   4032.264749   0.004429   0.026531   0.075655\n",
              "min      0.000000    0.090000      0.000000  -0.010500  -0.087000  -0.080300\n",
              "25%     12.750000    0.172500      0.217500  -0.002575  -0.025650  -0.020825\n",
              "50%     25.500000    0.240000      1.000000  -0.000800  -0.011000  -0.000900\n",
              "75%     38.250000    0.572500      3.190000   0.000900  -0.000050   0.026025\n",
              "max     51.000000   80.250000  27923.880000   0.016300   0.059400   0.350800"
            ],
            "text/html": [
              "\n",
              "  <div id=\"df-33fa2d58-1986-4cff-9b58-0cd4308cbef9\">\n",
              "    <div class=\"colab-df-container\">\n",
              "      <div>\n",
              "<style scoped>\n",
              "    .dataframe tbody tr th:only-of-type {\n",
              "        vertical-align: middle;\n",
              "    }\n",
              "\n",
              "    .dataframe tbody tr th {\n",
              "        vertical-align: top;\n",
              "    }\n",
              "\n",
              "    .dataframe thead th {\n",
              "        text-align: right;\n",
              "    }\n",
              "</style>\n",
              "<table border=\"1\" class=\"dataframe\">\n",
              "  <thead>\n",
              "    <tr style=\"text-align: right;\">\n",
              "      <th></th>\n",
              "      <th>Unnamed: 0</th>\n",
              "      <th>Market Cap</th>\n",
              "      <th>Price</th>\n",
              "      <th>% 1h</th>\n",
              "      <th>% 24h</th>\n",
              "      <th>% 7d</th>\n",
              "    </tr>\n",
              "  </thead>\n",
              "  <tbody>\n",
              "    <tr>\n",
              "      <th>count</th>\n",
              "      <td>52.000000</td>\n",
              "      <td>52.000000</td>\n",
              "      <td>52.000000</td>\n",
              "      <td>52.000000</td>\n",
              "      <td>52.000000</td>\n",
              "      <td>52.000000</td>\n",
              "    </tr>\n",
              "    <tr>\n",
              "      <th>mean</th>\n",
              "      <td>25.500000</td>\n",
              "      <td>2.928462</td>\n",
              "      <td>818.461731</td>\n",
              "      <td>-0.000502</td>\n",
              "      <td>-0.013069</td>\n",
              "      <td>0.018250</td>\n",
              "    </tr>\n",
              "    <tr>\n",
              "      <th>std</th>\n",
              "      <td>15.154757</td>\n",
              "      <td>11.927021</td>\n",
              "      <td>4032.264749</td>\n",
              "      <td>0.004429</td>\n",
              "      <td>0.026531</td>\n",
              "      <td>0.075655</td>\n",
              "    </tr>\n",
              "    <tr>\n",
              "      <th>min</th>\n",
              "      <td>0.000000</td>\n",
              "      <td>0.090000</td>\n",
              "      <td>0.000000</td>\n",
              "      <td>-0.010500</td>\n",
              "      <td>-0.087000</td>\n",
              "      <td>-0.080300</td>\n",
              "    </tr>\n",
              "    <tr>\n",
              "      <th>25%</th>\n",
              "      <td>12.750000</td>\n",
              "      <td>0.172500</td>\n",
              "      <td>0.217500</td>\n",
              "      <td>-0.002575</td>\n",
              "      <td>-0.025650</td>\n",
              "      <td>-0.020825</td>\n",
              "    </tr>\n",
              "    <tr>\n",
              "      <th>50%</th>\n",
              "      <td>25.500000</td>\n",
              "      <td>0.240000</td>\n",
              "      <td>1.000000</td>\n",
              "      <td>-0.000800</td>\n",
              "      <td>-0.011000</td>\n",
              "      <td>-0.000900</td>\n",
              "    </tr>\n",
              "    <tr>\n",
              "      <th>75%</th>\n",
              "      <td>38.250000</td>\n",
              "      <td>0.572500</td>\n",
              "      <td>3.190000</td>\n",
              "      <td>0.000900</td>\n",
              "      <td>-0.000050</td>\n",
              "      <td>0.026025</td>\n",
              "    </tr>\n",
              "    <tr>\n",
              "      <th>max</th>\n",
              "      <td>51.000000</td>\n",
              "      <td>80.250000</td>\n",
              "      <td>27923.880000</td>\n",
              "      <td>0.016300</td>\n",
              "      <td>0.059400</td>\n",
              "      <td>0.350800</td>\n",
              "    </tr>\n",
              "  </tbody>\n",
              "</table>\n",
              "</div>\n",
              "      <button class=\"colab-df-convert\" onclick=\"convertToInteractive('df-33fa2d58-1986-4cff-9b58-0cd4308cbef9')\"\n",
              "              title=\"Convert this dataframe to an interactive table.\"\n",
              "              style=\"display:none;\">\n",
              "        \n",
              "  <svg xmlns=\"http://www.w3.org/2000/svg\" height=\"24px\"viewBox=\"0 0 24 24\"\n",
              "       width=\"24px\">\n",
              "    <path d=\"M0 0h24v24H0V0z\" fill=\"none\"/>\n",
              "    <path d=\"M18.56 5.44l.94 2.06.94-2.06 2.06-.94-2.06-.94-.94-2.06-.94 2.06-2.06.94zm-11 1L8.5 8.5l.94-2.06 2.06-.94-2.06-.94L8.5 2.5l-.94 2.06-2.06.94zm10 10l.94 2.06.94-2.06 2.06-.94-2.06-.94-.94-2.06-.94 2.06-2.06.94z\"/><path d=\"M17.41 7.96l-1.37-1.37c-.4-.4-.92-.59-1.43-.59-.52 0-1.04.2-1.43.59L10.3 9.45l-7.72 7.72c-.78.78-.78 2.05 0 2.83L4 21.41c.39.39.9.59 1.41.59.51 0 1.02-.2 1.41-.59l7.78-7.78 2.81-2.81c.8-.78.8-2.07 0-2.86zM5.41 20L4 18.59l7.72-7.72 1.47 1.35L5.41 20z\"/>\n",
              "  </svg>\n",
              "      </button>\n",
              "      \n",
              "  <style>\n",
              "    .colab-df-container {\n",
              "      display:flex;\n",
              "      flex-wrap:wrap;\n",
              "      gap: 12px;\n",
              "    }\n",
              "\n",
              "    .colab-df-convert {\n",
              "      background-color: #E8F0FE;\n",
              "      border: none;\n",
              "      border-radius: 50%;\n",
              "      cursor: pointer;\n",
              "      display: none;\n",
              "      fill: #1967D2;\n",
              "      height: 32px;\n",
              "      padding: 0 0 0 0;\n",
              "      width: 32px;\n",
              "    }\n",
              "\n",
              "    .colab-df-convert:hover {\n",
              "      background-color: #E2EBFA;\n",
              "      box-shadow: 0px 1px 2px rgba(60, 64, 67, 0.3), 0px 1px 3px 1px rgba(60, 64, 67, 0.15);\n",
              "      fill: #174EA6;\n",
              "    }\n",
              "\n",
              "    [theme=dark] .colab-df-convert {\n",
              "      background-color: #3B4455;\n",
              "      fill: #D2E3FC;\n",
              "    }\n",
              "\n",
              "    [theme=dark] .colab-df-convert:hover {\n",
              "      background-color: #434B5C;\n",
              "      box-shadow: 0px 1px 3px 1px rgba(0, 0, 0, 0.15);\n",
              "      filter: drop-shadow(0px 1px 2px rgba(0, 0, 0, 0.3));\n",
              "      fill: #FFFFFF;\n",
              "    }\n",
              "  </style>\n",
              "\n",
              "      <script>\n",
              "        const buttonEl =\n",
              "          document.querySelector('#df-33fa2d58-1986-4cff-9b58-0cd4308cbef9 button.colab-df-convert');\n",
              "        buttonEl.style.display =\n",
              "          google.colab.kernel.accessAllowed ? 'block' : 'none';\n",
              "\n",
              "        async function convertToInteractive(key) {\n",
              "          const element = document.querySelector('#df-33fa2d58-1986-4cff-9b58-0cd4308cbef9');\n",
              "          const dataTable =\n",
              "            await google.colab.kernel.invokeFunction('convertToInteractive',\n",
              "                                                     [key], {});\n",
              "          if (!dataTable) return;\n",
              "\n",
              "          const docLinkHtml = 'Like what you see? Visit the ' +\n",
              "            '<a target=\"_blank\" href=https://colab.research.google.com/notebooks/data_table.ipynb>data table notebook</a>'\n",
              "            + ' to learn more about interactive tables.';\n",
              "          element.innerHTML = '';\n",
              "          dataTable['output_type'] = 'display_data';\n",
              "          await google.colab.output.renderOutput(dataTable, element);\n",
              "          const docLink = document.createElement('div');\n",
              "          docLink.innerHTML = docLinkHtml;\n",
              "          element.appendChild(docLink);\n",
              "        }\n",
              "      </script>\n",
              "    </div>\n",
              "  </div>\n",
              "  "
            ]
          },
          "metadata": {},
          "execution_count": 46
        }
      ]
    },
    {
      "cell_type": "markdown",
      "source": [
        "Создадим две диаграммы, которые покажут нам баланс данных. Первая диаграмма *countplot* покажет нам, как часто встречается то или иное значение **% 7d**. Вторая круговая диаграмма *pie* покажет нам, как часто встречается то или иное значение **% 7d** в процентном соотношении."
      ],
      "metadata": {
        "id": "b5ICyNxlXBGe"
      }
    },
    {
      "cell_type": "code",
      "source": [
        "plt.figure(figsize=(25,7))\n",
        "sns.countplot(x='% 7d',data=df_ml)\n",
        "plt.title(\"Показатель\")"
      ],
      "metadata": {
        "colab": {
          "base_uri": "https://localhost:8080/",
          "height": 496
        },
        "id": "3hFZhUToXTjr",
        "outputId": "a6b17507-23d3-4302-a7b1-e6c240b74252"
      },
      "execution_count": null,
      "outputs": [
        {
          "output_type": "execute_result",
          "data": {
            "text/plain": [
              "Text(0.5, 1.0, 'Показатель')"
            ]
          },
          "metadata": {},
          "execution_count": 47
        },
        {
          "output_type": "display_data",
          "data": {
            "text/plain": [
              "<Figure size 2500x700 with 1 Axes>"
            ],
            "image/png": "[encoded data removed]"
          },
          "metadata": {}
        }
      ]
    },
    {
      "cell_type": "code",
      "source": [
        "plt.figure(figsize=(25,7))\n",
        "labels =df_ml['% 7d'].value_counts(sort = True).index\n",
        "sizes = df_ml['% 7d'].value_counts(sort = True)\n",
        "plt.pie(sizes,labels=labels,autopct='%1.1f%%', shadow=False, startangle=270,)\n",
        "plt.title('Процентное соотношение',size = 14)\n",
        "plt.show()"
      ],
      "metadata": {
        "id": "BHyiv75elMGa",
        "colab": {
          "base_uri": "https://localhost:8080/",
          "height": 599
        },
        "outputId": "1759f045-c549-4bb9-9a51-9cf6c24c9e31"
      },
      "execution_count": null,
      "outputs": [
        {
          "output_type": "display_data",
          "data": {
            "text/plain": [
              "<Figure size 2500x700 with 1 Axes>"
            ],
            "image/png": "[encoded data removed]"
          },
          "metadata": {}
        }
      ]
    },
    {
      "cell_type": "markdown",
      "source": [
        "Разобьём данные на выборки *train* и *test* для машинного обучения"
      ],
      "metadata": {
        "id": "uh1IVUUCX10A"
      }
    },
    {
      "cell_type": "code",
      "source": [
        "X = df_ml[['Market Cap','Price','% 1h','% 24h']]\n",
        "Y = df_ml['% 7d']\n",
        "\n",
        "X_train,X_test,y_train,y_test = train_test_split (X,Y,test_size=0.3,random_state=0)"
      ],
      "metadata": {
        "id": "U87XAW6JX2ip"
      },
      "execution_count": null,
      "outputs": []
    },
    {
      "cell_type": "markdown",
      "source": [
        "Создадим модель линейной регрессии и обучим её на наших данных. С помощью нашей модели попробуем предсказать, какие значения value мы получим на основе выборки X_test"
      ],
      "metadata": {
        "id": "y7AlmyPrYm4o"
      }
    },
    {
      "cell_type": "code",
      "source": [
        "model = GradientBoostingRegressor()\n",
        "\n",
        "model.fit(X_train,y_train)"
      ],
      "metadata": {
        "colab": {
          "base_uri": "https://localhost:8080/",
          "height": 75
        },
        "id": "TSYkLby0YoGV",
        "outputId": "7d096bf5-8c4f-40ef-e54a-b4108e1a753e"
      },
      "execution_count": null,
      "outputs": [
        {
          "output_type": "execute_result",
          "data": {
            "text/plain": [
              "GradientBoostingRegressor()"
            ],
            "text/html": [
              "<style>#sk-container-id-5 {color: black;background-color: white;}#sk-container-id-5 pre{padding: 0;}#sk-container-id-5 div.sk-toggleable {background-color: white;}#sk-container-id-5 label.sk-toggleable__label {cursor: pointer;display: block;width: 100%;margin-bottom: 0;padding: 0.3em;box-sizing: border-box;text-align: center;}#sk-container-id-5 label.sk-toggleable__label-arrow:before {content: \"▸\";float: left;margin-right: 0.25em;color: #696969;}#sk-container-id-5 label.sk-toggleable__label-arrow:hover:before {color: black;}#sk-container-id-5 div.sk-estimator:hover label.sk-toggleable__label-arrow:before {color: black;}#sk-container-id-5 div.sk-toggleable__content {max-height: 0;max-width: 0;overflow: hidden;text-align: left;background-color: #f0f8ff;}#sk-container-id-5 div.sk-toggleable__content pre {margin: 0.2em;color: black;border-radius: 0.25em;background-color: #f0f8ff;}#sk-container-id-5 input.sk-toggleable__control:checked~div.sk-toggleable__content {max-height: 200px;max-width: 100%;overflow: auto;}#sk-container-id-5 input.sk-toggleable__control:checked~label.sk-toggleable__label-arrow:before {content: \"▾\";}#sk-container-id-5 div.sk-estimator input.sk-toggleable__control:checked~label.sk-toggleable__label {background-color: #d4ebff;}#sk-container-id-5 div.sk-label input.sk-toggleable__control:checked~label.sk-toggleable__label {background-color: #d4ebff;}#sk-container-id-5 input.sk-hidden--visually {border: 0;clip: rect(1px 1px 1px 1px);clip: rect(1px, 1px, 1px, 1px);height: 1px;margin: -1px;overflow: hidden;padding: 0;position: absolute;width: 1px;}#sk-container-id-5 div.sk-estimator {font-family: monospace;background-color: #f0f8ff;border: 1px dotted black;border-radius: 0.25em;box-sizing: border-box;margin-bottom: 0.5em;}#sk-container-id-5 div.sk-estimator:hover {background-color: #d4ebff;}#sk-container-id-5 div.sk-parallel-item::after {content: \"\";width: 100%;border-bottom: 1px solid gray;flex-grow: 1;}#sk-container-id-5 div.sk-label:hover label.sk-toggleable__label {background-color: #d4ebff;}#sk-container-id-5 div.sk-serial::before {content: \"\";position: absolute;border-left: 1px solid gray;box-sizing: border-box;top: 0;bottom: 0;left: 50%;z-index: 0;}#sk-container-id-5 div.sk-serial {display: flex;flex-direction: column;align-items: center;background-color: white;padding-right: 0.2em;padding-left: 0.2em;position: relative;}#sk-container-id-5 div.sk-item {position: relative;z-index: 1;}#sk-container-id-5 div.sk-parallel {display: flex;align-items: stretch;justify-content: center;background-color: white;position: relative;}#sk-container-id-5 div.sk-item::before, #sk-container-id-5 div.sk-parallel-item::before {content: \"\";position: absolute;border-left: 1px solid gray;box-sizing: border-box;top: 0;bottom: 0;left: 50%;z-index: -1;}#sk-container-id-5 div.sk-parallel-item {display: flex;flex-direction: column;z-index: 1;position: relative;background-color: white;}#sk-container-id-5 div.sk-parallel-item:first-child::after {align-self: flex-end;width: 50%;}#sk-container-id-5 div.sk-parallel-item:last-child::after {align-self: flex-start;width: 50%;}#sk-container-id-5 div.sk-parallel-item:only-child::after {width: 0;}#sk-container-id-5 div.sk-dashed-wrapped {border: 1px dashed gray;margin: 0 0.4em 0.5em 0.4em;box-sizing: border-box;padding-bottom: 0.4em;background-color: white;}#sk-container-id-5 div.sk-label label {font-family: monospace;font-weight: bold;display: inline-block;line-height: 1.2em;}#sk-container-id-5 div.sk-label-container {text-align: center;}#sk-container-id-5 div.sk-container {/* jupyter's `normalize.less` sets `[hidden] { display: none; }` but bootstrap.min.css set `[hidden] { display: none !important; }` so we also need the `!important` here to be able to override the default hidden behavior on the sphinx rendered scikit-learn.org. See: https://github.com/scikit-learn/scikit-learn/issues/21755 */display: inline-block !important;position: relative;}#sk-container-id-5 div.sk-text-repr-fallback {display: none;}</style><div id=\"sk-container-id-5\" class=\"sk-top-container\"><div class=\"sk-text-repr-fallback\"><pre>GradientBoostingRegressor()</pre><b>In a Jupyter environment, please rerun this cell to show the HTML representation or trust the notebook. <br />On GitHub, the HTML representation is unable to render, please try loading this page with nbviewer.org.</b></div><div class=\"sk-container\" hidden><div class=\"sk-item\"><div class=\"sk-estimator sk-toggleable\"><input class=\"sk-toggleable__control sk-hidden--visually\" id=\"sk-estimator-id-5\" type=\"checkbox\" checked><label for=\"sk-estimator-id-5\" class=\"sk-toggleable__label sk-toggleable__label-arrow\">GradientBoostingRegressor</label><div class=\"sk-toggleable__content\"><pre>GradientBoostingRegressor()</pre></div></div></div></div></div>"
            ]
          },
          "metadata": {},
          "execution_count": 71
        }
      ]
    },
    {
      "cell_type": "markdown",
      "source": [
        "# Получаем результаты"
      ],
      "metadata": {
        "id": "xGC8Zn5EYsNL"
      }
    },
    {
      "cell_type": "markdown",
      "source": [
        "Точность модели составила 3%"
      ],
      "metadata": {
        "id": "X9bEA2HArGJF"
      }
    },
    {
      "cell_type": "code",
      "source": [
        "model.score(X_train,y_train)"
      ],
      "metadata": {
        "colab": {
          "base_uri": "https://localhost:8080/"
        },
        "id": "EjwXLQoliv3G",
        "outputId": "d48a1ade-34ee-410a-90e4-a630e8a9d01d"
      },
      "execution_count": null,
      "outputs": [
        {
          "output_type": "execute_result",
          "data": {
            "text/plain": [
              "1.0"
            ]
          },
          "metadata": {},
          "execution_count": 64
        }
      ]
    },
    {
      "cell_type": "markdown",
      "source": [
        "Предсказываем ответ на основе некоторого тестового вектора"
      ],
      "metadata": {
        "id": "ZA7zZ8s4Yv46"
      }
    },
    {
      "cell_type": "code",
      "source": [
        "model.predict(X_test)"
      ],
      "metadata": {
        "colab": {
          "base_uri": "https://localhost:8080/"
        },
        "id": "mfHPqF10YrxL",
        "outputId": "1eff2605-9496-4fcf-809f-7706c8d7ab88"
      },
      "execution_count": null,
      "outputs": [
        {
          "output_type": "execute_result",
          "data": {
            "text/plain": [
              "array([ 0.1429,  0.2399, -0.0079,  0.0472, -0.0224, -0.0604, -0.0079,\n",
              "       -0.0203, -0.0361, -0.0686,  0.0314, -0.0137,  0.0258, -0.0604,\n",
              "        0.0314,  0.0647])"
            ]
          },
          "metadata": {},
          "execution_count": 65
        }
      ]
    },
    {
      "cell_type": "markdown",
      "source": [
        "# Спрогнозируем теперь процентное изменение за час (target = %1h), зная капитализацию, стоимость и изменения за сутки и за неделю"
      ],
      "metadata": {
        "id": "YuYUw1z_qS2_"
      }
    },
    {
      "cell_type": "code",
      "source": [
        "X = df_ml[['Market Cap','Price','% 7d','% 24h']]\n",
        "Y = df_ml['% 1h']\n",
        "\n",
        "X_train,X_test,y_train,y_test = train_test_split (X,Y,test_size=0.3,random_state=0)"
      ],
      "metadata": {
        "id": "Sk7C9AehpjaY"
      },
      "execution_count": null,
      "outputs": []
    },
    {
      "cell_type": "code",
      "source": [
        "model = GradientBoostingRegressor()\n",
        "\n",
        "model.fit(X_train,y_train)"
      ],
      "metadata": {
        "colab": {
          "base_uri": "https://localhost:8080/",
          "height": 75
        },
        "id": "5QnOthAzpjQp",
        "outputId": "f115b7ad-fc71-4acb-ba31-66b6c8d892d1"
      },
      "execution_count": null,
      "outputs": [
        {
          "output_type": "execute_result",
          "data": {
            "text/plain": [
              "GradientBoostingRegressor()"
            ],
            "text/html": [
              "<style>#sk-container-id-6 {color: black;background-color: white;}#sk-container-id-6 pre{padding: 0;}#sk-container-id-6 div.sk-toggleable {background-color: white;}#sk-container-id-6 label.sk-toggleable__label {cursor: pointer;display: block;width: 100%;margin-bottom: 0;padding: 0.3em;box-sizing: border-box;text-align: center;}#sk-container-id-6 label.sk-toggleable__label-arrow:before {content: \"▸\";float: left;margin-right: 0.25em;color: #696969;}#sk-container-id-6 label.sk-toggleable__label-arrow:hover:before {color: black;}#sk-container-id-6 div.sk-estimator:hover label.sk-toggleable__label-arrow:before {color: black;}#sk-container-id-6 div.sk-toggleable__content {max-height: 0;max-width: 0;overflow: hidden;text-align: left;background-color: #f0f8ff;}#sk-container-id-6 div.sk-toggleable__content pre {margin: 0.2em;color: black;border-radius: 0.25em;background-color: #f0f8ff;}#sk-container-id-6 input.sk-toggleable__control:checked~div.sk-toggleable__content {max-height: 200px;max-width: 100%;overflow: auto;}#sk-container-id-6 input.sk-toggleable__control:checked~label.sk-toggleable__label-arrow:before {content: \"▾\";}#sk-container-id-6 div.sk-estimator input.sk-toggleable__control:checked~label.sk-toggleable__label {background-color: #d4ebff;}#sk-container-id-6 div.sk-label input.sk-toggleable__control:checked~label.sk-toggleable__label {background-color: #d4ebff;}#sk-container-id-6 input.sk-hidden--visually {border: 0;clip: rect(1px 1px 1px 1px);clip: rect(1px, 1px, 1px, 1px);height: 1px;margin: -1px;overflow: hidden;padding: 0;position: absolute;width: 1px;}#sk-container-id-6 div.sk-estimator {font-family: monospace;background-color: #f0f8ff;border: 1px dotted black;border-radius: 0.25em;box-sizing: border-box;margin-bottom: 0.5em;}#sk-container-id-6 div.sk-estimator:hover {background-color: #d4ebff;}#sk-container-id-6 div.sk-parallel-item::after {content: \"\";width: 100%;border-bottom: 1px solid gray;flex-grow: 1;}#sk-container-id-6 div.sk-label:hover label.sk-toggleable__label {background-color: #d4ebff;}#sk-container-id-6 div.sk-serial::before {content: \"\";position: absolute;border-left: 1px solid gray;box-sizing: border-box;top: 0;bottom: 0;left: 50%;z-index: 0;}#sk-container-id-6 div.sk-serial {display: flex;flex-direction: column;align-items: center;background-color: white;padding-right: 0.2em;padding-left: 0.2em;position: relative;}#sk-container-id-6 div.sk-item {position: relative;z-index: 1;}#sk-container-id-6 div.sk-parallel {display: flex;align-items: stretch;justify-content: center;background-color: white;position: relative;}#sk-container-id-6 div.sk-item::before, #sk-container-id-6 div.sk-parallel-item::before {content: \"\";position: absolute;border-left: 1px solid gray;box-sizing: border-box;top: 0;bottom: 0;left: 50%;z-index: -1;}#sk-container-id-6 div.sk-parallel-item {display: flex;flex-direction: column;z-index: 1;position: relative;background-color: white;}#sk-container-id-6 div.sk-parallel-item:first-child::after {align-self: flex-end;width: 50%;}#sk-container-id-6 div.sk-parallel-item:last-child::after {align-self: flex-start;width: 50%;}#sk-container-id-6 div.sk-parallel-item:only-child::after {width: 0;}#sk-container-id-6 div.sk-dashed-wrapped {border: 1px dashed gray;margin: 0 0.4em 0.5em 0.4em;box-sizing: border-box;padding-bottom: 0.4em;background-color: white;}#sk-container-id-6 div.sk-label label {font-family: monospace;font-weight: bold;display: inline-block;line-height: 1.2em;}#sk-container-id-6 div.sk-label-container {text-align: center;}#sk-container-id-6 div.sk-container {/* jupyter's `normalize.less` sets `[hidden] { display: none; }` but bootstrap.min.css set `[hidden] { display: none !important; }` so we also need the `!important` here to be able to override the default hidden behavior on the sphinx rendered scikit-learn.org. See: https://github.com/scikit-learn/scikit-learn/issues/21755 */display: inline-block !important;position: relative;}#sk-container-id-6 div.sk-text-repr-fallback {display: none;}</style><div id=\"sk-container-id-6\" class=\"sk-top-container\"><div class=\"sk-text-repr-fallback\"><pre>GradientBoostingRegressor()</pre><b>In a Jupyter environment, please rerun this cell to show the HTML representation or trust the notebook. <br />On GitHub, the HTML representation is unable to render, please try loading this page with nbviewer.org.</b></div><div class=\"sk-container\" hidden><div class=\"sk-item\"><div class=\"sk-estimator sk-toggleable\"><input class=\"sk-toggleable__control sk-hidden--visually\" id=\"sk-estimator-id-6\" type=\"checkbox\" checked><label for=\"sk-estimator-id-6\" class=\"sk-toggleable__label sk-toggleable__label-arrow\">GradientBoostingRegressor</label><div class=\"sk-toggleable__content\"><pre>GradientBoostingRegressor()</pre></div></div></div></div></div>"
            ]
          },
          "metadata": {},
          "execution_count": 72
        }
      ]
    },
    {
      "cell_type": "markdown",
      "source": [
        "Точность модели составила 21%"
      ],
      "metadata": {
        "id": "qv5RU-MFrBti"
      }
    },
    {
      "cell_type": "code",
      "source": [
        "model.score(X_train,y_train)"
      ],
      "metadata": {
        "colab": {
          "base_uri": "https://localhost:8080/"
        },
        "id": "ws_nLlrrpjEA",
        "outputId": "d7a417f9-9437-422c-e9b4-935285ee6f5a"
      },
      "execution_count": null,
      "outputs": [
        {
          "output_type": "execute_result",
          "data": {
            "text/plain": [
              "0.9992249062016113"
            ]
          },
          "metadata": {},
          "execution_count": 73
        }
      ]
    },
    {
      "cell_type": "markdown",
      "source": [
        "# Вывод"
      ],
      "metadata": {
        "id": "_Wfy-2K-ZpRK"
      }
    },
    {
      "cell_type": "markdown",
      "source": [
        "В нашем кейсе мы рассмотрели конкретную базу данных и преобразовали ее структуру(создали свою логическую структуру и логический файл) для более удобного анализа и обработки.  Таким образом мы построили модель линейной регрессии и обучили ее предсказывать процентное изменение катировок за неделю платформы Ethereum на основе данных о капитализации компании, стоимости активов, а также изменении катировок за 1час и 1 день, а также предсказали изменение катировок за 1 час"
      ],
      "metadata": {
        "id": "RWNtXim_ZVuA"
      }
    }
  ]
}