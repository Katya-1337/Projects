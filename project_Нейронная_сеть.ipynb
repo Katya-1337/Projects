{
  "nbformat": 4,
  "nbformat_minor": 0,
  "metadata": {
    "colab": {
      "provenance": [],
      "mount_file_id": "1Xz67ZsHdwLxsWXGoquHnrV3J7AbfiSd7",
      "authorship_tag": "ABX9TyM65rqpBWVXi8OgdXnHisi+",
      "include_colab_link": true
    },
    "kernelspec": {
      "name": "python3",
      "display_name": "Python 3"
    },
    "language_info": {
      "name": "python"
    }
  },
  "cells": [
    {
      "cell_type": "markdown",
      "metadata": {
        "id": "view-in-github",
        "colab_type": "text"
      },
      "source": [
        "<a href=\"https://colab.research.google.com/github/Katya-1337/Projects/blob/main/project_%D0%9D%D0%B5%D0%B9%D1%80%D0%BE%D0%BD%D0%BD%D0%B0%D1%8F_%D1%81%D0%B5%D1%82%D1%8C.ipynb\" target=\"_parent\"><img src=\"https://colab.research.google.com/assets/colab-badge.svg\" alt=\"Open In Colab\"/></a>"
      ]
    },
    {
      "cell_type": "markdown",
      "source": [
        "#Импорт библиотек и всего нужного из Keras"
      ],
      "metadata": {
        "id": "FIoyQ3p6WsAw"
      }
    },
    {
      "cell_type": "code",
      "execution_count": null,
      "metadata": {
        "id": "HJtHMSyWTWif"
      },
      "outputs": [],
      "source": [
        "import numpy as np\n",
        "import pandas as pd"
      ]
    },
    {
      "cell_type": "code",
      "source": [
        "#Импорт tf.keras как часть установки TensorFlow:\n",
        "import tensorflow as tf\n",
        "from tensorflow import keras"
      ],
      "metadata": {
        "id": "YYM2k3J4W__M"
      },
      "execution_count": null,
      "outputs": []
    },
    {
      "cell_type": "code",
      "source": [
        "#импорт всего нужного из keras\n",
        "from typing import Sequence\n",
        "from keras.models import Sequential\n",
        "from keras.layers import Dense\n",
        "from keras.utils import np_utils"
      ],
      "metadata": {
        "id": "E1ZG3UT9XBzB"
      },
      "execution_count": null,
      "outputs": []
    },
    {
      "cell_type": "code",
      "source": [
        "file_data = pd.read_csv(\"/content/drive/MyDrive/water_potability.csv\")\n",
        "file_data"
      ],
      "metadata": {
        "colab": {
          "base_uri": "https://localhost:8080/",
          "height": 424
        },
        "id": "ZMJHaqiFZt43",
        "outputId": "148833cc-9970-48aa-fba0-040beeb68791"
      },
      "execution_count": null,
      "outputs": [
        {
          "output_type": "execute_result",
          "data": {
            "text/plain": [
              "            ph    Hardness        Solids  Chloramines     Sulfate  \\\n",
              "0          NaN  204.890455  20791.318981     7.300212  368.516441   \n",
              "1     3.716080  129.422921  18630.057858     6.635246         NaN   \n",
              "2     8.099124  224.236259  19909.541732     9.275884         NaN   \n",
              "3     8.316766  214.373394  22018.417441     8.059332  356.886136   \n",
              "4     9.092223  181.101509  17978.986339     6.546600  310.135738   \n",
              "...        ...         ...           ...          ...         ...   \n",
              "3271  4.668102  193.681735  47580.991603     7.166639  359.948574   \n",
              "3272  7.808856  193.553212  17329.802160     8.061362         NaN   \n",
              "3273  9.419510  175.762646  33155.578218     7.350233         NaN   \n",
              "3274  5.126763  230.603758  11983.869376     6.303357         NaN   \n",
              "3275  7.874671  195.102299  17404.177061     7.509306         NaN   \n",
              "\n",
              "      Conductivity  Organic_carbon  Trihalomethanes  Turbidity  Potability  \n",
              "0       564.308654       10.379783        86.990970   2.963135           0  \n",
              "1       592.885359       15.180013        56.329076   4.500656           0  \n",
              "2       418.606213       16.868637        66.420093   3.055934           0  \n",
              "3       363.266516       18.436524       100.341674   4.628771           0  \n",
              "4       398.410813       11.558279        31.997993   4.075075           0  \n",
              "...            ...             ...              ...        ...         ...  \n",
              "3271    526.424171       13.894419        66.687695   4.435821           1  \n",
              "3272    392.449580       19.903225              NaN   2.798243           1  \n",
              "3273    432.044783       11.039070        69.845400   3.298875           1  \n",
              "3274    402.883113       11.168946        77.488213   4.708658           1  \n",
              "3275    327.459760       16.140368        78.698446   2.309149           1  \n",
              "\n",
              "[3276 rows x 10 columns]"
            ],
            "text/html": [
              "\n",
              "  <div id=\"df-c3191bb5-ed74-4de4-82b8-4dd6e2301fe5\">\n",
              "    <div class=\"colab-df-container\">\n",
              "      <div>\n",
              "<style scoped>\n",
              "    .dataframe tbody tr th:only-of-type {\n",
              "        vertical-align: middle;\n",
              "    }\n",
              "\n",
              "    .dataframe tbody tr th {\n",
              "        vertical-align: top;\n",
              "    }\n",
              "\n",
              "    .dataframe thead th {\n",
              "        text-align: right;\n",
              "    }\n",
              "</style>\n",
              "<table border=\"1\" class=\"dataframe\">\n",
              "  <thead>\n",
              "    <tr style=\"text-align: right;\">\n",
              "      <th></th>\n",
              "      <th>ph</th>\n",
              "      <th>Hardness</th>\n",
              "      <th>Solids</th>\n",
              "      <th>Chloramines</th>\n",
              "      <th>Sulfate</th>\n",
              "      <th>Conductivity</th>\n",
              "      <th>Organic_carbon</th>\n",
              "      <th>Trihalomethanes</th>\n",
              "      <th>Turbidity</th>\n",
              "      <th>Potability</th>\n",
              "    </tr>\n",
              "  </thead>\n",
              "  <tbody>\n",
              "    <tr>\n",
              "      <th>0</th>\n",
              "      <td>NaN</td>\n",
              "      <td>204.890455</td>\n",
              "      <td>20791.318981</td>\n",
              "      <td>7.300212</td>\n",
              "      <td>368.516441</td>\n",
              "      <td>564.308654</td>\n",
              "      <td>10.379783</td>\n",
              "      <td>86.990970</td>\n",
              "      <td>2.963135</td>\n",
              "      <td>0</td>\n",
              "    </tr>\n",
              "    <tr>\n",
              "      <th>1</th>\n",
              "      <td>3.716080</td>\n",
              "      <td>129.422921</td>\n",
              "      <td>18630.057858</td>\n",
              "      <td>6.635246</td>\n",
              "      <td>NaN</td>\n",
              "      <td>592.885359</td>\n",
              "      <td>15.180013</td>\n",
              "      <td>56.329076</td>\n",
              "      <td>4.500656</td>\n",
              "      <td>0</td>\n",
              "    </tr>\n",
              "    <tr>\n",
              "      <th>2</th>\n",
              "      <td>8.099124</td>\n",
              "      <td>224.236259</td>\n",
              "      <td>19909.541732</td>\n",
              "      <td>9.275884</td>\n",
              "      <td>NaN</td>\n",
              "      <td>418.606213</td>\n",
              "      <td>16.868637</td>\n",
              "      <td>66.420093</td>\n",
              "      <td>3.055934</td>\n",
              "      <td>0</td>\n",
              "    </tr>\n",
              "    <tr>\n",
              "      <th>3</th>\n",
              "      <td>8.316766</td>\n",
              "      <td>214.373394</td>\n",
              "      <td>22018.417441</td>\n",
              "      <td>8.059332</td>\n",
              "      <td>356.886136</td>\n",
              "      <td>363.266516</td>\n",
              "      <td>18.436524</td>\n",
              "      <td>100.341674</td>\n",
              "      <td>4.628771</td>\n",
              "      <td>0</td>\n",
              "    </tr>\n",
              "    <tr>\n",
              "      <th>4</th>\n",
              "      <td>9.092223</td>\n",
              "      <td>181.101509</td>\n",
              "      <td>17978.986339</td>\n",
              "      <td>6.546600</td>\n",
              "      <td>310.135738</td>\n",
              "      <td>398.410813</td>\n",
              "      <td>11.558279</td>\n",
              "      <td>31.997993</td>\n",
              "      <td>4.075075</td>\n",
              "      <td>0</td>\n",
              "    </tr>\n",
              "    <tr>\n",
              "      <th>...</th>\n",
              "      <td>...</td>\n",
              "      <td>...</td>\n",
              "      <td>...</td>\n",
              "      <td>...</td>\n",
              "      <td>...</td>\n",
              "      <td>...</td>\n",
              "      <td>...</td>\n",
              "      <td>...</td>\n",
              "      <td>...</td>\n",
              "      <td>...</td>\n",
              "    </tr>\n",
              "    <tr>\n",
              "      <th>3271</th>\n",
              "      <td>4.668102</td>\n",
              "      <td>193.681735</td>\n",
              "      <td>47580.991603</td>\n",
              "      <td>7.166639</td>\n",
              "      <td>359.948574</td>\n",
              "      <td>526.424171</td>\n",
              "      <td>13.894419</td>\n",
              "      <td>66.687695</td>\n",
              "      <td>4.435821</td>\n",
              "      <td>1</td>\n",
              "    </tr>\n",
              "    <tr>\n",
              "      <th>3272</th>\n",
              "      <td>7.808856</td>\n",
              "      <td>193.553212</td>\n",
              "      <td>17329.802160</td>\n",
              "      <td>8.061362</td>\n",
              "      <td>NaN</td>\n",
              "      <td>392.449580</td>\n",
              "      <td>19.903225</td>\n",
              "      <td>NaN</td>\n",
              "      <td>2.798243</td>\n",
              "      <td>1</td>\n",
              "    </tr>\n",
              "    <tr>\n",
              "      <th>3273</th>\n",
              "      <td>9.419510</td>\n",
              "      <td>175.762646</td>\n",
              "      <td>33155.578218</td>\n",
              "      <td>7.350233</td>\n",
              "      <td>NaN</td>\n",
              "      <td>432.044783</td>\n",
              "      <td>11.039070</td>\n",
              "      <td>69.845400</td>\n",
              "      <td>3.298875</td>\n",
              "      <td>1</td>\n",
              "    </tr>\n",
              "    <tr>\n",
              "      <th>3274</th>\n",
              "      <td>5.126763</td>\n",
              "      <td>230.603758</td>\n",
              "      <td>11983.869376</td>\n",
              "      <td>6.303357</td>\n",
              "      <td>NaN</td>\n",
              "      <td>402.883113</td>\n",
              "      <td>11.168946</td>\n",
              "      <td>77.488213</td>\n",
              "      <td>4.708658</td>\n",
              "      <td>1</td>\n",
              "    </tr>\n",
              "    <tr>\n",
              "      <th>3275</th>\n",
              "      <td>7.874671</td>\n",
              "      <td>195.102299</td>\n",
              "      <td>17404.177061</td>\n",
              "      <td>7.509306</td>\n",
              "      <td>NaN</td>\n",
              "      <td>327.459760</td>\n",
              "      <td>16.140368</td>\n",
              "      <td>78.698446</td>\n",
              "      <td>2.309149</td>\n",
              "      <td>1</td>\n",
              "    </tr>\n",
              "  </tbody>\n",
              "</table>\n",
              "<p>3276 rows × 10 columns</p>\n",
              "</div>\n",
              "      <button class=\"colab-df-convert\" onclick=\"convertToInteractive('df-c3191bb5-ed74-4de4-82b8-4dd6e2301fe5')\"\n",
              "              title=\"Convert this dataframe to an interactive table.\"\n",
              "              style=\"display:none;\">\n",
              "        \n",
              "  <svg xmlns=\"http://www.w3.org/2000/svg\" height=\"24px\"viewBox=\"0 0 24 24\"\n",
              "       width=\"24px\">\n",
              "    <path d=\"M0 0h24v24H0V0z\" fill=\"none\"/>\n",
              "    <path d=\"M18.56 5.44l.94 2.06.94-2.06 2.06-.94-2.06-.94-.94-2.06-.94 2.06-2.06.94zm-11 1L8.5 8.5l.94-2.06 2.06-.94-2.06-.94L8.5 2.5l-.94 2.06-2.06.94zm10 10l.94 2.06.94-2.06 2.06-.94-2.06-.94-.94-2.06-.94 2.06-2.06.94z\"/><path d=\"M17.41 7.96l-1.37-1.37c-.4-.4-.92-.59-1.43-.59-.52 0-1.04.2-1.43.59L10.3 9.45l-7.72 7.72c-.78.78-.78 2.05 0 2.83L4 21.41c.39.39.9.59 1.41.59.51 0 1.02-.2 1.41-.59l7.78-7.78 2.81-2.81c.8-.78.8-2.07 0-2.86zM5.41 20L4 18.59l7.72-7.72 1.47 1.35L5.41 20z\"/>\n",
              "  </svg>\n",
              "      </button>\n",
              "      \n",
              "  <style>\n",
              "    .colab-df-container {\n",
              "      display:flex;\n",
              "      flex-wrap:wrap;\n",
              "      gap: 12px;\n",
              "    }\n",
              "\n",
              "    .colab-df-convert {\n",
              "      background-color: #E8F0FE;\n",
              "      border: none;\n",
              "      border-radius: 50%;\n",
              "      cursor: pointer;\n",
              "      display: none;\n",
              "      fill: #1967D2;\n",
              "      height: 32px;\n",
              "      padding: 0 0 0 0;\n",
              "      width: 32px;\n",
              "    }\n",
              "\n",
              "    .colab-df-convert:hover {\n",
              "      background-color: #E2EBFA;\n",
              "      box-shadow: 0px 1px 2px rgba(60, 64, 67, 0.3), 0px 1px 3px 1px rgba(60, 64, 67, 0.15);\n",
              "      fill: #174EA6;\n",
              "    }\n",
              "\n",
              "    [theme=dark] .colab-df-convert {\n",
              "      background-color: #3B4455;\n",
              "      fill: #D2E3FC;\n",
              "    }\n",
              "\n",
              "    [theme=dark] .colab-df-convert:hover {\n",
              "      background-color: #434B5C;\n",
              "      box-shadow: 0px 1px 3px 1px rgba(0, 0, 0, 0.15);\n",
              "      filter: drop-shadow(0px 1px 2px rgba(0, 0, 0, 0.3));\n",
              "      fill: #FFFFFF;\n",
              "    }\n",
              "  </style>\n",
              "\n",
              "      <script>\n",
              "        const buttonEl =\n",
              "          document.querySelector('#df-c3191bb5-ed74-4de4-82b8-4dd6e2301fe5 button.colab-df-convert');\n",
              "        buttonEl.style.display =\n",
              "          google.colab.kernel.accessAllowed ? 'block' : 'none';\n",
              "\n",
              "        async function convertToInteractive(key) {\n",
              "          const element = document.querySelector('#df-c3191bb5-ed74-4de4-82b8-4dd6e2301fe5');\n",
              "          const dataTable =\n",
              "            await google.colab.kernel.invokeFunction('convertToInteractive',\n",
              "                                                     [key], {});\n",
              "          if (!dataTable) return;\n",
              "\n",
              "          const docLinkHtml = 'Like what you see? Visit the ' +\n",
              "            '<a target=\"_blank\" href=https://colab.research.google.com/notebooks/data_table.ipynb>data table notebook</a>'\n",
              "            + ' to learn more about interactive tables.';\n",
              "          element.innerHTML = '';\n",
              "          dataTable['output_type'] = 'display_data';\n",
              "          await google.colab.output.renderOutput(dataTable, element);\n",
              "          const docLink = document.createElement('div');\n",
              "          docLink.innerHTML = docLinkHtml;\n",
              "          element.appendChild(docLink);\n",
              "        }\n",
              "      </script>\n",
              "    </div>\n",
              "  </div>\n",
              "  "
            ]
          },
          "metadata": {},
          "execution_count": 26
        }
      ]
    },
    {
      "cell_type": "code",
      "source": [
        "file_data.info()"
      ],
      "metadata": {
        "colab": {
          "base_uri": "https://localhost:8080/"
        },
        "id": "bn8PgAJQbv5Z",
        "outputId": "1567d8ac-a6df-4eed-9f11-ea6242f5f208"
      },
      "execution_count": null,
      "outputs": [
        {
          "output_type": "stream",
          "name": "stdout",
          "text": [
            "<class 'pandas.core.frame.DataFrame'>\n",
            "RangeIndex: 3276 entries, 0 to 3275\n",
            "Data columns (total 10 columns):\n",
            " #   Column           Non-Null Count  Dtype  \n",
            "---  ------           --------------  -----  \n",
            " 0   ph               2785 non-null   float64\n",
            " 1   Hardness         3276 non-null   float64\n",
            " 2   Solids           3276 non-null   float64\n",
            " 3   Chloramines      3276 non-null   float64\n",
            " 4   Sulfate          2495 non-null   float64\n",
            " 5   Conductivity     3276 non-null   float64\n",
            " 6   Organic_carbon   3276 non-null   float64\n",
            " 7   Trihalomethanes  3114 non-null   float64\n",
            " 8   Turbidity        3276 non-null   float64\n",
            " 9   Potability       3276 non-null   int64  \n",
            "dtypes: float64(9), int64(1)\n",
            "memory usage: 256.1 KB\n"
          ]
        }
      ]
    },
    {
      "cell_type": "code",
      "source": [
        "cols = list(file_data.columns)\n",
        "cols.remove(\"Potability\")\n",
        "print(\"Базылева Е.А. Параметры, которые будут использоваться в исследовании: \")\n",
        "for i, col in enumerate(cols):\n",
        "  print(f'{i+1}. {col}')"
      ],
      "metadata": {
        "colab": {
          "base_uri": "https://localhost:8080/"
        },
        "id": "BVdLBdkYcdE3",
        "outputId": "d64342a7-1979-413c-f40e-424b0fe13af0"
      },
      "execution_count": null,
      "outputs": [
        {
          "output_type": "stream",
          "name": "stdout",
          "text": [
            "Базылева Е.А. Параметры, которые будут использоваться в исследовании: \n",
            "1. ph\n",
            "2. Hardness\n",
            "3. Solids\n",
            "4. Chloramines\n",
            "5. Sulfate\n",
            "6. Conductivity\n",
            "7. Organic_carbon\n",
            "8. Trihalomethanes\n",
            "9. Turbidity\n"
          ]
        }
      ]
    },
    {
      "cell_type": "code",
      "source": [
        "print('ОРИГИНАЛЬНЫЙ ФАЙЛ Original DataFrame\\n', file_data)\n",
        "print('___________________________________________________')\n",
        "file_data = file_data.fillna(0)\n",
        "print('\\n МОДИФИЦИРОВАННЫЙ ФАЙЛ БЕЗ NaN - Modified DataFrame\\n', file_data)"
      ],
      "metadata": {
        "colab": {
          "base_uri": "https://localhost:8080/"
        },
        "id": "6WsMBZeyd9dB",
        "outputId": "9b999f95-aac0-4d97-ab8b-3326d016667a"
      },
      "execution_count": null,
      "outputs": [
        {
          "output_type": "stream",
          "name": "stdout",
          "text": [
            "ОРИГИНАЛЬНЫЙ ФАЙЛ Original DataFrame\n",
            "             ph    Hardness        Solids  Chloramines     Sulfate  \\\n",
            "0          NaN  204.890455  20791.318981     7.300212  368.516441   \n",
            "1     3.716080  129.422921  18630.057858     6.635246         NaN   \n",
            "2     8.099124  224.236259  19909.541732     9.275884         NaN   \n",
            "3     8.316766  214.373394  22018.417441     8.059332  356.886136   \n",
            "4     9.092223  181.101509  17978.986339     6.546600  310.135738   \n",
            "...        ...         ...           ...          ...         ...   \n",
            "3271  4.668102  193.681735  47580.991603     7.166639  359.948574   \n",
            "3272  7.808856  193.553212  17329.802160     8.061362         NaN   \n",
            "3273  9.419510  175.762646  33155.578218     7.350233         NaN   \n",
            "3274  5.126763  230.603758  11983.869376     6.303357         NaN   \n",
            "3275  7.874671  195.102299  17404.177061     7.509306         NaN   \n",
            "\n",
            "      Conductivity  Organic_carbon  Trihalomethanes  Turbidity  Potability  \n",
            "0       564.308654       10.379783        86.990970   2.963135           0  \n",
            "1       592.885359       15.180013        56.329076   4.500656           0  \n",
            "2       418.606213       16.868637        66.420093   3.055934           0  \n",
            "3       363.266516       18.436524       100.341674   4.628771           0  \n",
            "4       398.410813       11.558279        31.997993   4.075075           0  \n",
            "...            ...             ...              ...        ...         ...  \n",
            "3271    526.424171       13.894419        66.687695   4.435821           1  \n",
            "3272    392.449580       19.903225              NaN   2.798243           1  \n",
            "3273    432.044783       11.039070        69.845400   3.298875           1  \n",
            "3274    402.883113       11.168946        77.488213   4.708658           1  \n",
            "3275    327.459760       16.140368        78.698446   2.309149           1  \n",
            "\n",
            "[3276 rows x 10 columns]\n",
            "___________________________________________________\n",
            "\n",
            " МОДИФИЦИРОВАННЫЙ ФАЙЛ БЕЗ NaN - Modified DataFrame\n",
            "             ph    Hardness        Solids  Chloramines     Sulfate  \\\n",
            "0     0.000000  204.890455  20791.318981     7.300212  368.516441   \n",
            "1     3.716080  129.422921  18630.057858     6.635246    0.000000   \n",
            "2     8.099124  224.236259  19909.541732     9.275884    0.000000   \n",
            "3     8.316766  214.373394  22018.417441     8.059332  356.886136   \n",
            "4     9.092223  181.101509  17978.986339     6.546600  310.135738   \n",
            "...        ...         ...           ...          ...         ...   \n",
            "3271  4.668102  193.681735  47580.991603     7.166639  359.948574   \n",
            "3272  7.808856  193.553212  17329.802160     8.061362    0.000000   \n",
            "3273  9.419510  175.762646  33155.578218     7.350233    0.000000   \n",
            "3274  5.126763  230.603758  11983.869376     6.303357    0.000000   \n",
            "3275  7.874671  195.102299  17404.177061     7.509306    0.000000   \n",
            "\n",
            "      Conductivity  Organic_carbon  Trihalomethanes  Turbidity  Potability  \n",
            "0       564.308654       10.379783        86.990970   2.963135           0  \n",
            "1       592.885359       15.180013        56.329076   4.500656           0  \n",
            "2       418.606213       16.868637        66.420093   3.055934           0  \n",
            "3       363.266516       18.436524       100.341674   4.628771           0  \n",
            "4       398.410813       11.558279        31.997993   4.075075           0  \n",
            "...            ...             ...              ...        ...         ...  \n",
            "3271    526.424171       13.894419        66.687695   4.435821           1  \n",
            "3272    392.449580       19.903225         0.000000   2.798243           1  \n",
            "3273    432.044783       11.039070        69.845400   3.298875           1  \n",
            "3274    402.883113       11.168946        77.488213   4.708658           1  \n",
            "3275    327.459760       16.140368        78.698446   2.309149           1  \n",
            "\n",
            "[3276 rows x 10 columns]\n"
          ]
        }
      ]
    },
    {
      "cell_type": "markdown",
      "source": [
        "# **ПРЕДИКТОР И ОТКЛИК**"
      ],
      "metadata": {
        "id": "zvCScVXcfO-W"
      }
    },
    {
      "cell_type": "code",
      "source": [
        "y = file_data['Potability']                #это Отклик, ЦЕЛЬ. Вектор y\n",
        "x = file_data.drop('Potability', axis = 1) # это Предиктор - это вся таблица X, кроме Y\n",
        "                                           #\"ось\" (axis) и \"ось\" (axes)\n",
        "print(y)\n",
        "print(x)"
      ],
      "metadata": {
        "colab": {
          "base_uri": "https://localhost:8080/"
        },
        "id": "k3jlyTLefW8C",
        "outputId": "84ff8698-9c68-4635-c9d5-9582e5055671"
      },
      "execution_count": null,
      "outputs": [
        {
          "output_type": "stream",
          "name": "stdout",
          "text": [
            "0       0\n",
            "1       0\n",
            "2       0\n",
            "3       0\n",
            "4       0\n",
            "       ..\n",
            "3271    1\n",
            "3272    1\n",
            "3273    1\n",
            "3274    1\n",
            "3275    1\n",
            "Name: Potability, Length: 3276, dtype: int64\n",
            "            ph    Hardness        Solids  Chloramines     Sulfate  \\\n",
            "0     0.000000  204.890455  20791.318981     7.300212  368.516441   \n",
            "1     3.716080  129.422921  18630.057858     6.635246    0.000000   \n",
            "2     8.099124  224.236259  19909.541732     9.275884    0.000000   \n",
            "3     8.316766  214.373394  22018.417441     8.059332  356.886136   \n",
            "4     9.092223  181.101509  17978.986339     6.546600  310.135738   \n",
            "...        ...         ...           ...          ...         ...   \n",
            "3271  4.668102  193.681735  47580.991603     7.166639  359.948574   \n",
            "3272  7.808856  193.553212  17329.802160     8.061362    0.000000   \n",
            "3273  9.419510  175.762646  33155.578218     7.350233    0.000000   \n",
            "3274  5.126763  230.603758  11983.869376     6.303357    0.000000   \n",
            "3275  7.874671  195.102299  17404.177061     7.509306    0.000000   \n",
            "\n",
            "      Conductivity  Organic_carbon  Trihalomethanes  Turbidity  \n",
            "0       564.308654       10.379783        86.990970   2.963135  \n",
            "1       592.885359       15.180013        56.329076   4.500656  \n",
            "2       418.606213       16.868637        66.420093   3.055934  \n",
            "3       363.266516       18.436524       100.341674   4.628771  \n",
            "4       398.410813       11.558279        31.997993   4.075075  \n",
            "...            ...             ...              ...        ...  \n",
            "3271    526.424171       13.894419        66.687695   4.435821  \n",
            "3272    392.449580       19.903225         0.000000   2.798243  \n",
            "3273    432.044783       11.039070        69.845400   3.298875  \n",
            "3274    402.883113       11.168946        77.488213   4.708658  \n",
            "3275    327.459760       16.140368        78.698446   2.309149  \n",
            "\n",
            "[3276 rows x 9 columns]\n"
          ]
        }
      ]
    },
    {
      "cell_type": "code",
      "source": [
        "import matplotlib.pyplot as plt#импорт библиотек\n",
        "\n",
        "plt.title(\"Питьевая пригодность воды Базылева Е.А., 25.04.2023\")\n",
        "df = list(file_data[\"Potability\"].values)\n",
        "pot = [0,0]\n",
        "keys = [\"Не питьевая вода\", \"Питьевая вода\"]\n",
        "for i in df:\n",
        "  pot[i] += 1\n",
        "plt.bar(range(2), pot, tick_label = keys)\n",
        "plt.show()"
      ],
      "metadata": {
        "colab": {
          "base_uri": "https://localhost:8080/",
          "height": 452
        },
        "id": "qfQ7lsqigeS2",
        "outputId": "21ce4a96-a03a-4bcf-f64d-c5b66aa01f8a"
      },
      "execution_count": null,
      "outputs": [
        {
          "output_type": "display_data",
          "data": {
            "text/plain": [
              "<Figure size 640x480 with 1 Axes>"
            ],
            "image/png": "[encoded data removed]"
          },
          "metadata": {}
        }
      ]
    },
    {
      "cell_type": "markdown",
      "source": [
        "#Тестовая и обучающая выборки\n"
      ],
      "metadata": {
        "id": "XMk_EEFBWyHn"
      }
    },
    {
      "cell_type": "code",
      "source": [
        "from sklearn.model_selection import train_test_split\n",
        "\n",
        "x_train, x_test, y_train, y_test = train_test_split(x, y, random_state = 12345, test_size = 0.28)\n",
        "\n",
        "print(x_train)"
      ],
      "metadata": {
        "colab": {
          "base_uri": "https://localhost:8080/"
        },
        "id": "wvvwIct6W5J8",
        "outputId": "091decc1-7856-412f-ee4e-0e24b540c600"
      },
      "execution_count": null,
      "outputs": [
        {
          "output_type": "stream",
          "name": "stdout",
          "text": [
            "            ph    Hardness        Solids  Chloramines     Sulfate  \\\n",
            "586   6.499068  173.768874  23734.846211     9.009056  330.164682   \n",
            "984   0.000000  238.409598  26493.076207     8.669944  311.553679   \n",
            "2774  7.288113  216.612475  18979.981692     7.668510  358.978620   \n",
            "1318  6.724639  223.175415  41552.019664     7.744700  271.157120   \n",
            "2474  4.964070  168.283365  17694.574833     9.725321  333.639511   \n",
            "...        ...         ...           ...          ...         ...   \n",
            "2817  8.247958  195.539536  28327.167338     5.378286  281.229853   \n",
            "546   3.410360  207.397473  49074.730407     5.667433  301.975011   \n",
            "382   5.772718  213.363545  26124.931415     8.630719  273.279448   \n",
            "2177  8.026773  169.333843  19168.526773     8.081496  405.527337   \n",
            "482   7.705711  178.922858  18476.619166     8.226228  334.889911   \n",
            "\n",
            "      Conductivity  Organic_carbon  Trihalomethanes  Turbidity  \n",
            "586     593.561756       13.986294        63.693876   4.355880  \n",
            "984     369.283864       11.759930        91.239299   3.241267  \n",
            "2774    384.694955       14.163607        53.313046   3.626990  \n",
            "1318    463.885216       13.165035        61.058796   2.921415  \n",
            "2474    353.069939       17.293732        67.252514   4.761701  \n",
            "...            ...             ...              ...        ...  \n",
            "2817    588.699193       18.076938        70.793036   4.723231  \n",
            "546     351.520393       15.987370        86.639186   3.721766  \n",
            "382     465.559286        8.006208        59.964334   6.494249  \n",
            "2177    350.577370       15.177534        68.003932   3.735983  \n",
            "482     518.043369       10.638798        63.157489   3.861956  \n",
            "\n",
            "[2358 rows x 9 columns]\n"
          ]
        }
      ]
    },
    {
      "cell_type": "markdown",
      "source": [
        "#Преобразование Pandas в Numpy\n"
      ],
      "metadata": {
        "id": "OtTEKEAUZBj0"
      }
    },
    {
      "cell_type": "code",
      "source": [
        "x_train = x_train.values\n",
        "x_test = x_test.values\n",
        "y_train =  y_train.values\n",
        "y_test = y_test.values\n",
        "x_test"
      ],
      "metadata": {
        "colab": {
          "base_uri": "https://localhost:8080/"
        },
        "id": "bB0Cw0G9ZGRS",
        "outputId": "652ecd60-7383-4445-9a93-5835116b0765"
      },
      "execution_count": null,
      "outputs": [
        {
          "output_type": "execute_result",
          "data": {
            "text/plain": [
              "array([[8.64953495e+00, 1.75426670e+02, 9.89802221e+03, ...,\n",
              "        1.00692542e+01, 0.00000000e+00, 5.22980919e+00],\n",
              "       [6.82393014e+00, 1.46130599e+02, 1.34678798e+04, ...,\n",
              "        1.43076867e+01, 8.15295337e+01, 4.01614408e+00],\n",
              "       [8.43329082e+00, 1.61195283e+02, 1.59042434e+04, ...,\n",
              "        1.53037548e+01, 7.14785008e+01, 3.63154293e+00],\n",
              "       ...,\n",
              "       [0.00000000e+00, 1.70291426e+02, 1.45504170e+04, ...,\n",
              "        1.37975777e+01, 5.14159096e+01, 3.79403311e+00],\n",
              "       [6.01726092e+00, 2.06014400e+02, 1.51572688e+04, ...,\n",
              "        1.42217570e+01, 5.33199772e+01, 4.42771228e+00],\n",
              "       [6.66577420e+00, 1.55709679e+02, 3.06100479e+04, ...,\n",
              "        1.51015327e+01, 7.97804669e+01, 4.90355322e+00]])"
            ]
          },
          "metadata": {},
          "execution_count": 33
        }
      ]
    },
    {
      "cell_type": "code",
      "source": [
        "y_train_bin = np_utils.to_categorical(y_train)\n",
        "y_test_bin = np_utils.to_categorical(y_test)\n",
        "\n",
        "y_train_bin[0:5]"
      ],
      "metadata": {
        "colab": {
          "base_uri": "https://localhost:8080/"
        },
        "id": "tREWEGOHaNa1",
        "outputId": "37cc9110-58f7-4dd8-ce0a-7c4fd510f6bc"
      },
      "execution_count": null,
      "outputs": [
        {
          "output_type": "execute_result",
          "data": {
            "text/plain": [
              "array([[1., 0.],\n",
              "       [1., 0.],\n",
              "       [0., 1.],\n",
              "       [1., 0.],\n",
              "       [1., 0.]], dtype=float32)"
            ]
          },
          "metadata": {},
          "execution_count": 34
        }
      ]
    },
    {
      "cell_type": "markdown",
      "source": [
        "#Модель"
      ],
      "metadata": {
        "id": "EWLHcC58jYkK"
      }
    },
    {
      "cell_type": "code",
      "source": [
        "model = Sequential()\n",
        "\n",
        "model.add(Dense(10, input_dim = 9, activation = 'relu')) #10 нейронов во входном слое, input = 10 -1\n",
        "model.add(Dense(10, activation = 'relu')) #скрытый слой из 10 нейронов\n",
        "model.add(Dense(2, activation = 'softmax')) #выходной слой из 2 нейронов"
      ],
      "metadata": {
        "id": "7Hj8Kmt5jb3n"
      },
      "execution_count": null,
      "outputs": []
    },
    {
      "cell_type": "markdown",
      "source": [
        "#Компиляция и обучение модели"
      ],
      "metadata": {
        "id": "ZUxkml2YkuVe"
      }
    },
    {
      "cell_type": "code",
      "source": [
        "model.compile(loss = 'binary_crossentropy', optimizer = \"Adam\", metrics = [\"accuracy\"])"
      ],
      "metadata": {
        "id": "j7PJiUU9kxQw"
      },
      "execution_count": null,
      "outputs": []
    },
    {
      "cell_type": "code",
      "source": [
        "print(\"Базылева Е.А 02.05.2023      Обучение модели на train данных:\")\n",
        "history = model.fit(x_train, y_train_bin, epochs = 10, batch_size= 5)"
      ],
      "metadata": {
        "colab": {
          "base_uri": "https://localhost:8080/"
        },
        "id": "xa3VeuyalpPF",
        "outputId": "bd499d29-3d39-44eb-bba1-366806ad20ad"
      },
      "execution_count": null,
      "outputs": [
        {
          "output_type": "stream",
          "name": "stdout",
          "text": [
            "Базылева Е.А 02.05.2023      Обучение модели на train данных:\n",
            "Epoch 1/10\n",
            "472/472 [==============================] - 3s 4ms/step - loss: 32.9352 - accuracy: 0.5466\n",
            "Epoch 2/10\n",
            "472/472 [==============================] - 2s 3ms/step - loss: 9.1445 - accuracy: 0.5059\n",
            "Epoch 3/10\n",
            "472/472 [==============================] - 1s 2ms/step - loss: 8.6697 - accuracy: 0.5237\n",
            "Epoch 4/10\n",
            "472/472 [==============================] - 1s 2ms/step - loss: 8.1427 - accuracy: 0.5263\n",
            "Epoch 5/10\n",
            "472/472 [==============================] - 1s 2ms/step - loss: 8.8649 - accuracy: 0.5221\n",
            "Epoch 6/10\n",
            "472/472 [==============================] - 1s 2ms/step - loss: 8.1238 - accuracy: 0.5276\n",
            "Epoch 7/10\n",
            "472/472 [==============================] - 1s 2ms/step - loss: 7.5922 - accuracy: 0.5250\n",
            "Epoch 8/10\n",
            "472/472 [==============================] - 1s 2ms/step - loss: 10.6839 - accuracy: 0.5182\n",
            "Epoch 9/10\n",
            "472/472 [==============================] - 1s 2ms/step - loss: 7.4426 - accuracy: 0.5233\n",
            "Epoch 10/10\n",
            "472/472 [==============================] - 1s 2ms/step - loss: 6.5135 - accuracy: 0.5267\n"
          ]
        }
      ]
    },
    {
      "cell_type": "code",
      "source": [
        "print(\"Базылева Е.А 02.05.2023\")\n",
        "print('Оценка модели на тестовых данных:')\n",
        "scores = model.evaluate(x_test, y_test_bin)\n",
        "print(\"\\nAccuracy (Точность модели): %.2f%%\" % (scores[1]*100))\n",
        "\n",
        "print(\"Функция потерь тестовой выборки и тгочность модели по тестовой выборке:\")\n",
        "print('test loss, test accuracy:', scores)"
      ],
      "metadata": {
        "colab": {
          "base_uri": "https://localhost:8080/"
        },
        "id": "K7tmHSqinf__",
        "outputId": "e2a20908-e44d-44cc-e1d3-b78e4119cb48"
      },
      "execution_count": null,
      "outputs": [
        {
          "output_type": "stream",
          "name": "stdout",
          "text": [
            "Базылева Е.А 02.05.2023\n",
            "Оценка модели на тестовых данных:\n",
            "29/29 [==============================] - 0s 1ms/step - loss: 9.2004 - accuracy: 0.3780\n",
            "\n",
            "Accuracy (Точность модели): 37.80%\n",
            "Функция потерь тестовой выборки и тгочность модели по тестовой выборке:\n",
            "test loss, test accuracy: [9.200422286987305, 0.37799564003944397]\n"
          ]
        }
      ]
    },
    {
      "cell_type": "code",
      "source": [
        "fig = plt.figure()\n",
        "ax = fig.add_subplot(111) #первая строка, первый столбец, первая ячейка в сетке figure\n",
        "\n",
        "plt.plot(history.history['accuracy'], label = 'Базылева Екатерина Александровна_Средняя абсолютная точность Accuracy на обучающем наборе')\n",
        "\n",
        "#Добавляем подписи к осям\n",
        "plt.xlabel('Эпоха обучения')\n",
        "ax.set_ylabel(\"Средняя абсолютная точность\")\n",
        "plt.legend()\n",
        "plt.show()\n",
        "\n",
        "#График для тестовой выборки\n",
        "plt.plot(scores, label = 'Базылева_Средняя абсолютная точность Accuracy на тестовом наборе')\n",
        "plt.legend()\n",
        "plt.show()"
      ],
      "metadata": {
        "colab": {
          "base_uri": "https://localhost:8080/",
          "height": 862
        },
        "id": "kRCorfQtabi2",
        "outputId": "a5f0c60e-5ef9-42f4-e102-78c3f9c53e85"
      },
      "execution_count": null,
      "outputs": [
        {
          "output_type": "display_data",
          "data": {
            "text/plain": [
              "<Figure size 640x480 with 1 Axes>"
            ],
            "image/png": "[encoded data removed]"
          },
          "metadata": {}
        },
        {
          "output_type": "display_data",
          "data": {
            "text/plain": [
              "<Figure size 640x480 with 1 Axes>"
            ],
            "image/png": "[encoded data removed]"
          },
          "metadata": {}
        }
      ]
    },
    {
      "cell_type": "markdown",
      "source": [],
      "metadata": {
        "id": "fqXpNlYoaa9g"
      }
    }
  ]
}